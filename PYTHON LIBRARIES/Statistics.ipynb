{
 "cells": [
  {
   "cell_type": "markdown",
   "id": "42759d95",
   "metadata": {},
   "source": [
    "### 1) Univariate Data Analysis\n",
    "#### a) Mean, Median, Mode<br>\n",
    "\n",
    "#### b) Variance<br> \n",
    "sum(xi-xmean)^2/N, population var<br>\n",
    "sum(xi-xmean)^2/(N-1), Sample var<br>\n",
    "\n",
    "#### c) Std_Deviation<br>\n",
    "sqrt(sum(xi-xmean)^2/N), population std_dev<br>\n",
    "sqrt(sum(xi-xmean)^2/(N-1)), Sample std_dev<br>\n",
    "\n",
    "#### d) Range = max - min<br>\n",
    "\n",
    "### 2) Bivaraite/Multivariate Data Analysis<br>\n",
    "#### a) Covariance<br>\n",
    "#### b) Correlation<br>"
   ]
  },
  {
   "cell_type": "code",
   "execution_count": 1,
   "id": "9a56a0ac",
   "metadata": {},
   "outputs": [],
   "source": [
    "import statistics as st"
   ]
  },
  {
   "cell_type": "markdown",
   "id": "c197edfa",
   "metadata": {},
   "source": [
    "### Univariate Data Analysis"
   ]
  },
  {
   "cell_type": "code",
   "execution_count": 2,
   "id": "bb610852",
   "metadata": {},
   "outputs": [
    {
     "name": "stdout",
     "output_type": "stream",
     "text": [
      "[12, 10, 7, 5, 18, 6, 10, 13, 19, 7]\n",
      "Mean 10.7\n",
      "Median 10.0\n",
      "Mode 10\n"
     ]
    }
   ],
   "source": [
    "s1=[12,10,7,5,18,6,10,13,19,7]\n",
    "print(s1)\n",
    "print('Mean',st.mean(s1))\n",
    "print('Median',st.median(s1))\n",
    "print('Mode',st.mode(s1))"
   ]
  },
  {
   "cell_type": "code",
   "execution_count": 3,
   "id": "2713afbf",
   "metadata": {},
   "outputs": [
    {
     "name": "stdout",
     "output_type": "stream",
     "text": [
      "Var 23.566666666666666\n",
      "Std 4.8545511292669135\n"
     ]
    }
   ],
   "source": [
    "print('Var',st.variance(s1))\n",
    "print('Std',st.stdev(s1))"
   ]
  },
  {
   "cell_type": "markdown",
   "id": "f7a527af",
   "metadata": {},
   "source": [
    "### Bi-variate Data Analysis"
   ]
  },
  {
   "cell_type": "markdown",
   "id": "c40f3414",
   "metadata": {},
   "source": [
    "#### Covariance\n",
    "\n",
    "1) It helps us understand the relationship between two variables<br>\n",
    "\n",
    "2) Its range is between -infinity to + inifinity<br>\n",
    "\n",
    "3) Covariance values are not standardized<br>\n",
    "\n",
    "4) If cov(x,y)> 0 => Positive Realtionship<br>\n",
    "    If cov(x,y)< 0 => Negative Realtionship<br>\n",
    "\n",
    "5) Positive covariance =><br>\n",
    "    If x is increasing, y also increases<br>\n",
    "    If x is decreasing, y also deccreases<br>\n",
    "\n",
    "6) Negative covariance =><br>\n",
    "    If x is increasing, y decreases<br>\n",
    "    If x is decreasing, y increases<br>\n",
    "    \n",
    "7) Formula<br>\n",
    "pop cov       cov(x,y) = sum((x-xmean) * (y-ymean))/N<br>\n",
    "samp cov      cov(x,y) = sum((x-xmean) * (y-ymean))/(N-1)<br>\n",
    "\n",
    "8) cov(x,y) = cov(y,x)<br>\n",
    "    cov(x,x) = var(x)<br>\n",
    "    cov(y,y) = var(y)<br>\n",
    "\n",
    "#### Correlation<br>\n",
    "\n",
    "1) It is the standardized version of Covariance.<br>\n",
    "\n",
    "2) It gives the strength and magnitude of relationship between 2 or more variables<br>\n",
    "\n",
    "3) It ranges from -1 to +1 where -1 indicates strong negative correlation and +1 indicates strong positive correaltion.<br>\n",
    "\n",
    "4) cov(x,y) = sum((x-xmean) * (y-ymean))/N, pop cov<br>\n",
    "\n",
    "5) corr(x,y) = sum((x-xmean) * (y-ymean)) / sqrt(sum((x-xmean)^2 * sum((y-ymean)^2))<br>\n",
    "\n",
    "6) If corr(x,y)> 0 => Positive Realtionship<br>\n",
    "    If corr(x,y)< 0 => Negative Realtionship<br>\n",
    "\n",
    "7) Positive correlation =><br>\n",
    "    If x is increasing, y also increases<br>\n",
    "    If x is decreasing, y also deccreases<br>\n",
    "\n",
    "8) Negative correlation =><br>\n",
    "    If x is increasing, y decreases<br>\n",
    "    If x is decreasing, y increases<br>\n",
    "\n",
    "9) corr(x,y) = corr(y,x)<br>\n",
    "    corr(x,x) = corr(y,y) = 1<br>"
   ]
  },
  {
   "cell_type": "code",
   "execution_count": 4,
   "id": "c7677116",
   "metadata": {},
   "outputs": [],
   "source": [
    "x = [2,5,7,8,12,17,21]\n",
    "y = [3,4,10,11,20,21,24]"
   ]
  },
  {
   "cell_type": "code",
   "execution_count": 5,
   "id": "80dcd046",
   "metadata": {},
   "outputs": [
    {
     "name": "stdout",
     "output_type": "stream",
     "text": [
      "Cov\n",
      " [[45.9047619  54.73809524]\n",
      " [54.73809524 71.23809524]]\n"
     ]
    }
   ],
   "source": [
    "import numpy as np\n",
    "print('Cov\\n',np.cov(x,y))\n",
    "# [cov(x,x),cov(x,y)]\n",
    "# [cov(y,x),cov(y,y)]\n",
    "\n",
    "# cov(x,y) = cov(y,x)\n",
    "# cov(x,x) = var(x)\n",
    "# cov(y,y) = var(y)"
   ]
  },
  {
   "cell_type": "code",
   "execution_count": 6,
   "id": "a0291d08",
   "metadata": {},
   "outputs": [
    {
     "name": "stdout",
     "output_type": "stream",
     "text": [
      "Corr\n",
      " [[1.         0.95720435]\n",
      " [0.95720435 1.        ]]\n"
     ]
    }
   ],
   "source": [
    "print('Corr\\n',np.corrcoef(x,y))\n",
    "# [corr(x,x),corr(x,y)]\n",
    "# [corr(y,x),corr(y,y)]\n",
    "#\n",
    "# corr(x,x) = corr(y,y) = 1\n",
    "# corr(x,y) = corr(y,x)"
   ]
  },
  {
   "cell_type": "markdown",
   "id": "204f1f4a",
   "metadata": {},
   "source": [
    "#### Implement Covariane, correleation, varaince and Std deviation using a custom python function"
   ]
  },
  {
   "cell_type": "code",
   "execution_count": 7,
   "id": "67cc8967",
   "metadata": {},
   "outputs": [
    {
     "name": "stdout",
     "output_type": "stream",
     "text": [
      "Var_pop 14.609375\n",
      "Var_samp 16.696428571428573\n",
      "Std_pop 3.822221212855164\n",
      "Std_samp 4.086126352846737\n"
     ]
    }
   ],
   "source": [
    "r = [15,18,24,19,18,10,14,17]\n",
    "\n",
    "def var_std(w):\n",
    "    meanw = sum(w)/len(w)\n",
    "    temp = 0\n",
    "    for i in range(len(w)):\n",
    "        temp += (w[i] - meanw)**2\n",
    "    var_pop = temp/len(w)\n",
    "    var_samp = temp/(len(w)-1)\n",
    "    std_pop = np.sqrt(var_pop)\n",
    "    std_samp = np.sqrt(var_samp)\n",
    "    print('Var_pop',var_pop)\n",
    "    print('Var_samp',var_samp)\n",
    "    print('Std_pop',std_pop)\n",
    "    print('Std_samp',std_samp)\n",
    "    \n",
    "var_std(r)"
   ]
  },
  {
   "cell_type": "code",
   "execution_count": 8,
   "id": "11893bd5",
   "metadata": {},
   "outputs": [
    {
     "name": "stdout",
     "output_type": "stream",
     "text": [
      "Var_Samp 16.696428571428573\n",
      "Std_samp 4.086126352846737\n"
     ]
    }
   ],
   "source": [
    "print('Var_Samp',st.variance(r))\n",
    "print('Std_samp',st.stdev(r))"
   ]
  },
  {
   "cell_type": "markdown",
   "id": "fe0a1b31",
   "metadata": {},
   "source": [
    "#### Custom Covariance"
   ]
  },
  {
   "cell_type": "code",
   "execution_count": 9,
   "id": "6588bc43",
   "metadata": {},
   "outputs": [
    {
     "name": "stdout",
     "output_type": "stream",
     "text": [
      "Cov_pop 46.91836734693878\n",
      "Cov_samp 54.73809523809524\n",
      "Var_pop 39.3469387755102\n",
      "Var_samp 45.904761904761905\n",
      "Std_pop 6.272713828600042\n",
      "Std_samp 6.77530529974568\n",
      "Var_pop 61.06122448979592\n",
      "Var_samp 71.23809523809524\n",
      "Std_pop 7.814168189244196\n",
      "Std_samp 8.440266301373153\n"
     ]
    }
   ],
   "source": [
    "x = [2,5,7,8,12,17,21]\n",
    "y = [3,4,10,11,20,21,24]\n",
    "\n",
    "def covar(x,y):\n",
    "    mx,my = sum(x)/len(x), sum(y)/len(y)\n",
    "    temp = 0\n",
    "    for i in range(len(x)):\n",
    "        temp += (x[i] - mx)*(y[i] - my)\n",
    "    cov_pop = temp/len(x)\n",
    "    cov_samp = temp/(len(x)-1)\n",
    "    print('Cov_pop',cov_pop)\n",
    "    print('Cov_samp',cov_samp)\n",
    "\n",
    "    \n",
    "covar(x,y)\n",
    "var_std(x)\n",
    "var_std(y)"
   ]
  },
  {
   "cell_type": "code",
   "execution_count": 10,
   "id": "bc15bdab",
   "metadata": {},
   "outputs": [
    {
     "name": "stdout",
     "output_type": "stream",
     "text": [
      "Sample Covariance\n",
      "[[45.9047619  54.73809524]\n",
      " [54.73809524 71.23809524]]\n"
     ]
    }
   ],
   "source": [
    "print('Sample Covariance')\n",
    "print(np.cov(x,y))"
   ]
  },
  {
   "cell_type": "code",
   "execution_count": 11,
   "id": "ce51fee3",
   "metadata": {},
   "outputs": [],
   "source": [
    "# cov(x,y) = sum((x-xmean) * (y-ymean))/N, pop cov\n",
    "# corr(x,y) = sum((x-xmean) * (y-ymean)) / sqrt(sum((x-xmean)^2 * sum((y-ymean)^2))"
   ]
  },
  {
   "cell_type": "code",
   "execution_count": 12,
   "id": "17aa8de6",
   "metadata": {},
   "outputs": [
    {
     "name": "stdout",
     "output_type": "stream",
     "text": [
      "Correlation 1.0\n",
      "Correlation 0.9572043462517711\n",
      "Correlation 0.9572043462517711\n",
      "Correlation 1.0\n"
     ]
    }
   ],
   "source": [
    "x = [2,5,7,8,12,17,21]\n",
    "y = [3,4,10,11,20,21,24]\n",
    "\n",
    "def correlation(x,y):\n",
    "    mx,my = sum(x)/len(x), sum(y)/len(y)\n",
    "    temp = 0\n",
    "    for i in range(len(x)):\n",
    "        temp += (x[i] - mx)*(y[i] - my)\n",
    "    xs = [(i-mx)**2 for i in x]\n",
    "    ys = [(i-my)**2 for i in y]\n",
    "    deno = np.sqrt(sum(xs)*sum(ys))\n",
    "    corr = temp/deno\n",
    "    print('Correlation',corr)\n",
    "    \n",
    "correlation(x,x)\n",
    "correlation(x,y)\n",
    "correlation(y,x)\n",
    "correlation(y,y)"
   ]
  },
  {
   "cell_type": "code",
   "execution_count": 13,
   "id": "74553051",
   "metadata": {},
   "outputs": [
    {
     "name": "stdout",
     "output_type": "stream",
     "text": [
      "Corr\n",
      "[[1.         0.95720435]\n",
      " [0.95720435 1.        ]]\n"
     ]
    }
   ],
   "source": [
    "print('Corr')\n",
    "print(np.corrcoef(x,y))"
   ]
  }
 ],
 "metadata": {
  "kernelspec": {
   "display_name": "Python 3 (ipykernel)",
   "language": "python",
   "name": "python3"
  },
  "language_info": {
   "codemirror_mode": {
    "name": "ipython",
    "version": 3
   },
   "file_extension": ".py",
   "mimetype": "text/x-python",
   "name": "python",
   "nbconvert_exporter": "python",
   "pygments_lexer": "ipython3",
   "version": "3.10.2"
  }
 },
 "nbformat": 4,
 "nbformat_minor": 5
}
