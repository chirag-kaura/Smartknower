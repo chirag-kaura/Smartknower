{
 "cells": [
  {
   "cell_type": "markdown",
   "id": "b3c29baf",
   "metadata": {},
   "source": [
    "### Rock Paper Scissor In Python\n",
    "\n",
    "1) Rock and Paper -> Paper wins<br>\n",
    "2) Paper and Scissor -> Scissor wins<br>\n",
    "3) Scissor and Rock -> Rock wins<br>"
   ]
  },
  {
   "cell_type": "code",
   "execution_count": 1,
   "id": "61c01077",
   "metadata": {},
   "outputs": [],
   "source": [
    "import random"
   ]
  },
  {
   "cell_type": "code",
   "execution_count": 2,
   "id": "0fa090a4",
   "metadata": {},
   "outputs": [
    {
     "name": "stdout",
     "output_type": "stream",
     "text": [
      "Paper\n"
     ]
    }
   ],
   "source": [
    "options = ['Rock','Paper','Scissor']\n",
    "r = random.choice(options)\n",
    "print(r)"
   ]
  },
  {
   "cell_type": "code",
   "execution_count": 3,
   "id": "7fcf080f",
   "metadata": {},
   "outputs": [
    {
     "name": "stdout",
     "output_type": "stream",
     "text": [
      "Enter your choice 1) Rock 2) Scissor 3) Paper : Rock\n",
      "User choice Rock\n",
      "Comp choice Rock\n",
      "----------------\n",
      "Tie\n"
     ]
    }
   ],
   "source": [
    "user_ch = input('Enter your choice 1) Rock 2) Scissor 3) Paper : ')\n",
    "options = ['Rock','Paper','Scissor']\n",
    "comp_ch = random.choice(options)\n",
    "print('User choice',user_ch)\n",
    "print('Comp choice',comp_ch)\n",
    "\n",
    "print('----------------')\n",
    "\n",
    "if user_ch=='Rock':\n",
    "    if comp_ch=='Paper':\n",
    "        print('Paper covers Rock. You lose')\n",
    "    elif comp_ch == 'Scissor':\n",
    "        print('Rock smashes Scissors.You win')\n",
    "    else:\n",
    "        print('Tie')\n",
    "elif user_ch == 'Scissor':\n",
    "    if comp_ch=='Paper':\n",
    "        print('Scissors cut papers. You win')\n",
    "    elif comp_ch == 'Rock':\n",
    "        print('Rock smashes Scissors.You lose')\n",
    "    else:\n",
    "        print('Tie')\n",
    "elif user_ch == 'Paper':\n",
    "    if comp_ch=='Rock':\n",
    "        print('Paper cover rock. You win')\n",
    "    elif comp_ch == 'Scissor':\n",
    "        print('Scissors cut papers. You lose')\n",
    "    else:\n",
    "        print('Tie')\n",
    "else:\n",
    "    print('Invalid option chosen')"
   ]
  }
 ],
 "metadata": {
  "kernelspec": {
   "display_name": "Python 3 (ipykernel)",
   "language": "python",
   "name": "python3"
  },
  "language_info": {
   "codemirror_mode": {
    "name": "ipython",
    "version": 3
   },
   "file_extension": ".py",
   "mimetype": "text/x-python",
   "name": "python",
   "nbconvert_exporter": "python",
   "pygments_lexer": "ipython3",
   "version": "3.10.2"
  }
 },
 "nbformat": 4,
 "nbformat_minor": 5
}
