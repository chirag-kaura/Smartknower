{
 "cells": [
  {
   "cell_type": "markdown",
   "id": "bf6c762a",
   "metadata": {},
   "source": [
    "### Feature Engineering Techniques\n",
    "\n",
    "#### 1) Handling Missing Values\n",
    "a) dropna()<br>\n",
    "b) fillna()<br>\n",
    "\n",
    "#### 2) Encoding Categorical Variables\n",
    "a) Label Encoding<br>\n",
    "b) Find and Replace<br>\n",
    "c) pd.get_dummies()<br>\n",
    "\n",
    "#### 3) Creating New Feature (Creating Date related columns)\n",
    "\n",
    "#### 4) Scaling and Standardization\n",
    "a) StandardScaler<br>\n",
    "b) MinMaxScaler<br>\n",
    "c) Normalize<br>\n",
    "\n",
    "#### 5) Binning\n",
    "\n",
    "#### 6) Groupby"
   ]
  },
  {
   "cell_type": "code",
   "execution_count": 1,
   "id": "d6413f80",
   "metadata": {},
   "outputs": [],
   "source": [
    "import pandas as pd\n",
    "import numpy as np\n",
    "import matplotlib.pyplot as plt"
   ]
  },
  {
   "cell_type": "markdown",
   "id": "8170b987",
   "metadata": {},
   "source": [
    "#### 1) Handling Missing Values"
   ]
  },
  {
   "cell_type": "code",
   "execution_count": 2,
   "id": "f5623e9b",
   "metadata": {},
   "outputs": [
    {
     "data": {
      "text/html": [
       "<div>\n",
       "<style scoped>\n",
       "    .dataframe tbody tr th:only-of-type {\n",
       "        vertical-align: middle;\n",
       "    }\n",
       "\n",
       "    .dataframe tbody tr th {\n",
       "        vertical-align: top;\n",
       "    }\n",
       "\n",
       "    .dataframe thead th {\n",
       "        text-align: right;\n",
       "    }\n",
       "</style>\n",
       "<table border=\"1\" class=\"dataframe\">\n",
       "  <thead>\n",
       "    <tr style=\"text-align: right;\">\n",
       "      <th></th>\n",
       "      <th>Prod</th>\n",
       "      <th>Sales</th>\n",
       "    </tr>\n",
       "  </thead>\n",
       "  <tbody>\n",
       "    <tr>\n",
       "      <th>0</th>\n",
       "      <td>A</td>\n",
       "      <td>120.0</td>\n",
       "    </tr>\n",
       "    <tr>\n",
       "      <th>1</th>\n",
       "      <td>B</td>\n",
       "      <td>230.0</td>\n",
       "    </tr>\n",
       "    <tr>\n",
       "      <th>2</th>\n",
       "      <td>A</td>\n",
       "      <td>150.0</td>\n",
       "    </tr>\n",
       "    <tr>\n",
       "      <th>3</th>\n",
       "      <td>C</td>\n",
       "      <td>NaN</td>\n",
       "    </tr>\n",
       "    <tr>\n",
       "      <th>4</th>\n",
       "      <td>B</td>\n",
       "      <td>100.0</td>\n",
       "    </tr>\n",
       "  </tbody>\n",
       "</table>\n",
       "</div>"
      ],
      "text/plain": [
       "  Prod  Sales\n",
       "0    A  120.0\n",
       "1    B  230.0\n",
       "2    A  150.0\n",
       "3    C    NaN\n",
       "4    B  100.0"
      ]
     },
     "execution_count": 2,
     "metadata": {},
     "output_type": "execute_result"
    }
   ],
   "source": [
    "d = {'Prod':['A','B','A','C','B','C','C','B',np.nan,'B','A','B','C','B','C'],\n",
    "    'Sales':[120,230,150,np.nan,100,80,180,240,np.nan,140,210,320,450,np.nan,200]}\n",
    "\n",
    "df = pd.DataFrame(d)\n",
    "df.head()"
   ]
  },
  {
   "cell_type": "code",
   "execution_count": 3,
   "id": "2e774651",
   "metadata": {},
   "outputs": [
    {
     "data": {
      "text/plain": [
       "(15, 2)"
      ]
     },
     "execution_count": 3,
     "metadata": {},
     "output_type": "execute_result"
    }
   ],
   "source": [
    "df.shape"
   ]
  },
  {
   "cell_type": "code",
   "execution_count": 4,
   "id": "d656a6bf",
   "metadata": {},
   "outputs": [
    {
     "data": {
      "text/plain": [
       "Prod     1\n",
       "Sales    3\n",
       "dtype: int64"
      ]
     },
     "execution_count": 4,
     "metadata": {},
     "output_type": "execute_result"
    }
   ],
   "source": [
    "df.isnull().sum()"
   ]
  },
  {
   "cell_type": "code",
   "execution_count": 5,
   "id": "298bd184",
   "metadata": {},
   "outputs": [
    {
     "data": {
      "text/html": [
       "<div>\n",
       "<style scoped>\n",
       "    .dataframe tbody tr th:only-of-type {\n",
       "        vertical-align: middle;\n",
       "    }\n",
       "\n",
       "    .dataframe tbody tr th {\n",
       "        vertical-align: top;\n",
       "    }\n",
       "\n",
       "    .dataframe thead th {\n",
       "        text-align: right;\n",
       "    }\n",
       "</style>\n",
       "<table border=\"1\" class=\"dataframe\">\n",
       "  <thead>\n",
       "    <tr style=\"text-align: right;\">\n",
       "      <th></th>\n",
       "      <th>Prod</th>\n",
       "      <th>Sales</th>\n",
       "    </tr>\n",
       "  </thead>\n",
       "  <tbody>\n",
       "    <tr>\n",
       "      <th>0</th>\n",
       "      <td>A</td>\n",
       "      <td>120.0</td>\n",
       "    </tr>\n",
       "    <tr>\n",
       "      <th>1</th>\n",
       "      <td>B</td>\n",
       "      <td>230.0</td>\n",
       "    </tr>\n",
       "    <tr>\n",
       "      <th>2</th>\n",
       "      <td>A</td>\n",
       "      <td>150.0</td>\n",
       "    </tr>\n",
       "    <tr>\n",
       "      <th>3</th>\n",
       "      <td>C</td>\n",
       "      <td>NaN</td>\n",
       "    </tr>\n",
       "    <tr>\n",
       "      <th>4</th>\n",
       "      <td>B</td>\n",
       "      <td>100.0</td>\n",
       "    </tr>\n",
       "    <tr>\n",
       "      <th>5</th>\n",
       "      <td>C</td>\n",
       "      <td>80.0</td>\n",
       "    </tr>\n",
       "    <tr>\n",
       "      <th>6</th>\n",
       "      <td>C</td>\n",
       "      <td>180.0</td>\n",
       "    </tr>\n",
       "    <tr>\n",
       "      <th>7</th>\n",
       "      <td>B</td>\n",
       "      <td>240.0</td>\n",
       "    </tr>\n",
       "    <tr>\n",
       "      <th>8</th>\n",
       "      <td>NaN</td>\n",
       "      <td>NaN</td>\n",
       "    </tr>\n",
       "    <tr>\n",
       "      <th>9</th>\n",
       "      <td>B</td>\n",
       "      <td>140.0</td>\n",
       "    </tr>\n",
       "    <tr>\n",
       "      <th>10</th>\n",
       "      <td>A</td>\n",
       "      <td>210.0</td>\n",
       "    </tr>\n",
       "    <tr>\n",
       "      <th>11</th>\n",
       "      <td>B</td>\n",
       "      <td>320.0</td>\n",
       "    </tr>\n",
       "    <tr>\n",
       "      <th>12</th>\n",
       "      <td>C</td>\n",
       "      <td>450.0</td>\n",
       "    </tr>\n",
       "    <tr>\n",
       "      <th>13</th>\n",
       "      <td>B</td>\n",
       "      <td>NaN</td>\n",
       "    </tr>\n",
       "    <tr>\n",
       "      <th>14</th>\n",
       "      <td>C</td>\n",
       "      <td>200.0</td>\n",
       "    </tr>\n",
       "  </tbody>\n",
       "</table>\n",
       "</div>"
      ],
      "text/plain": [
       "   Prod  Sales\n",
       "0     A  120.0\n",
       "1     B  230.0\n",
       "2     A  150.0\n",
       "3     C    NaN\n",
       "4     B  100.0\n",
       "5     C   80.0\n",
       "6     C  180.0\n",
       "7     B  240.0\n",
       "8   NaN    NaN\n",
       "9     B  140.0\n",
       "10    A  210.0\n",
       "11    B  320.0\n",
       "12    C  450.0\n",
       "13    B    NaN\n",
       "14    C  200.0"
      ]
     },
     "execution_count": 5,
     "metadata": {},
     "output_type": "execute_result"
    }
   ],
   "source": [
    "df1 = df.copy()\n",
    "df1"
   ]
  },
  {
   "cell_type": "markdown",
   "id": "d356c7de",
   "metadata": {},
   "source": [
    "#### a) dropna()\n",
    "1) It is used to drop/remove null values.<br>\n",
    "2) it drop the rows containing null values"
   ]
  },
  {
   "cell_type": "code",
   "execution_count": 6,
   "id": "f38938bb",
   "metadata": {},
   "outputs": [
    {
     "data": {
      "text/plain": [
       "Prod     1\n",
       "Sales    3\n",
       "dtype: int64"
      ]
     },
     "execution_count": 6,
     "metadata": {},
     "output_type": "execute_result"
    }
   ],
   "source": [
    "df1.isnull().sum()"
   ]
  },
  {
   "cell_type": "code",
   "execution_count": 7,
   "id": "98994ec4",
   "metadata": {},
   "outputs": [],
   "source": [
    "df1.dropna(inplace=True,axis=0) # axis=0 => Row wise"
   ]
  },
  {
   "cell_type": "code",
   "execution_count": 8,
   "id": "ad31b54d",
   "metadata": {},
   "outputs": [
    {
     "data": {
      "text/plain": [
       "Prod     0\n",
       "Sales    0\n",
       "dtype: int64"
      ]
     },
     "execution_count": 8,
     "metadata": {},
     "output_type": "execute_result"
    }
   ],
   "source": [
    "df1.isnull().sum()"
   ]
  },
  {
   "cell_type": "code",
   "execution_count": 9,
   "id": "a8a95744",
   "metadata": {},
   "outputs": [
    {
     "data": {
      "text/html": [
       "<div>\n",
       "<style scoped>\n",
       "    .dataframe tbody tr th:only-of-type {\n",
       "        vertical-align: middle;\n",
       "    }\n",
       "\n",
       "    .dataframe tbody tr th {\n",
       "        vertical-align: top;\n",
       "    }\n",
       "\n",
       "    .dataframe thead th {\n",
       "        text-align: right;\n",
       "    }\n",
       "</style>\n",
       "<table border=\"1\" class=\"dataframe\">\n",
       "  <thead>\n",
       "    <tr style=\"text-align: right;\">\n",
       "      <th></th>\n",
       "      <th>Prod</th>\n",
       "      <th>Sales</th>\n",
       "    </tr>\n",
       "  </thead>\n",
       "  <tbody>\n",
       "    <tr>\n",
       "      <th>0</th>\n",
       "      <td>A</td>\n",
       "      <td>120.0</td>\n",
       "    </tr>\n",
       "    <tr>\n",
       "      <th>1</th>\n",
       "      <td>B</td>\n",
       "      <td>230.0</td>\n",
       "    </tr>\n",
       "    <tr>\n",
       "      <th>2</th>\n",
       "      <td>A</td>\n",
       "      <td>150.0</td>\n",
       "    </tr>\n",
       "    <tr>\n",
       "      <th>4</th>\n",
       "      <td>B</td>\n",
       "      <td>100.0</td>\n",
       "    </tr>\n",
       "    <tr>\n",
       "      <th>5</th>\n",
       "      <td>C</td>\n",
       "      <td>80.0</td>\n",
       "    </tr>\n",
       "    <tr>\n",
       "      <th>6</th>\n",
       "      <td>C</td>\n",
       "      <td>180.0</td>\n",
       "    </tr>\n",
       "    <tr>\n",
       "      <th>7</th>\n",
       "      <td>B</td>\n",
       "      <td>240.0</td>\n",
       "    </tr>\n",
       "    <tr>\n",
       "      <th>9</th>\n",
       "      <td>B</td>\n",
       "      <td>140.0</td>\n",
       "    </tr>\n",
       "    <tr>\n",
       "      <th>10</th>\n",
       "      <td>A</td>\n",
       "      <td>210.0</td>\n",
       "    </tr>\n",
       "    <tr>\n",
       "      <th>11</th>\n",
       "      <td>B</td>\n",
       "      <td>320.0</td>\n",
       "    </tr>\n",
       "    <tr>\n",
       "      <th>12</th>\n",
       "      <td>C</td>\n",
       "      <td>450.0</td>\n",
       "    </tr>\n",
       "    <tr>\n",
       "      <th>14</th>\n",
       "      <td>C</td>\n",
       "      <td>200.0</td>\n",
       "    </tr>\n",
       "  </tbody>\n",
       "</table>\n",
       "</div>"
      ],
      "text/plain": [
       "   Prod  Sales\n",
       "0     A  120.0\n",
       "1     B  230.0\n",
       "2     A  150.0\n",
       "4     B  100.0\n",
       "5     C   80.0\n",
       "6     C  180.0\n",
       "7     B  240.0\n",
       "9     B  140.0\n",
       "10    A  210.0\n",
       "11    B  320.0\n",
       "12    C  450.0\n",
       "14    C  200.0"
      ]
     },
     "execution_count": 9,
     "metadata": {},
     "output_type": "execute_result"
    }
   ],
   "source": [
    "df1"
   ]
  },
  {
   "cell_type": "code",
   "execution_count": 10,
   "id": "5f6550a3",
   "metadata": {},
   "outputs": [
    {
     "data": {
      "text/plain": [
       "(12, 2)"
      ]
     },
     "execution_count": 10,
     "metadata": {},
     "output_type": "execute_result"
    }
   ],
   "source": [
    "df1.shape"
   ]
  },
  {
   "cell_type": "markdown",
   "id": "7924e12b",
   "metadata": {},
   "source": [
    "#### b) fillna()\n",
    "1) Fill the null value.<br>\n",
    "2) For categorical columns, we fill the null value with mostly mode of the column or we create a new category as 'Other' or 'Null', 'Not Avialable'.<br>\n",
    "3) For continuous columns, we handle the null values with methods like mean imputation, ffill,bfill, interpolate, median imputation etc."
   ]
  },
  {
   "cell_type": "code",
   "execution_count": 11,
   "id": "10c7652e",
   "metadata": {},
   "outputs": [
    {
     "data": {
      "text/plain": [
       "Prod     1\n",
       "Sales    3\n",
       "dtype: int64"
      ]
     },
     "execution_count": 11,
     "metadata": {},
     "output_type": "execute_result"
    }
   ],
   "source": [
    "df2 = df.copy()\n",
    "df2.isnull().sum()"
   ]
  },
  {
   "cell_type": "code",
   "execution_count": 12,
   "id": "be891b20",
   "metadata": {},
   "outputs": [
    {
     "data": {
      "text/html": [
       "<div>\n",
       "<style scoped>\n",
       "    .dataframe tbody tr th:only-of-type {\n",
       "        vertical-align: middle;\n",
       "    }\n",
       "\n",
       "    .dataframe tbody tr th {\n",
       "        vertical-align: top;\n",
       "    }\n",
       "\n",
       "    .dataframe thead th {\n",
       "        text-align: right;\n",
       "    }\n",
       "</style>\n",
       "<table border=\"1\" class=\"dataframe\">\n",
       "  <thead>\n",
       "    <tr style=\"text-align: right;\">\n",
       "      <th></th>\n",
       "      <th>Prod</th>\n",
       "      <th>Sales</th>\n",
       "    </tr>\n",
       "  </thead>\n",
       "  <tbody>\n",
       "    <tr>\n",
       "      <th>9</th>\n",
       "      <td>B</td>\n",
       "      <td>140.0</td>\n",
       "    </tr>\n",
       "    <tr>\n",
       "      <th>7</th>\n",
       "      <td>B</td>\n",
       "      <td>240.0</td>\n",
       "    </tr>\n",
       "    <tr>\n",
       "      <th>6</th>\n",
       "      <td>C</td>\n",
       "      <td>180.0</td>\n",
       "    </tr>\n",
       "    <tr>\n",
       "      <th>0</th>\n",
       "      <td>A</td>\n",
       "      <td>120.0</td>\n",
       "    </tr>\n",
       "    <tr>\n",
       "      <th>2</th>\n",
       "      <td>A</td>\n",
       "      <td>150.0</td>\n",
       "    </tr>\n",
       "  </tbody>\n",
       "</table>\n",
       "</div>"
      ],
      "text/plain": [
       "  Prod  Sales\n",
       "9    B  140.0\n",
       "7    B  240.0\n",
       "6    C  180.0\n",
       "0    A  120.0\n",
       "2    A  150.0"
      ]
     },
     "execution_count": 12,
     "metadata": {},
     "output_type": "execute_result"
    }
   ],
   "source": [
    "df2.sample(5)"
   ]
  },
  {
   "cell_type": "code",
   "execution_count": 13,
   "id": "9decdac9",
   "metadata": {},
   "outputs": [
    {
     "data": {
      "text/plain": [
       "B    6\n",
       "C    5\n",
       "A    3\n",
       "Name: Prod, dtype: int64"
      ]
     },
     "execution_count": 13,
     "metadata": {},
     "output_type": "execute_result"
    }
   ],
   "source": [
    "df['Prod'].value_counts()"
   ]
  },
  {
   "cell_type": "code",
   "execution_count": 14,
   "id": "3b89bc9c",
   "metadata": {},
   "outputs": [
    {
     "data": {
      "text/plain": [
       "Prod     1\n",
       "Sales    0\n",
       "dtype: int64"
      ]
     },
     "execution_count": 14,
     "metadata": {},
     "output_type": "execute_result"
    }
   ],
   "source": [
    "df2['Sales'].fillna(df2['Sales'].mean(),inplace=True)\n",
    "df2.isnull().sum()"
   ]
  },
  {
   "cell_type": "code",
   "execution_count": 15,
   "id": "2bff522a",
   "metadata": {},
   "outputs": [
    {
     "data": {
      "text/html": [
       "<div>\n",
       "<style scoped>\n",
       "    .dataframe tbody tr th:only-of-type {\n",
       "        vertical-align: middle;\n",
       "    }\n",
       "\n",
       "    .dataframe tbody tr th {\n",
       "        vertical-align: top;\n",
       "    }\n",
       "\n",
       "    .dataframe thead th {\n",
       "        text-align: right;\n",
       "    }\n",
       "</style>\n",
       "<table border=\"1\" class=\"dataframe\">\n",
       "  <thead>\n",
       "    <tr style=\"text-align: right;\">\n",
       "      <th></th>\n",
       "      <th>Prod</th>\n",
       "      <th>Sales</th>\n",
       "    </tr>\n",
       "  </thead>\n",
       "  <tbody>\n",
       "    <tr>\n",
       "      <th>0</th>\n",
       "      <td>A</td>\n",
       "      <td>120.000000</td>\n",
       "    </tr>\n",
       "    <tr>\n",
       "      <th>1</th>\n",
       "      <td>B</td>\n",
       "      <td>230.000000</td>\n",
       "    </tr>\n",
       "    <tr>\n",
       "      <th>2</th>\n",
       "      <td>A</td>\n",
       "      <td>150.000000</td>\n",
       "    </tr>\n",
       "    <tr>\n",
       "      <th>3</th>\n",
       "      <td>C</td>\n",
       "      <td>201.666667</td>\n",
       "    </tr>\n",
       "    <tr>\n",
       "      <th>4</th>\n",
       "      <td>B</td>\n",
       "      <td>100.000000</td>\n",
       "    </tr>\n",
       "  </tbody>\n",
       "</table>\n",
       "</div>"
      ],
      "text/plain": [
       "  Prod       Sales\n",
       "0    A  120.000000\n",
       "1    B  230.000000\n",
       "2    A  150.000000\n",
       "3    C  201.666667\n",
       "4    B  100.000000"
      ]
     },
     "execution_count": 15,
     "metadata": {},
     "output_type": "execute_result"
    }
   ],
   "source": [
    "df2.head()"
   ]
  },
  {
   "cell_type": "code",
   "execution_count": 16,
   "id": "0b3da61c",
   "metadata": {},
   "outputs": [
    {
     "data": {
      "text/plain": [
       "B    6\n",
       "C    5\n",
       "A    3\n",
       "Name: Prod, dtype: int64"
      ]
     },
     "execution_count": 16,
     "metadata": {},
     "output_type": "execute_result"
    }
   ],
   "source": [
    "df2['Prod'].value_counts()"
   ]
  },
  {
   "cell_type": "code",
   "execution_count": 17,
   "id": "1a01954c",
   "metadata": {},
   "outputs": [
    {
     "data": {
      "text/plain": [
       "Prod     0\n",
       "Sales    0\n",
       "dtype: int64"
      ]
     },
     "execution_count": 17,
     "metadata": {},
     "output_type": "execute_result"
    }
   ],
   "source": [
    "df2['Prod'].fillna('B',inplace=True)\n",
    "df2.isnull().sum()"
   ]
  },
  {
   "cell_type": "code",
   "execution_count": 18,
   "id": "dace82b8",
   "metadata": {},
   "outputs": [
    {
     "data": {
      "text/html": [
       "<div>\n",
       "<style scoped>\n",
       "    .dataframe tbody tr th:only-of-type {\n",
       "        vertical-align: middle;\n",
       "    }\n",
       "\n",
       "    .dataframe tbody tr th {\n",
       "        vertical-align: top;\n",
       "    }\n",
       "\n",
       "    .dataframe thead th {\n",
       "        text-align: right;\n",
       "    }\n",
       "</style>\n",
       "<table border=\"1\" class=\"dataframe\">\n",
       "  <thead>\n",
       "    <tr style=\"text-align: right;\">\n",
       "      <th></th>\n",
       "      <th>Prod</th>\n",
       "      <th>Sales</th>\n",
       "    </tr>\n",
       "  </thead>\n",
       "  <tbody>\n",
       "    <tr>\n",
       "      <th>0</th>\n",
       "      <td>A</td>\n",
       "      <td>120.000000</td>\n",
       "    </tr>\n",
       "    <tr>\n",
       "      <th>1</th>\n",
       "      <td>B</td>\n",
       "      <td>230.000000</td>\n",
       "    </tr>\n",
       "    <tr>\n",
       "      <th>2</th>\n",
       "      <td>A</td>\n",
       "      <td>150.000000</td>\n",
       "    </tr>\n",
       "    <tr>\n",
       "      <th>3</th>\n",
       "      <td>C</td>\n",
       "      <td>201.666667</td>\n",
       "    </tr>\n",
       "    <tr>\n",
       "      <th>4</th>\n",
       "      <td>B</td>\n",
       "      <td>100.000000</td>\n",
       "    </tr>\n",
       "  </tbody>\n",
       "</table>\n",
       "</div>"
      ],
      "text/plain": [
       "  Prod       Sales\n",
       "0    A  120.000000\n",
       "1    B  230.000000\n",
       "2    A  150.000000\n",
       "3    C  201.666667\n",
       "4    B  100.000000"
      ]
     },
     "execution_count": 18,
     "metadata": {},
     "output_type": "execute_result"
    }
   ],
   "source": [
    "df2.head()"
   ]
  },
  {
   "cell_type": "markdown",
   "id": "3a15484c",
   "metadata": {},
   "source": [
    "### 2) Encoding Categorical Columns\n",
    "1) Label Encoding<br>\n",
    "2) find and replace<br>\n",
    "3) pd.get_dummies()<br>"
   ]
  },
  {
   "cell_type": "code",
   "execution_count": 19,
   "id": "cecc7acf",
   "metadata": {},
   "outputs": [
    {
     "data": {
      "text/html": [
       "<div>\n",
       "<style scoped>\n",
       "    .dataframe tbody tr th:only-of-type {\n",
       "        vertical-align: middle;\n",
       "    }\n",
       "\n",
       "    .dataframe tbody tr th {\n",
       "        vertical-align: top;\n",
       "    }\n",
       "\n",
       "    .dataframe thead th {\n",
       "        text-align: right;\n",
       "    }\n",
       "</style>\n",
       "<table border=\"1\" class=\"dataframe\">\n",
       "  <thead>\n",
       "    <tr style=\"text-align: right;\">\n",
       "      <th></th>\n",
       "      <th>State</th>\n",
       "      <th>Month</th>\n",
       "      <th>Prod</th>\n",
       "    </tr>\n",
       "  </thead>\n",
       "  <tbody>\n",
       "    <tr>\n",
       "      <th>0</th>\n",
       "      <td>UP</td>\n",
       "      <td>Jan</td>\n",
       "      <td>A1</td>\n",
       "    </tr>\n",
       "    <tr>\n",
       "      <th>1</th>\n",
       "      <td>MP</td>\n",
       "      <td>Feb</td>\n",
       "      <td>B2</td>\n",
       "    </tr>\n",
       "    <tr>\n",
       "      <th>2</th>\n",
       "      <td>Goa</td>\n",
       "      <td>Apr</td>\n",
       "      <td>A1</td>\n",
       "    </tr>\n",
       "    <tr>\n",
       "      <th>3</th>\n",
       "      <td>AP</td>\n",
       "      <td>Mar</td>\n",
       "      <td>B1</td>\n",
       "    </tr>\n",
       "    <tr>\n",
       "      <th>4</th>\n",
       "      <td>Goa</td>\n",
       "      <td>Feb</td>\n",
       "      <td>C2</td>\n",
       "    </tr>\n",
       "  </tbody>\n",
       "</table>\n",
       "</div>"
      ],
      "text/plain": [
       "  State Month Prod\n",
       "0    UP   Jan   A1\n",
       "1    MP   Feb   B2\n",
       "2   Goa   Apr   A1\n",
       "3    AP   Mar   B1\n",
       "4   Goa   Feb   C2"
      ]
     },
     "execution_count": 19,
     "metadata": {},
     "output_type": "execute_result"
    }
   ],
   "source": [
    "d1 = {'State' :['UP','MP','Goa','AP','Goa','UP','MP'],\n",
    "     'Month':['Jan','Feb','Apr','Mar','Feb','Apr','Apr'],\n",
    "     'Prod':['A1','B2','A1','B1','C2','C2','B2']}\n",
    "dfcc = pd.DataFrame(d1)\n",
    "dfcc.head()"
   ]
  },
  {
   "cell_type": "code",
   "execution_count": 20,
   "id": "70cb8280",
   "metadata": {},
   "outputs": [
    {
     "data": {
      "text/plain": [
       "(7, 3)"
      ]
     },
     "execution_count": 20,
     "metadata": {},
     "output_type": "execute_result"
    }
   ],
   "source": [
    "dfcc.shape"
   ]
  },
  {
   "cell_type": "code",
   "execution_count": 21,
   "id": "761f3b73",
   "metadata": {},
   "outputs": [
    {
     "data": {
      "text/plain": [
       "State    object\n",
       "Month    object\n",
       "Prod     object\n",
       "dtype: object"
      ]
     },
     "execution_count": 21,
     "metadata": {},
     "output_type": "execute_result"
    }
   ],
   "source": [
    "dfcc.dtypes"
   ]
  },
  {
   "cell_type": "markdown",
   "id": "ae756fa4",
   "metadata": {},
   "source": [
    "#### a) Label Encoding"
   ]
  },
  {
   "cell_type": "code",
   "execution_count": 22,
   "id": "b02963ba",
   "metadata": {},
   "outputs": [],
   "source": [
    "from sklearn.preprocessing import LabelEncoder\n",
    "lb = LabelEncoder()"
   ]
  },
  {
   "cell_type": "code",
   "execution_count": 23,
   "id": "75192b86",
   "metadata": {},
   "outputs": [
    {
     "data": {
      "text/plain": [
       "Apr    3\n",
       "Feb    2\n",
       "Jan    1\n",
       "Mar    1\n",
       "Name: Month, dtype: int64"
      ]
     },
     "execution_count": 23,
     "metadata": {},
     "output_type": "execute_result"
    }
   ],
   "source": [
    "dfcc['Month'].value_counts()"
   ]
  },
  {
   "cell_type": "code",
   "execution_count": 24,
   "id": "5cdf4722",
   "metadata": {},
   "outputs": [
    {
     "data": {
      "text/plain": [
       "0    3\n",
       "1    2\n",
       "2    1\n",
       "3    1\n",
       "Name: Month, dtype: int64"
      ]
     },
     "execution_count": 24,
     "metadata": {},
     "output_type": "execute_result"
    }
   ],
   "source": [
    "dfcc['Month'] = lb.fit_transform(dfcc['Month'])\n",
    "dfcc['Month'].value_counts()"
   ]
  },
  {
   "cell_type": "code",
   "execution_count": 25,
   "id": "eddb6bfc",
   "metadata": {},
   "outputs": [
    {
     "data": {
      "text/plain": [
       "State    object\n",
       "Month     int32\n",
       "Prod     object\n",
       "dtype: object"
      ]
     },
     "execution_count": 25,
     "metadata": {},
     "output_type": "execute_result"
    }
   ],
   "source": [
    "dfcc.dtypes"
   ]
  },
  {
   "cell_type": "markdown",
   "id": "3a1d9fbb",
   "metadata": {},
   "source": [
    "#### b) Find and replace"
   ]
  },
  {
   "cell_type": "code",
   "execution_count": 26,
   "id": "448fe673",
   "metadata": {},
   "outputs": [
    {
     "data": {
      "text/plain": [
       "UP     2\n",
       "MP     2\n",
       "Goa    2\n",
       "AP     1\n",
       "Name: State, dtype: int64"
      ]
     },
     "execution_count": 26,
     "metadata": {},
     "output_type": "execute_result"
    }
   ],
   "source": [
    "dfcc['State'].value_counts()"
   ]
  },
  {
   "cell_type": "code",
   "execution_count": 27,
   "id": "d74d4103",
   "metadata": {},
   "outputs": [
    {
     "data": {
      "text/plain": [
       "10    2\n",
       "20    2\n",
       "15    2\n",
       "25    1\n",
       "Name: State, dtype: int64"
      ]
     },
     "execution_count": 27,
     "metadata": {},
     "output_type": "execute_result"
    }
   ],
   "source": [
    "dfcc['State'] = dfcc['State'].replace({'UP':10,'Goa':15,'MP':20,'AP':25})\n",
    "dfcc['State'].value_counts()"
   ]
  },
  {
   "cell_type": "code",
   "execution_count": 28,
   "id": "bad185da",
   "metadata": {},
   "outputs": [
    {
     "data": {
      "text/plain": [
       "State     int64\n",
       "Month     int32\n",
       "Prod     object\n",
       "dtype: object"
      ]
     },
     "execution_count": 28,
     "metadata": {},
     "output_type": "execute_result"
    }
   ],
   "source": [
    "dfcc.dtypes"
   ]
  },
  {
   "cell_type": "code",
   "execution_count": 29,
   "id": "45968d8b",
   "metadata": {},
   "outputs": [
    {
     "data": {
      "text/html": [
       "<div>\n",
       "<style scoped>\n",
       "    .dataframe tbody tr th:only-of-type {\n",
       "        vertical-align: middle;\n",
       "    }\n",
       "\n",
       "    .dataframe tbody tr th {\n",
       "        vertical-align: top;\n",
       "    }\n",
       "\n",
       "    .dataframe thead th {\n",
       "        text-align: right;\n",
       "    }\n",
       "</style>\n",
       "<table border=\"1\" class=\"dataframe\">\n",
       "  <thead>\n",
       "    <tr style=\"text-align: right;\">\n",
       "      <th></th>\n",
       "      <th>State</th>\n",
       "      <th>Month</th>\n",
       "      <th>Prod</th>\n",
       "    </tr>\n",
       "  </thead>\n",
       "  <tbody>\n",
       "    <tr>\n",
       "      <th>0</th>\n",
       "      <td>10</td>\n",
       "      <td>2</td>\n",
       "      <td>A1</td>\n",
       "    </tr>\n",
       "    <tr>\n",
       "      <th>1</th>\n",
       "      <td>20</td>\n",
       "      <td>1</td>\n",
       "      <td>B2</td>\n",
       "    </tr>\n",
       "    <tr>\n",
       "      <th>2</th>\n",
       "      <td>15</td>\n",
       "      <td>0</td>\n",
       "      <td>A1</td>\n",
       "    </tr>\n",
       "    <tr>\n",
       "      <th>3</th>\n",
       "      <td>25</td>\n",
       "      <td>3</td>\n",
       "      <td>B1</td>\n",
       "    </tr>\n",
       "    <tr>\n",
       "      <th>4</th>\n",
       "      <td>15</td>\n",
       "      <td>1</td>\n",
       "      <td>C2</td>\n",
       "    </tr>\n",
       "  </tbody>\n",
       "</table>\n",
       "</div>"
      ],
      "text/plain": [
       "   State  Month Prod\n",
       "0     10      2   A1\n",
       "1     20      1   B2\n",
       "2     15      0   A1\n",
       "3     25      3   B1\n",
       "4     15      1   C2"
      ]
     },
     "execution_count": 29,
     "metadata": {},
     "output_type": "execute_result"
    }
   ],
   "source": [
    "dfcc.head()"
   ]
  },
  {
   "cell_type": "code",
   "execution_count": 30,
   "id": "86cd45c5",
   "metadata": {},
   "outputs": [
    {
     "data": {
      "text/plain": [
       "A1    2\n",
       "B2    2\n",
       "C2    2\n",
       "B1    1\n",
       "Name: Prod, dtype: int64"
      ]
     },
     "execution_count": 30,
     "metadata": {},
     "output_type": "execute_result"
    }
   ],
   "source": [
    "dfcc['Prod'].value_counts()"
   ]
  },
  {
   "cell_type": "markdown",
   "id": "69ebfd2c",
   "metadata": {},
   "source": [
    "#### c) pd.get_dummies()\n",
    "1) It genearates a dataframe.<br>\n",
    "2) It creates as many columns as there are categories in the columns that needs to be encoded"
   ]
  },
  {
   "cell_type": "code",
   "execution_count": 31,
   "id": "d3ec9602",
   "metadata": {},
   "outputs": [
    {
     "data": {
      "text/html": [
       "<div>\n",
       "<style scoped>\n",
       "    .dataframe tbody tr th:only-of-type {\n",
       "        vertical-align: middle;\n",
       "    }\n",
       "\n",
       "    .dataframe tbody tr th {\n",
       "        vertical-align: top;\n",
       "    }\n",
       "\n",
       "    .dataframe thead th {\n",
       "        text-align: right;\n",
       "    }\n",
       "</style>\n",
       "<table border=\"1\" class=\"dataframe\">\n",
       "  <thead>\n",
       "    <tr style=\"text-align: right;\">\n",
       "      <th></th>\n",
       "      <th>State</th>\n",
       "      <th>Month</th>\n",
       "      <th>Prod_A1</th>\n",
       "      <th>Prod_B1</th>\n",
       "      <th>Prod_B2</th>\n",
       "      <th>Prod_C2</th>\n",
       "    </tr>\n",
       "  </thead>\n",
       "  <tbody>\n",
       "    <tr>\n",
       "      <th>0</th>\n",
       "      <td>10</td>\n",
       "      <td>2</td>\n",
       "      <td>1</td>\n",
       "      <td>0</td>\n",
       "      <td>0</td>\n",
       "      <td>0</td>\n",
       "    </tr>\n",
       "    <tr>\n",
       "      <th>1</th>\n",
       "      <td>20</td>\n",
       "      <td>1</td>\n",
       "      <td>0</td>\n",
       "      <td>0</td>\n",
       "      <td>1</td>\n",
       "      <td>0</td>\n",
       "    </tr>\n",
       "    <tr>\n",
       "      <th>2</th>\n",
       "      <td>15</td>\n",
       "      <td>0</td>\n",
       "      <td>1</td>\n",
       "      <td>0</td>\n",
       "      <td>0</td>\n",
       "      <td>0</td>\n",
       "    </tr>\n",
       "    <tr>\n",
       "      <th>3</th>\n",
       "      <td>25</td>\n",
       "      <td>3</td>\n",
       "      <td>0</td>\n",
       "      <td>1</td>\n",
       "      <td>0</td>\n",
       "      <td>0</td>\n",
       "    </tr>\n",
       "    <tr>\n",
       "      <th>4</th>\n",
       "      <td>15</td>\n",
       "      <td>1</td>\n",
       "      <td>0</td>\n",
       "      <td>0</td>\n",
       "      <td>0</td>\n",
       "      <td>1</td>\n",
       "    </tr>\n",
       "    <tr>\n",
       "      <th>5</th>\n",
       "      <td>10</td>\n",
       "      <td>0</td>\n",
       "      <td>0</td>\n",
       "      <td>0</td>\n",
       "      <td>0</td>\n",
       "      <td>1</td>\n",
       "    </tr>\n",
       "    <tr>\n",
       "      <th>6</th>\n",
       "      <td>20</td>\n",
       "      <td>0</td>\n",
       "      <td>0</td>\n",
       "      <td>0</td>\n",
       "      <td>1</td>\n",
       "      <td>0</td>\n",
       "    </tr>\n",
       "  </tbody>\n",
       "</table>\n",
       "</div>"
      ],
      "text/plain": [
       "   State  Month  Prod_A1  Prod_B1  Prod_B2  Prod_C2\n",
       "0     10      2        1        0        0        0\n",
       "1     20      1        0        0        1        0\n",
       "2     15      0        1        0        0        0\n",
       "3     25      3        0        1        0        0\n",
       "4     15      1        0        0        0        1\n",
       "5     10      0        0        0        0        1\n",
       "6     20      0        0        0        1        0"
      ]
     },
     "execution_count": 31,
     "metadata": {},
     "output_type": "execute_result"
    }
   ],
   "source": [
    "dfcc2 = pd.get_dummies(data=dfcc,columns=['Prod'])\n",
    "dfcc2"
   ]
  },
  {
   "cell_type": "markdown",
   "id": "a1bbbe59",
   "metadata": {},
   "source": [
    "### 3) Creating New Columns (Date related columns)"
   ]
  },
  {
   "cell_type": "code",
   "execution_count": 32,
   "id": "0a54c045",
   "metadata": {},
   "outputs": [
    {
     "data": {
      "text/html": [
       "<div>\n",
       "<style scoped>\n",
       "    .dataframe tbody tr th:only-of-type {\n",
       "        vertical-align: middle;\n",
       "    }\n",
       "\n",
       "    .dataframe tbody tr th {\n",
       "        vertical-align: top;\n",
       "    }\n",
       "\n",
       "    .dataframe thead th {\n",
       "        text-align: right;\n",
       "    }\n",
       "</style>\n",
       "<table border=\"1\" class=\"dataframe\">\n",
       "  <thead>\n",
       "    <tr style=\"text-align: right;\">\n",
       "      <th></th>\n",
       "      <th>Dates</th>\n",
       "    </tr>\n",
       "  </thead>\n",
       "  <tbody>\n",
       "    <tr>\n",
       "      <th>0</th>\n",
       "      <td>2019-03-19</td>\n",
       "    </tr>\n",
       "    <tr>\n",
       "      <th>1</th>\n",
       "      <td>2022-10-12</td>\n",
       "    </tr>\n",
       "    <tr>\n",
       "      <th>2</th>\n",
       "      <td>2021-07-05</td>\n",
       "    </tr>\n",
       "    <tr>\n",
       "      <th>3</th>\n",
       "      <td>2020-01-26</td>\n",
       "    </tr>\n",
       "    <tr>\n",
       "      <th>4</th>\n",
       "      <td>2021-05-24</td>\n",
       "    </tr>\n",
       "  </tbody>\n",
       "</table>\n",
       "</div>"
      ],
      "text/plain": [
       "        Dates\n",
       "0  2019-03-19\n",
       "1  2022-10-12\n",
       "2  2021-07-05\n",
       "3  2020-01-26\n",
       "4  2021-05-24"
      ]
     },
     "execution_count": 32,
     "metadata": {},
     "output_type": "execute_result"
    }
   ],
   "source": [
    "# Date-Format : YYYY-MM-DD  or YYYY/MM/DD\n",
    "d3 = {'Dates':['2019-03-19','2022-10-12','2021-07-05','2020-01-26','2021-05-24']}\n",
    "dw = pd.DataFrame(d3)\n",
    "dw.head()"
   ]
  },
  {
   "cell_type": "markdown",
   "id": "4d89c592",
   "metadata": {},
   "source": [
    "#### Q) How to create Year, Quarter, Month, Date, week columns from Dates column in dataframe dw"
   ]
  },
  {
   "cell_type": "code",
   "execution_count": 33,
   "id": "75246c6a",
   "metadata": {},
   "outputs": [
    {
     "data": {
      "text/plain": [
       "Dates    object\n",
       "dtype: object"
      ]
     },
     "execution_count": 33,
     "metadata": {},
     "output_type": "execute_result"
    }
   ],
   "source": [
    "dw.dtypes"
   ]
  },
  {
   "cell_type": "code",
   "execution_count": 34,
   "id": "a940f528",
   "metadata": {},
   "outputs": [
    {
     "data": {
      "text/plain": [
       "Dates    datetime64[ns]\n",
       "dtype: object"
      ]
     },
     "execution_count": 34,
     "metadata": {},
     "output_type": "execute_result"
    }
   ],
   "source": [
    "dw['Dates'] = pd.to_datetime(dw['Dates'])\n",
    "dw.dtypes"
   ]
  },
  {
   "cell_type": "code",
   "execution_count": 35,
   "id": "124afe86",
   "metadata": {},
   "outputs": [
    {
     "data": {
      "text/html": [
       "<div>\n",
       "<style scoped>\n",
       "    .dataframe tbody tr th:only-of-type {\n",
       "        vertical-align: middle;\n",
       "    }\n",
       "\n",
       "    .dataframe tbody tr th {\n",
       "        vertical-align: top;\n",
       "    }\n",
       "\n",
       "    .dataframe thead th {\n",
       "        text-align: right;\n",
       "    }\n",
       "</style>\n",
       "<table border=\"1\" class=\"dataframe\">\n",
       "  <thead>\n",
       "    <tr style=\"text-align: right;\">\n",
       "      <th></th>\n",
       "      <th>Dates</th>\n",
       "      <th>Year</th>\n",
       "      <th>Quarter</th>\n",
       "      <th>Month</th>\n",
       "      <th>Day</th>\n",
       "    </tr>\n",
       "  </thead>\n",
       "  <tbody>\n",
       "    <tr>\n",
       "      <th>0</th>\n",
       "      <td>2019-03-19</td>\n",
       "      <td>2019</td>\n",
       "      <td>1</td>\n",
       "      <td>3</td>\n",
       "      <td>19</td>\n",
       "    </tr>\n",
       "    <tr>\n",
       "      <th>1</th>\n",
       "      <td>2022-10-12</td>\n",
       "      <td>2022</td>\n",
       "      <td>4</td>\n",
       "      <td>10</td>\n",
       "      <td>12</td>\n",
       "    </tr>\n",
       "    <tr>\n",
       "      <th>2</th>\n",
       "      <td>2021-07-05</td>\n",
       "      <td>2021</td>\n",
       "      <td>3</td>\n",
       "      <td>7</td>\n",
       "      <td>5</td>\n",
       "    </tr>\n",
       "    <tr>\n",
       "      <th>3</th>\n",
       "      <td>2020-01-26</td>\n",
       "      <td>2020</td>\n",
       "      <td>1</td>\n",
       "      <td>1</td>\n",
       "      <td>26</td>\n",
       "    </tr>\n",
       "    <tr>\n",
       "      <th>4</th>\n",
       "      <td>2021-05-24</td>\n",
       "      <td>2021</td>\n",
       "      <td>2</td>\n",
       "      <td>5</td>\n",
       "      <td>24</td>\n",
       "    </tr>\n",
       "  </tbody>\n",
       "</table>\n",
       "</div>"
      ],
      "text/plain": [
       "       Dates  Year  Quarter  Month  Day\n",
       "0 2019-03-19  2019        1      3   19\n",
       "1 2022-10-12  2022        4     10   12\n",
       "2 2021-07-05  2021        3      7    5\n",
       "3 2020-01-26  2020        1      1   26\n",
       "4 2021-05-24  2021        2      5   24"
      ]
     },
     "execution_count": 35,
     "metadata": {},
     "output_type": "execute_result"
    }
   ],
   "source": [
    "dw['Year'] = dw['Dates'].dt.year\n",
    "dw['Quarter'] = dw['Dates'].dt.quarter\n",
    "dw['Month'] = dw['Dates'].dt.month\n",
    "dw['Day'] = dw['Dates'].dt.day\n",
    "dw.head()"
   ]
  },
  {
   "cell_type": "code",
   "execution_count": 36,
   "id": "244b6c04",
   "metadata": {},
   "outputs": [
    {
     "name": "stderr",
     "output_type": "stream",
     "text": [
      "C:\\Users\\world\\AppData\\Local\\Temp\\ipykernel_13232\\4050171463.py:2: FutureWarning: Series.dt.weekofyear and Series.dt.week have been deprecated. Please use Series.dt.isocalendar().week instead.\n",
      "  dw['Week_Num'] = dw['Dates'].dt.week\n"
     ]
    },
    {
     "data": {
      "text/html": [
       "<div>\n",
       "<style scoped>\n",
       "    .dataframe tbody tr th:only-of-type {\n",
       "        vertical-align: middle;\n",
       "    }\n",
       "\n",
       "    .dataframe tbody tr th {\n",
       "        vertical-align: top;\n",
       "    }\n",
       "\n",
       "    .dataframe thead th {\n",
       "        text-align: right;\n",
       "    }\n",
       "</style>\n",
       "<table border=\"1\" class=\"dataframe\">\n",
       "  <thead>\n",
       "    <tr style=\"text-align: right;\">\n",
       "      <th></th>\n",
       "      <th>Dates</th>\n",
       "      <th>Year</th>\n",
       "      <th>Quarter</th>\n",
       "      <th>Month</th>\n",
       "      <th>Day</th>\n",
       "      <th>Weekday</th>\n",
       "      <th>Week_Num</th>\n",
       "    </tr>\n",
       "  </thead>\n",
       "  <tbody>\n",
       "    <tr>\n",
       "      <th>0</th>\n",
       "      <td>2019-03-19</td>\n",
       "      <td>2019</td>\n",
       "      <td>1</td>\n",
       "      <td>3</td>\n",
       "      <td>19</td>\n",
       "      <td>1</td>\n",
       "      <td>12</td>\n",
       "    </tr>\n",
       "    <tr>\n",
       "      <th>1</th>\n",
       "      <td>2022-10-12</td>\n",
       "      <td>2022</td>\n",
       "      <td>4</td>\n",
       "      <td>10</td>\n",
       "      <td>12</td>\n",
       "      <td>2</td>\n",
       "      <td>41</td>\n",
       "    </tr>\n",
       "    <tr>\n",
       "      <th>2</th>\n",
       "      <td>2021-07-05</td>\n",
       "      <td>2021</td>\n",
       "      <td>3</td>\n",
       "      <td>7</td>\n",
       "      <td>5</td>\n",
       "      <td>0</td>\n",
       "      <td>27</td>\n",
       "    </tr>\n",
       "    <tr>\n",
       "      <th>3</th>\n",
       "      <td>2020-01-26</td>\n",
       "      <td>2020</td>\n",
       "      <td>1</td>\n",
       "      <td>1</td>\n",
       "      <td>26</td>\n",
       "      <td>6</td>\n",
       "      <td>4</td>\n",
       "    </tr>\n",
       "    <tr>\n",
       "      <th>4</th>\n",
       "      <td>2021-05-24</td>\n",
       "      <td>2021</td>\n",
       "      <td>2</td>\n",
       "      <td>5</td>\n",
       "      <td>24</td>\n",
       "      <td>0</td>\n",
       "      <td>21</td>\n",
       "    </tr>\n",
       "  </tbody>\n",
       "</table>\n",
       "</div>"
      ],
      "text/plain": [
       "       Dates  Year  Quarter  Month  Day  Weekday  Week_Num\n",
       "0 2019-03-19  2019        1      3   19        1        12\n",
       "1 2022-10-12  2022        4     10   12        2        41\n",
       "2 2021-07-05  2021        3      7    5        0        27\n",
       "3 2020-01-26  2020        1      1   26        6         4\n",
       "4 2021-05-24  2021        2      5   24        0        21"
      ]
     },
     "execution_count": 36,
     "metadata": {},
     "output_type": "execute_result"
    }
   ],
   "source": [
    "dw['Weekday'] = dw['Dates'].dt.weekday\n",
    "dw['Week_Num'] = dw['Dates'].dt.week\n",
    "dw.head()"
   ]
  },
  {
   "cell_type": "markdown",
   "id": "06990618",
   "metadata": {},
   "source": [
    "### 4) Scaling, Standardization and Normalization"
   ]
  },
  {
   "cell_type": "markdown",
   "id": "cfb43979",
   "metadata": {},
   "source": [
    "#### a) normalize\n",
    "1) It returns a numpy array"
   ]
  },
  {
   "cell_type": "code",
   "execution_count": 37,
   "id": "143ca0ba",
   "metadata": {},
   "outputs": [],
   "source": [
    "from sklearn.preprocessing import normalize"
   ]
  },
  {
   "cell_type": "code",
   "execution_count": 38,
   "id": "3096dd84",
   "metadata": {},
   "outputs": [
    {
     "data": {
      "text/html": [
       "<div>\n",
       "<style scoped>\n",
       "    .dataframe tbody tr th:only-of-type {\n",
       "        vertical-align: middle;\n",
       "    }\n",
       "\n",
       "    .dataframe tbody tr th {\n",
       "        vertical-align: top;\n",
       "    }\n",
       "\n",
       "    .dataframe thead th {\n",
       "        text-align: right;\n",
       "    }\n",
       "</style>\n",
       "<table border=\"1\" class=\"dataframe\">\n",
       "  <thead>\n",
       "    <tr style=\"text-align: right;\">\n",
       "      <th></th>\n",
       "      <th>x1</th>\n",
       "      <th>x2</th>\n",
       "    </tr>\n",
       "  </thead>\n",
       "  <tbody>\n",
       "    <tr>\n",
       "      <th>0</th>\n",
       "      <td>1</td>\n",
       "      <td>6</td>\n",
       "    </tr>\n",
       "    <tr>\n",
       "      <th>1</th>\n",
       "      <td>2</td>\n",
       "      <td>7</td>\n",
       "    </tr>\n",
       "    <tr>\n",
       "      <th>2</th>\n",
       "      <td>3</td>\n",
       "      <td>8</td>\n",
       "    </tr>\n",
       "    <tr>\n",
       "      <th>3</th>\n",
       "      <td>4</td>\n",
       "      <td>9</td>\n",
       "    </tr>\n",
       "    <tr>\n",
       "      <th>4</th>\n",
       "      <td>5</td>\n",
       "      <td>10</td>\n",
       "    </tr>\n",
       "  </tbody>\n",
       "</table>\n",
       "</div>"
      ],
      "text/plain": [
       "   x1  x2\n",
       "0   1   6\n",
       "1   2   7\n",
       "2   3   8\n",
       "3   4   9\n",
       "4   5  10"
      ]
     },
     "execution_count": 38,
     "metadata": {},
     "output_type": "execute_result"
    }
   ],
   "source": [
    "d3 = {'x1':[1,2,3,4,5],\n",
    "     'x2': [6,7,8,9,10]}\n",
    "dfn =  pd.DataFrame(d3)\n",
    "dfn"
   ]
  },
  {
   "cell_type": "code",
   "execution_count": 39,
   "id": "957d640f",
   "metadata": {},
   "outputs": [
    {
     "data": {
      "text/plain": [
       "array([[0.14285714, 0.85714286],\n",
       "       [0.22222222, 0.77777778],\n",
       "       [0.27272727, 0.72727273],\n",
       "       [0.30769231, 0.69230769],\n",
       "       [0.33333333, 0.66666667]])"
      ]
     },
     "execution_count": 39,
     "metadata": {},
     "output_type": "execute_result"
    }
   ],
   "source": [
    "dfn_l1 = normalize(dfn,norm='l1')\n",
    "dfn_l1\n",
    "# x = x/(sum of all the value in the same row)\n",
    "# After normlaization, sum of row values is going to be 1"
   ]
  },
  {
   "cell_type": "code",
   "execution_count": 40,
   "id": "f3906db3",
   "metadata": {},
   "outputs": [
    {
     "data": {
      "text/html": [
       "<div>\n",
       "<style scoped>\n",
       "    .dataframe tbody tr th:only-of-type {\n",
       "        vertical-align: middle;\n",
       "    }\n",
       "\n",
       "    .dataframe tbody tr th {\n",
       "        vertical-align: top;\n",
       "    }\n",
       "\n",
       "    .dataframe thead th {\n",
       "        text-align: right;\n",
       "    }\n",
       "</style>\n",
       "<table border=\"1\" class=\"dataframe\">\n",
       "  <thead>\n",
       "    <tr style=\"text-align: right;\">\n",
       "      <th></th>\n",
       "      <th>x1</th>\n",
       "      <th>x2</th>\n",
       "    </tr>\n",
       "  </thead>\n",
       "  <tbody>\n",
       "    <tr>\n",
       "      <th>0</th>\n",
       "      <td>1</td>\n",
       "      <td>6</td>\n",
       "    </tr>\n",
       "    <tr>\n",
       "      <th>1</th>\n",
       "      <td>2</td>\n",
       "      <td>7</td>\n",
       "    </tr>\n",
       "    <tr>\n",
       "      <th>2</th>\n",
       "      <td>3</td>\n",
       "      <td>8</td>\n",
       "    </tr>\n",
       "    <tr>\n",
       "      <th>3</th>\n",
       "      <td>4</td>\n",
       "      <td>9</td>\n",
       "    </tr>\n",
       "    <tr>\n",
       "      <th>4</th>\n",
       "      <td>5</td>\n",
       "      <td>10</td>\n",
       "    </tr>\n",
       "  </tbody>\n",
       "</table>\n",
       "</div>"
      ],
      "text/plain": [
       "   x1  x2\n",
       "0   1   6\n",
       "1   2   7\n",
       "2   3   8\n",
       "3   4   9\n",
       "4   5  10"
      ]
     },
     "execution_count": 40,
     "metadata": {},
     "output_type": "execute_result"
    }
   ],
   "source": [
    "dfn"
   ]
  },
  {
   "cell_type": "code",
   "execution_count": 41,
   "id": "adcc4424",
   "metadata": {},
   "outputs": [
    {
     "data": {
      "text/plain": [
       "array([[0.16439899, 0.98639392],\n",
       "       [0.27472113, 0.96152395],\n",
       "       [0.35112344, 0.93632918],\n",
       "       [0.40613847, 0.91381155],\n",
       "       [0.4472136 , 0.89442719]])"
      ]
     },
     "execution_count": 41,
     "metadata": {},
     "output_type": "execute_result"
    }
   ],
   "source": [
    "dfn_l2 = normalize(dfn,norm='l2')\n",
    "dfn_l2"
   ]
  },
  {
   "cell_type": "markdown",
   "id": "84b4bb7a",
   "metadata": {},
   "source": [
    "#### MinMaxScaler"
   ]
  },
  {
   "cell_type": "code",
   "execution_count": 42,
   "id": "90904f95",
   "metadata": {},
   "outputs": [],
   "source": [
    "from sklearn.preprocessing import MinMaxScaler\n",
    "mms = MinMaxScaler((3,5))"
   ]
  },
  {
   "cell_type": "code",
   "execution_count": 43,
   "id": "40154f48",
   "metadata": {},
   "outputs": [
    {
     "data": {
      "text/html": [
       "<div>\n",
       "<style scoped>\n",
       "    .dataframe tbody tr th:only-of-type {\n",
       "        vertical-align: middle;\n",
       "    }\n",
       "\n",
       "    .dataframe tbody tr th {\n",
       "        vertical-align: top;\n",
       "    }\n",
       "\n",
       "    .dataframe thead th {\n",
       "        text-align: right;\n",
       "    }\n",
       "</style>\n",
       "<table border=\"1\" class=\"dataframe\">\n",
       "  <thead>\n",
       "    <tr style=\"text-align: right;\">\n",
       "      <th></th>\n",
       "      <th>x1</th>\n",
       "      <th>x2</th>\n",
       "    </tr>\n",
       "  </thead>\n",
       "  <tbody>\n",
       "    <tr>\n",
       "      <th>0</th>\n",
       "      <td>1</td>\n",
       "      <td>6</td>\n",
       "    </tr>\n",
       "    <tr>\n",
       "      <th>1</th>\n",
       "      <td>2</td>\n",
       "      <td>7</td>\n",
       "    </tr>\n",
       "    <tr>\n",
       "      <th>2</th>\n",
       "      <td>3</td>\n",
       "      <td>8</td>\n",
       "    </tr>\n",
       "    <tr>\n",
       "      <th>3</th>\n",
       "      <td>4</td>\n",
       "      <td>9</td>\n",
       "    </tr>\n",
       "    <tr>\n",
       "      <th>4</th>\n",
       "      <td>5</td>\n",
       "      <td>10</td>\n",
       "    </tr>\n",
       "  </tbody>\n",
       "</table>\n",
       "</div>"
      ],
      "text/plain": [
       "   x1  x2\n",
       "0   1   6\n",
       "1   2   7\n",
       "2   3   8\n",
       "3   4   9\n",
       "4   5  10"
      ]
     },
     "execution_count": 43,
     "metadata": {},
     "output_type": "execute_result"
    }
   ],
   "source": [
    "dfn"
   ]
  },
  {
   "cell_type": "code",
   "execution_count": 44,
   "id": "d640536d",
   "metadata": {},
   "outputs": [
    {
     "data": {
      "text/plain": [
       "array([[3. , 3. ],\n",
       "       [3.5, 3.5],\n",
       "       [4. , 4. ],\n",
       "       [4.5, 4.5],\n",
       "       [5. , 5. ]])"
      ]
     },
     "execution_count": 44,
     "metadata": {},
     "output_type": "execute_result"
    }
   ],
   "source": [
    "dfn_mms = mms.fit_transform(dfn)\n",
    "dfn_mms"
   ]
  },
  {
   "cell_type": "code",
   "execution_count": 45,
   "id": "999b9960",
   "metadata": {},
   "outputs": [],
   "source": [
    "# X_std = (X - X.min(axis=0)) / (X.max(axis=0) - X.min(axis=0))\n",
    "# X_scaled = X_std * (max - min) + min"
   ]
  },
  {
   "cell_type": "code",
   "execution_count": 46,
   "id": "5e18b36b",
   "metadata": {},
   "outputs": [
    {
     "name": "stdout",
     "output_type": "stream",
     "text": [
      "0.75\n",
      "4.5\n"
     ]
    }
   ],
   "source": [
    "x_std4 = (4 - dfn['x1'].min())/(dfn['x1'].max() - dfn['x1'].min())\n",
    "print(x_std4)\n",
    "x_sc4 = x_std4*(5-3) + 3\n",
    "print(x_sc4)"
   ]
  },
  {
   "cell_type": "markdown",
   "id": "bdc73279",
   "metadata": {},
   "source": [
    "### 5) Binning\n",
    "1) Creating gropus(bins) out of existing continuous data.<br>\n",
    "2) bins can have same range or they can even be of different range."
   ]
  },
  {
   "cell_type": "code",
   "execution_count": 47,
   "id": "9f9848a2",
   "metadata": {},
   "outputs": [
    {
     "data": {
      "text/html": [
       "<div>\n",
       "<style scoped>\n",
       "    .dataframe tbody tr th:only-of-type {\n",
       "        vertical-align: middle;\n",
       "    }\n",
       "\n",
       "    .dataframe tbody tr th {\n",
       "        vertical-align: top;\n",
       "    }\n",
       "\n",
       "    .dataframe thead th {\n",
       "        text-align: right;\n",
       "    }\n",
       "</style>\n",
       "<table border=\"1\" class=\"dataframe\">\n",
       "  <thead>\n",
       "    <tr style=\"text-align: right;\">\n",
       "      <th></th>\n",
       "      <th>Sales</th>\n",
       "    </tr>\n",
       "  </thead>\n",
       "  <tbody>\n",
       "    <tr>\n",
       "      <th>0</th>\n",
       "      <td>1350</td>\n",
       "    </tr>\n",
       "    <tr>\n",
       "      <th>1</th>\n",
       "      <td>2450</td>\n",
       "    </tr>\n",
       "    <tr>\n",
       "      <th>2</th>\n",
       "      <td>4530</td>\n",
       "    </tr>\n",
       "    <tr>\n",
       "      <th>3</th>\n",
       "      <td>4552</td>\n",
       "    </tr>\n",
       "    <tr>\n",
       "      <th>4</th>\n",
       "      <td>5430</td>\n",
       "    </tr>\n",
       "  </tbody>\n",
       "</table>\n",
       "</div>"
      ],
      "text/plain": [
       "   Sales\n",
       "0   1350\n",
       "1   2450\n",
       "2   4530\n",
       "3   4552\n",
       "4   5430"
      ]
     },
     "execution_count": 47,
     "metadata": {},
     "output_type": "execute_result"
    }
   ],
   "source": [
    "d4 = {'Sales':[1350,2450,4530,4552,5430,2190,5409,6765,3020,2810]}\n",
    "df_bin = pd.DataFrame(d4)\n",
    "df_bin.head()"
   ]
  },
  {
   "cell_type": "code",
   "execution_count": 48,
   "id": "60c8787f",
   "metadata": {},
   "outputs": [
    {
     "data": {
      "text/html": [
       "<div>\n",
       "<style scoped>\n",
       "    .dataframe tbody tr th:only-of-type {\n",
       "        vertical-align: middle;\n",
       "    }\n",
       "\n",
       "    .dataframe tbody tr th {\n",
       "        vertical-align: top;\n",
       "    }\n",
       "\n",
       "    .dataframe thead th {\n",
       "        text-align: right;\n",
       "    }\n",
       "</style>\n",
       "<table border=\"1\" class=\"dataframe\">\n",
       "  <thead>\n",
       "    <tr style=\"text-align: right;\">\n",
       "      <th></th>\n",
       "      <th>Sales</th>\n",
       "      <th>Sales_bin</th>\n",
       "    </tr>\n",
       "  </thead>\n",
       "  <tbody>\n",
       "    <tr>\n",
       "      <th>0</th>\n",
       "      <td>1350</td>\n",
       "      <td>Low</td>\n",
       "    </tr>\n",
       "    <tr>\n",
       "      <th>1</th>\n",
       "      <td>2450</td>\n",
       "      <td>Low</td>\n",
       "    </tr>\n",
       "    <tr>\n",
       "      <th>2</th>\n",
       "      <td>4530</td>\n",
       "      <td>Med</td>\n",
       "    </tr>\n",
       "    <tr>\n",
       "      <th>3</th>\n",
       "      <td>4552</td>\n",
       "      <td>High</td>\n",
       "    </tr>\n",
       "    <tr>\n",
       "      <th>4</th>\n",
       "      <td>5430</td>\n",
       "      <td>High</td>\n",
       "    </tr>\n",
       "    <tr>\n",
       "      <th>5</th>\n",
       "      <td>2190</td>\n",
       "      <td>Low</td>\n",
       "    </tr>\n",
       "    <tr>\n",
       "      <th>6</th>\n",
       "      <td>5409</td>\n",
       "      <td>High</td>\n",
       "    </tr>\n",
       "    <tr>\n",
       "      <th>7</th>\n",
       "      <td>6765</td>\n",
       "      <td>NaN</td>\n",
       "    </tr>\n",
       "    <tr>\n",
       "      <th>8</th>\n",
       "      <td>3020</td>\n",
       "      <td>Med</td>\n",
       "    </tr>\n",
       "    <tr>\n",
       "      <th>9</th>\n",
       "      <td>2810</td>\n",
       "      <td>Med</td>\n",
       "    </tr>\n",
       "  </tbody>\n",
       "</table>\n",
       "</div>"
      ],
      "text/plain": [
       "   Sales Sales_bin\n",
       "0   1350       Low\n",
       "1   2450       Low\n",
       "2   4530       Med\n",
       "3   4552      High\n",
       "4   5430      High\n",
       "5   2190       Low\n",
       "6   5409      High\n",
       "7   6765       NaN\n",
       "8   3020       Med\n",
       "9   2810       Med"
      ]
     },
     "execution_count": 48,
     "metadata": {},
     "output_type": "execute_result"
    }
   ],
   "source": [
    "df_bin['Sales_bin'] = pd.cut(df_bin['Sales'],bins=[1300,2800,4530,6500],\n",
    "                             labels=['Low','Med','High'])\n",
    "df_bin.head(10)\n",
    "# bin1 = [1300,2800]  - Low\n",
    "# bin2 = [2800,4200]  - Med\n",
    "# bin3 = [4200,6500]  - High"
   ]
  },
  {
   "cell_type": "code",
   "execution_count": 49,
   "id": "5ee1a08b",
   "metadata": {},
   "outputs": [
    {
     "data": {
      "text/html": [
       "<div>\n",
       "<style scoped>\n",
       "    .dataframe tbody tr th:only-of-type {\n",
       "        vertical-align: middle;\n",
       "    }\n",
       "\n",
       "    .dataframe tbody tr th {\n",
       "        vertical-align: top;\n",
       "    }\n",
       "\n",
       "    .dataframe thead th {\n",
       "        text-align: right;\n",
       "    }\n",
       "</style>\n",
       "<table border=\"1\" class=\"dataframe\">\n",
       "  <thead>\n",
       "    <tr style=\"text-align: right;\">\n",
       "      <th></th>\n",
       "      <th>Sales</th>\n",
       "      <th>Sales_bin</th>\n",
       "      <th>Sales_bin_binary</th>\n",
       "    </tr>\n",
       "  </thead>\n",
       "  <tbody>\n",
       "    <tr>\n",
       "      <th>0</th>\n",
       "      <td>1350</td>\n",
       "      <td>Low</td>\n",
       "      <td>Low_Sales</td>\n",
       "    </tr>\n",
       "    <tr>\n",
       "      <th>1</th>\n",
       "      <td>2450</td>\n",
       "      <td>Low</td>\n",
       "      <td>Low_Sales</td>\n",
       "    </tr>\n",
       "    <tr>\n",
       "      <th>2</th>\n",
       "      <td>4530</td>\n",
       "      <td>Med</td>\n",
       "      <td>High_Sales</td>\n",
       "    </tr>\n",
       "    <tr>\n",
       "      <th>3</th>\n",
       "      <td>4552</td>\n",
       "      <td>High</td>\n",
       "      <td>High_Sales</td>\n",
       "    </tr>\n",
       "    <tr>\n",
       "      <th>4</th>\n",
       "      <td>5430</td>\n",
       "      <td>High</td>\n",
       "      <td>High_Sales</td>\n",
       "    </tr>\n",
       "    <tr>\n",
       "      <th>5</th>\n",
       "      <td>2190</td>\n",
       "      <td>Low</td>\n",
       "      <td>Low_Sales</td>\n",
       "    </tr>\n",
       "    <tr>\n",
       "      <th>6</th>\n",
       "      <td>5409</td>\n",
       "      <td>High</td>\n",
       "      <td>High_Sales</td>\n",
       "    </tr>\n",
       "    <tr>\n",
       "      <th>7</th>\n",
       "      <td>6765</td>\n",
       "      <td>NaN</td>\n",
       "      <td>High_Sales</td>\n",
       "    </tr>\n",
       "    <tr>\n",
       "      <th>8</th>\n",
       "      <td>3020</td>\n",
       "      <td>Med</td>\n",
       "      <td>Low_Sales</td>\n",
       "    </tr>\n",
       "    <tr>\n",
       "      <th>9</th>\n",
       "      <td>2810</td>\n",
       "      <td>Med</td>\n",
       "      <td>Low_Sales</td>\n",
       "    </tr>\n",
       "  </tbody>\n",
       "</table>\n",
       "</div>"
      ],
      "text/plain": [
       "   Sales Sales_bin Sales_bin_binary\n",
       "0   1350       Low        Low_Sales\n",
       "1   2450       Low        Low_Sales\n",
       "2   4530       Med       High_Sales\n",
       "3   4552      High       High_Sales\n",
       "4   5430      High       High_Sales\n",
       "5   2190       Low        Low_Sales\n",
       "6   5409      High       High_Sales\n",
       "7   6765       NaN       High_Sales\n",
       "8   3020       Med        Low_Sales\n",
       "9   2810       Med        Low_Sales"
      ]
     },
     "execution_count": 49,
     "metadata": {},
     "output_type": "execute_result"
    }
   ],
   "source": [
    "# Create a Sales_bin, based on low and high sales values\n",
    "df_bin['Sales_bin_binary'] = np.where(df_bin['Sales']<=3500,'Low_Sales','High_Sales')\n",
    "df_bin.head(10)"
   ]
  },
  {
   "cell_type": "markdown",
   "id": "415bb307",
   "metadata": {},
   "source": [
    "### 6) Groupby operations\n",
    "We can use different aggregate functions with group by - sum(), min(),max(), count(), mean()"
   ]
  },
  {
   "cell_type": "code",
   "execution_count": 50,
   "id": "96b7432a",
   "metadata": {},
   "outputs": [
    {
     "data": {
      "text/html": [
       "<div>\n",
       "<style scoped>\n",
       "    .dataframe tbody tr th:only-of-type {\n",
       "        vertical-align: middle;\n",
       "    }\n",
       "\n",
       "    .dataframe tbody tr th {\n",
       "        vertical-align: top;\n",
       "    }\n",
       "\n",
       "    .dataframe thead th {\n",
       "        text-align: right;\n",
       "    }\n",
       "</style>\n",
       "<table border=\"1\" class=\"dataframe\">\n",
       "  <thead>\n",
       "    <tr style=\"text-align: right;\">\n",
       "      <th></th>\n",
       "      <th>Prod</th>\n",
       "      <th>Sales</th>\n",
       "    </tr>\n",
       "  </thead>\n",
       "  <tbody>\n",
       "    <tr>\n",
       "      <th>0</th>\n",
       "      <td>A</td>\n",
       "      <td>120.000000</td>\n",
       "    </tr>\n",
       "    <tr>\n",
       "      <th>1</th>\n",
       "      <td>B</td>\n",
       "      <td>230.000000</td>\n",
       "    </tr>\n",
       "    <tr>\n",
       "      <th>2</th>\n",
       "      <td>A</td>\n",
       "      <td>150.000000</td>\n",
       "    </tr>\n",
       "    <tr>\n",
       "      <th>3</th>\n",
       "      <td>C</td>\n",
       "      <td>201.666667</td>\n",
       "    </tr>\n",
       "    <tr>\n",
       "      <th>4</th>\n",
       "      <td>B</td>\n",
       "      <td>100.000000</td>\n",
       "    </tr>\n",
       "    <tr>\n",
       "      <th>5</th>\n",
       "      <td>C</td>\n",
       "      <td>80.000000</td>\n",
       "    </tr>\n",
       "    <tr>\n",
       "      <th>6</th>\n",
       "      <td>C</td>\n",
       "      <td>180.000000</td>\n",
       "    </tr>\n",
       "    <tr>\n",
       "      <th>7</th>\n",
       "      <td>B</td>\n",
       "      <td>240.000000</td>\n",
       "    </tr>\n",
       "    <tr>\n",
       "      <th>8</th>\n",
       "      <td>B</td>\n",
       "      <td>201.666667</td>\n",
       "    </tr>\n",
       "    <tr>\n",
       "      <th>9</th>\n",
       "      <td>B</td>\n",
       "      <td>140.000000</td>\n",
       "    </tr>\n",
       "    <tr>\n",
       "      <th>10</th>\n",
       "      <td>A</td>\n",
       "      <td>210.000000</td>\n",
       "    </tr>\n",
       "    <tr>\n",
       "      <th>11</th>\n",
       "      <td>B</td>\n",
       "      <td>320.000000</td>\n",
       "    </tr>\n",
       "    <tr>\n",
       "      <th>12</th>\n",
       "      <td>C</td>\n",
       "      <td>450.000000</td>\n",
       "    </tr>\n",
       "    <tr>\n",
       "      <th>13</th>\n",
       "      <td>B</td>\n",
       "      <td>201.666667</td>\n",
       "    </tr>\n",
       "    <tr>\n",
       "      <th>14</th>\n",
       "      <td>C</td>\n",
       "      <td>200.000000</td>\n",
       "    </tr>\n",
       "  </tbody>\n",
       "</table>\n",
       "</div>"
      ],
      "text/plain": [
       "   Prod       Sales\n",
       "0     A  120.000000\n",
       "1     B  230.000000\n",
       "2     A  150.000000\n",
       "3     C  201.666667\n",
       "4     B  100.000000\n",
       "5     C   80.000000\n",
       "6     C  180.000000\n",
       "7     B  240.000000\n",
       "8     B  201.666667\n",
       "9     B  140.000000\n",
       "10    A  210.000000\n",
       "11    B  320.000000\n",
       "12    C  450.000000\n",
       "13    B  201.666667\n",
       "14    C  200.000000"
      ]
     },
     "execution_count": 50,
     "metadata": {},
     "output_type": "execute_result"
    }
   ],
   "source": [
    "df2"
   ]
  },
  {
   "cell_type": "code",
   "execution_count": 51,
   "id": "1e943207",
   "metadata": {},
   "outputs": [
    {
     "data": {
      "text/plain": [
       "B    7\n",
       "C    5\n",
       "A    3\n",
       "Name: Prod, dtype: int64"
      ]
     },
     "execution_count": 51,
     "metadata": {},
     "output_type": "execute_result"
    }
   ],
   "source": [
    "df2['Prod'].value_counts()"
   ]
  },
  {
   "cell_type": "markdown",
   "id": "b828d038",
   "metadata": {},
   "source": [
    "#### Q) Find Sum of Sales based on Prod\n",
    "#### Q) Find Prod wise sum of Sales"
   ]
  },
  {
   "cell_type": "code",
   "execution_count": 52,
   "id": "5bb03770",
   "metadata": {},
   "outputs": [
    {
     "data": {
      "text/plain": [
       "Prod\n",
       "A     480.000000\n",
       "B    1433.333333\n",
       "C    1111.666667\n",
       "Name: Sales, dtype: float64"
      ]
     },
     "execution_count": 52,
     "metadata": {},
     "output_type": "execute_result"
    }
   ],
   "source": [
    "res = df2.groupby(['Prod'])['Sales'].sum()\n",
    "res"
   ]
  },
  {
   "cell_type": "code",
   "execution_count": 53,
   "id": "9e880751",
   "metadata": {},
   "outputs": [
    {
     "data": {
      "text/html": [
       "<div>\n",
       "<style scoped>\n",
       "    .dataframe tbody tr th:only-of-type {\n",
       "        vertical-align: middle;\n",
       "    }\n",
       "\n",
       "    .dataframe tbody tr th {\n",
       "        vertical-align: top;\n",
       "    }\n",
       "\n",
       "    .dataframe thead tr th {\n",
       "        text-align: left;\n",
       "    }\n",
       "\n",
       "    .dataframe thead tr:last-of-type th {\n",
       "        text-align: right;\n",
       "    }\n",
       "</style>\n",
       "<table border=\"1\" class=\"dataframe\">\n",
       "  <thead>\n",
       "    <tr>\n",
       "      <th></th>\n",
       "      <th colspan=\"8\" halign=\"left\">Sales</th>\n",
       "    </tr>\n",
       "    <tr>\n",
       "      <th></th>\n",
       "      <th>min</th>\n",
       "      <th>max</th>\n",
       "      <th>sum</th>\n",
       "      <th>mean</th>\n",
       "      <th>count</th>\n",
       "      <th>median</th>\n",
       "      <th>var</th>\n",
       "      <th>std</th>\n",
       "    </tr>\n",
       "    <tr>\n",
       "      <th>Prod</th>\n",
       "      <th></th>\n",
       "      <th></th>\n",
       "      <th></th>\n",
       "      <th></th>\n",
       "      <th></th>\n",
       "      <th></th>\n",
       "      <th></th>\n",
       "      <th></th>\n",
       "    </tr>\n",
       "  </thead>\n",
       "  <tbody>\n",
       "    <tr>\n",
       "      <th>A</th>\n",
       "      <td>120.0</td>\n",
       "      <td>210.0</td>\n",
       "      <td>480.000000</td>\n",
       "      <td>160.000000</td>\n",
       "      <td>3</td>\n",
       "      <td>150.000000</td>\n",
       "      <td>2100.000000</td>\n",
       "      <td>45.825757</td>\n",
       "    </tr>\n",
       "    <tr>\n",
       "      <th>B</th>\n",
       "      <td>100.0</td>\n",
       "      <td>320.0</td>\n",
       "      <td>1433.333333</td>\n",
       "      <td>204.761905</td>\n",
       "      <td>7</td>\n",
       "      <td>201.666667</td>\n",
       "      <td>5057.804233</td>\n",
       "      <td>71.118241</td>\n",
       "    </tr>\n",
       "    <tr>\n",
       "      <th>C</th>\n",
       "      <td>80.0</td>\n",
       "      <td>450.0</td>\n",
       "      <td>1111.666667</td>\n",
       "      <td>222.333333</td>\n",
       "      <td>5</td>\n",
       "      <td>200.000000</td>\n",
       "      <td>18702.222222</td>\n",
       "      <td>136.756068</td>\n",
       "    </tr>\n",
       "  </tbody>\n",
       "</table>\n",
       "</div>"
      ],
      "text/plain": [
       "      Sales                                                                  \\\n",
       "        min    max          sum        mean count      median           var   \n",
       "Prod                                                                          \n",
       "A     120.0  210.0   480.000000  160.000000     3  150.000000   2100.000000   \n",
       "B     100.0  320.0  1433.333333  204.761905     7  201.666667   5057.804233   \n",
       "C      80.0  450.0  1111.666667  222.333333     5  200.000000  18702.222222   \n",
       "\n",
       "                  \n",
       "             std  \n",
       "Prod              \n",
       "A      45.825757  \n",
       "B      71.118241  \n",
       "C     136.756068  "
      ]
     },
     "execution_count": 53,
     "metadata": {},
     "output_type": "execute_result"
    }
   ],
   "source": [
    "res2 = df2.groupby(['Prod']).agg({'Sales':['min','max','sum','mean','count','median','var','std']})\n",
    "res2"
   ]
  },
  {
   "cell_type": "markdown",
   "id": "679fc13c",
   "metadata": {},
   "source": [
    "### Cross Valdiation\n",
    "It is a resampling technique used to split the data into training and test data"
   ]
  },
  {
   "cell_type": "markdown",
   "id": "106670e5",
   "metadata": {},
   "source": [
    "### Types of Cross Validation\n",
    "#### 1) K-Fold CV\n",
    "a) The whole data is divided into k sets of almost equal sizes. The first set is selected as the test set and the model is trained on the remaining k-1 sets. The test error rate is then calculated after fitting the model to the test data.\n",
    "<br>\n",
    "b) In the second iteration, the 2nd set is selected as a test set and the remaining k-1 sets are used to train the data and the error is calculated. This process continues for all the k sets.\n",
    "<br>\n",
    "#### 2) Stratified KFold\n",
    "Suppose your data contains reviews for a cosmetic product used by both the male and female population. When we perform random sampling to split the data into train and test sets, there is a possibility that most of the data representing males is not represented in training data but might end up in test data. When we train the model on sample training data that is not a correct representation of the actual population, the model will not predict the test data with good accuracy.\n",
    "<br>\n",
    "100 records , 80% is summer_Sale, 20% winter sale\n",
    "80 records are summer sales, 20 are winter sales\n",
    "We we split the data (75% train data, 25% test data)\n",
    "It is possible that 75% of train data contains all the summer sales records and no winter sales records\n",
    "<br>\n",
    "</n>\n",
    "This is where Stratified Sampling comes to the rescue. Here the data is split in such a way that it represents all the classes from the population.\n",
    "<br>\n",
    "Let’s consider the above example which has a cosmetic product review of 1000 customers out of which 60% is female and 40% is male. I want to split the data into train and test data in proportion (80:20). 80% of 1000 customers will be 800 which will be chosen in such a way that there are 480 reviews associated with the female population and 320 representing the male population. In a similar fashion, 20% of 1000 customers will be chosen for the test data ( with the same female and male representation).\n",
    "<br>\n",
    "#### 3) LeaveOneOut\n",
    "a) Instead of dividing the data into 2 subsets, we select a single observation as test data, and everything else is labeled as training data and the model is trained. In the second iteration, now the 2nd observation is selected as test data and the model is trained on the remaining data."
   ]
  },
  {
   "cell_type": "code",
   "execution_count": 54,
   "id": "a37007c6",
   "metadata": {},
   "outputs": [],
   "source": [
    "from sklearn.model_selection import KFold, StratifiedKFold, LeaveOneOut"
   ]
  },
  {
   "cell_type": "markdown",
   "id": "d3481c9a",
   "metadata": {},
   "source": [
    "#### KFold"
   ]
  },
  {
   "cell_type": "code",
   "execution_count": 55,
   "id": "eac97d36",
   "metadata": {},
   "outputs": [
    {
     "name": "stdout",
     "output_type": "stream",
     "text": [
      "Train data ['c' 'd' 'e' 'f'] Test data ['a' 'b']\n",
      "Train data ['a' 'b' 'e' 'f'] Test data ['c' 'd']\n",
      "Train data ['a' 'b' 'c' 'd'] Test data ['e' 'f']\n"
     ]
    }
   ],
   "source": [
    "x = np.array(['a','b','c','d','e','f'])\n",
    "kf = KFold(n_splits=3)\n",
    "\n",
    "for train,test in kf.split(x):\n",
    "    print('Train data',x[train],'Test data',x[test])"
   ]
  },
  {
   "cell_type": "code",
   "execution_count": 56,
   "id": "77623797",
   "metadata": {},
   "outputs": [
    {
     "name": "stdout",
     "output_type": "stream",
     "text": [
      "Train data ['c' 'd' 'e' 'f'] Test data ['a' 'b']\n",
      "Train data ['a' 'b' 'e' 'f'] Test data ['c' 'd']\n",
      "Train data ['a' 'b' 'c' 'd' 'f'] Test data ['e']\n",
      "Train data ['a' 'b' 'c' 'd' 'e'] Test data ['f']\n"
     ]
    }
   ],
   "source": [
    "x = np.array(['a','b','c','d','e','f'])\n",
    "kf = KFold(n_splits=4)\n",
    "\n",
    "for train,test in kf.split(x):\n",
    "    print('Train data',x[train],'Test data',x[test])"
   ]
  },
  {
   "cell_type": "code",
   "execution_count": 57,
   "id": "08149a84",
   "metadata": {},
   "outputs": [
    {
     "name": "stdout",
     "output_type": "stream",
     "text": [
      "Train data ['d' 'e' 'f' 'g' 'h' 'i' 'j' 'k' 'l'] Test data ['a' 'b' 'c']\n",
      "Train data ['a' 'b' 'c' 'g' 'h' 'i' 'j' 'k' 'l'] Test data ['d' 'e' 'f']\n",
      "Train data ['a' 'b' 'c' 'd' 'e' 'f' 'i' 'j' 'k' 'l'] Test data ['g' 'h']\n",
      "Train data ['a' 'b' 'c' 'd' 'e' 'f' 'g' 'h' 'k' 'l'] Test data ['i' 'j']\n",
      "Train data ['a' 'b' 'c' 'd' 'e' 'f' 'g' 'h' 'i' 'j'] Test data ['k' 'l']\n"
     ]
    }
   ],
   "source": [
    "x = np.array(['a','b','c','d','e','f','g','h','i','j','k','l'])\n",
    "kf = KFold(n_splits=5)\n",
    "\n",
    "for train,test in kf.split(x):\n",
    "    print('Train data',x[train],'Test data',x[test])"
   ]
  },
  {
   "cell_type": "markdown",
   "id": "49788839",
   "metadata": {},
   "source": [
    "#### Stratified K-Fold"
   ]
  },
  {
   "cell_type": "code",
   "execution_count": 58,
   "id": "9f772e94",
   "metadata": {},
   "outputs": [
    {
     "name": "stdout",
     "output_type": "stream",
     "text": [
      "Train [30 35 40 45 50] Test [ 5 10 15 20 25]\n",
      "Train [ 5 10 15 20 25] Test [30 35 40 45 50]\n"
     ]
    }
   ],
   "source": [
    "x = np.array([5,10,15,20,25,30,35,40,45,50])\n",
    "y = np.array([1,0,0,1,1,0,0,1,0,1])\n",
    "skf = StratifiedKFold(n_splits=2)\n",
    "for train,test in skf.split(x,y):\n",
    "    print('Train',x[train],'Test',x[test])\n",
    "    \n",
    "# 1 (5,20,25,40,50)\n",
    "# 0 (10,15,30,35,45)\n",
    "\n",
    "# Split1 -> Train(30(0),35(0),40(1),45(0),50(1)) - Test(5(1),10(0),15(0),20(1),25(1))\n",
    "# Split2 -> Train(5(1),10(0),15(0),20(1),25(1)) -  Test(30(0),35(0),40(1),45(0),50(1))"
   ]
  },
  {
   "cell_type": "code",
   "execution_count": 59,
   "id": "d9343343",
   "metadata": {},
   "outputs": [
    {
     "name": "stdout",
     "output_type": "stream",
     "text": [
      "Train [15 25 30 35 40 45 50] Test [ 5 10 20]\n",
      "Train [ 5 10 20 35 40 45 50] Test [15 25 30]\n",
      "Train [ 5 10 15 20 25 30 45 50] Test [35 40]\n",
      "Train [ 5 10 15 20 25 30 35 40] Test [45 50]\n"
     ]
    }
   ],
   "source": [
    "x = np.array([5,10,15,20,25,30,35,40,45,50])\n",
    "y = np.array([1,0,0,1,1,0,0,1,0,1])\n",
    "skf = StratifiedKFold(n_splits=4)\n",
    "for train,test in skf.split(x,y):\n",
    "    print('Train',x[train],'Test',x[test])"
   ]
  },
  {
   "cell_type": "markdown",
   "id": "2c94f61d",
   "metadata": {},
   "source": [
    "#### LeaveOneOut"
   ]
  },
  {
   "cell_type": "code",
   "execution_count": 60,
   "id": "dac8eb15",
   "metadata": {},
   "outputs": [
    {
     "name": "stdout",
     "output_type": "stream",
     "text": [
      "Train data ['b' 'c' 'd' 'e' 'f' 'g' 'h'] Test data ['a']\n",
      "Train data ['a' 'c' 'd' 'e' 'f' 'g' 'h'] Test data ['b']\n",
      "Train data ['a' 'b' 'd' 'e' 'f' 'g' 'h'] Test data ['c']\n",
      "Train data ['a' 'b' 'c' 'e' 'f' 'g' 'h'] Test data ['d']\n",
      "Train data ['a' 'b' 'c' 'd' 'f' 'g' 'h'] Test data ['e']\n",
      "Train data ['a' 'b' 'c' 'd' 'e' 'g' 'h'] Test data ['f']\n",
      "Train data ['a' 'b' 'c' 'd' 'e' 'f' 'h'] Test data ['g']\n",
      "Train data ['a' 'b' 'c' 'd' 'e' 'f' 'g'] Test data ['h']\n"
     ]
    }
   ],
   "source": [
    "x = np.array(['a','b','c','d','e','f','g','h'])\n",
    "loo = LeaveOneOut()\n",
    "for train,test in loo.split(x):\n",
    "    print('Train data',x[train],'Test data',x[test])"
   ]
  }
 ],
 "metadata": {
  "kernelspec": {
   "display_name": "Python 3 (ipykernel)",
   "language": "python",
   "name": "python3"
  },
  "language_info": {
   "codemirror_mode": {
    "name": "ipython",
    "version": 3
   },
   "file_extension": ".py",
   "mimetype": "text/x-python",
   "name": "python",
   "nbconvert_exporter": "python",
   "pygments_lexer": "ipython3",
   "version": "3.10.2"
  }
 },
 "nbformat": 4,
 "nbformat_minor": 5
}
