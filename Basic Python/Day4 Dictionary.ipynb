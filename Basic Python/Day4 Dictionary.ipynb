{
 "cells": [
  {
   "cell_type": "markdown",
   "id": "f5edba22",
   "metadata": {},
   "source": [
    "### Dictionary\n",
    "\n",
    "1) Dictionary elements are stored in key:value pair format.<br>\n",
    "2) Dictionary elements are enclosed in {} and are separated by comma<br>\n",
    "3) Dictionary is unordered.<br> \n",
    "4) Indexing and slicing is not allowed on dictionary. Dictionary can be indexed based on its keys<br>\n",
    "5) All the keys in the dictionary must be unique. Values may be duplicate<br>\n",
    "6) Dictionary is mutable (It can be changed)<br>\n",
    "7) The key,value pair is called item in dictionary and each item is stored in form of tuple<br>"
   ]
  },
  {
   "cell_type": "markdown",
   "id": "ccbabe93",
   "metadata": {},
   "source": [
    "#### Empty Dictionary"
   ]
  },
  {
   "cell_type": "code",
   "execution_count": 1,
   "id": "6e402493",
   "metadata": {},
   "outputs": [
    {
     "name": "stdout",
     "output_type": "stream",
     "text": [
      "{}\n",
      "{}\n",
      "<class 'dict'>\n",
      "<class 'dict'>\n"
     ]
    }
   ],
   "source": [
    "d1 = {}\n",
    "d2 = dict()\n",
    "print(d1)\n",
    "print(d2)\n",
    "print(type(d1))\n",
    "print(type(d2))"
   ]
  },
  {
   "cell_type": "markdown",
   "id": "3dced1fa",
   "metadata": {},
   "source": [
    "#### Examples of Dictionary"
   ]
  },
  {
   "cell_type": "code",
   "execution_count": 2,
   "id": "1128c8f3",
   "metadata": {},
   "outputs": [
    {
     "name": "stdout",
     "output_type": "stream",
     "text": [
      "{'Full Name': 'Chirag Kaura', 'Age': 19, 'City': 'Sirhind', 45: 'Python', True: 'India'}\n",
      "5\n",
      "<class 'dict'>\n"
     ]
    }
   ],
   "source": [
    "w1 = {'Full Name':'Chirag Kaura','Age':19,'City':'Sirhind',45:'Python',True:'India'}\n",
    "print(w1)\n",
    "print(len(w1))\n",
    "print(type(w1))"
   ]
  },
  {
   "cell_type": "markdown",
   "id": "6e660cc1",
   "metadata": {},
   "source": [
    "#### Fetch values corresponding to a given key"
   ]
  },
  {
   "cell_type": "code",
   "execution_count": 3,
   "id": "60f00b08",
   "metadata": {},
   "outputs": [
    {
     "name": "stdout",
     "output_type": "stream",
     "text": [
      "{'Full Name': 'Chirag Kaura', 'Age': 19, 'City': 'Sirhind', 45: 'Python', True: 'India'}\n",
      "19\n",
      "Sirhind\n",
      "Chirag Kaura\n",
      "India\n",
      "Python\n"
     ]
    }
   ],
   "source": [
    "print(w1)\n",
    "print(w1['Age'])\n",
    "print(w1['City'])\n",
    "print(w1['Full Name'])\n",
    "print(w1[True])\n",
    "print(w1[45])"
   ]
  },
  {
   "cell_type": "markdown",
   "id": "4ad689f3",
   "metadata": {},
   "source": [
    "#### Add New key:value pair to the dict\n",
    "=> Dict is mutable (it an be changed)"
   ]
  },
  {
   "cell_type": "code",
   "execution_count": 4,
   "id": "ece9c585",
   "metadata": {},
   "outputs": [
    {
     "name": "stdout",
     "output_type": "stream",
     "text": [
      "{'a1': 10, 'a2': 20, 'a3': 30, 'a4': 40}\n",
      "{'a1': 10, 'a2': 20, 'a3': 30, 'a4': 40, 'k1': 15}\n",
      "{'a1': 10, 'a2': 20, 'a3': 30, 'a4': 40, 'k1': 15, 'k2': 'Function'}\n",
      "{'a1': 10, 'a2': 20, 'a3': 30, 'a4': 40, 'k1': 15, 'k2': 'Function', 23: 'Hello'}\n"
     ]
    }
   ],
   "source": [
    "d1 = {'a1':10,'a2':20,'a3':30,'a4':40}\n",
    "print(d1)\n",
    "d1['k1'] = 15\n",
    "print(d1)\n",
    "d1['k2'] = 'Function'\n",
    "print(d1)\n",
    "d1[23] = 'Hello'\n",
    "print(d1)"
   ]
  },
  {
   "cell_type": "code",
   "execution_count": 5,
   "id": "164b216b",
   "metadata": {},
   "outputs": [
    {
     "name": "stdout",
     "output_type": "stream",
     "text": [
      "10\n",
      "Function\n",
      "30\n",
      "20\n",
      "Hello\n"
     ]
    }
   ],
   "source": [
    "print(d1['a1'])\n",
    "print(d1['k2'])\n",
    "print(d1['a3'])\n",
    "print(d1['a2'])\n",
    "print(d1[23])"
   ]
  },
  {
   "cell_type": "markdown",
   "id": "7aa8d92a",
   "metadata": {},
   "source": [
    "#### Change value for a given key"
   ]
  },
  {
   "cell_type": "code",
   "execution_count": 6,
   "id": "27d34426",
   "metadata": {},
   "outputs": [
    {
     "name": "stdout",
     "output_type": "stream",
     "text": [
      "Before Update\n",
      "{'a1': 10, 'a2': 20, 'a3': 30, 'a4': 40}\n",
      "After Update\n",
      "{'a1': 10, 'a2': 'Dict', 'a3': 30, 'a4': 'Google', 'new_key': 'new_value'}\n"
     ]
    }
   ],
   "source": [
    "d1 = {'a1':10,'a2':20,'a3':30,'a4':40}\n",
    "print('Before Update')\n",
    "print(d1)\n",
    "print('After Update')\n",
    "d1['a2'] = 'Dict'     # updating the value for the key 'a2'\n",
    "d1['a4'] = 'Google'   # updating the value for the key 'a4'\n",
    "d1['new_key'] = 'new_value'  # addding a new key-value pair\n",
    "print(d1)\n",
    "# dict is mutable"
   ]
  },
  {
   "cell_type": "markdown",
   "id": "aa79eed4",
   "metadata": {},
   "source": [
    "#### Indexing and Slicing is not allowed"
   ]
  },
  {
   "cell_type": "code",
   "execution_count": 7,
   "id": "66bf61b5",
   "metadata": {},
   "outputs": [
    {
     "name": "stdout",
     "output_type": "stream",
     "text": [
      "10\n"
     ]
    }
   ],
   "source": [
    "r = [10,20,30,40]\n",
    "print(r[0])"
   ]
  },
  {
   "cell_type": "code",
   "execution_count": 8,
   "id": "6315afc6",
   "metadata": {},
   "outputs": [
    {
     "name": "stdout",
     "output_type": "stream",
     "text": [
      "4\n"
     ]
    },
    {
     "ename": "KeyError",
     "evalue": "0",
     "output_type": "error",
     "traceback": [
      "\u001b[1;31m---------------------------------------------------------------------------\u001b[0m",
      "\u001b[1;31mKeyError\u001b[0m                                  Traceback (most recent call last)",
      "Input \u001b[1;32mIn [8]\u001b[0m, in \u001b[0;36m<module>\u001b[1;34m\u001b[0m\n\u001b[0;32m      1\u001b[0m d1 \u001b[38;5;241m=\u001b[39m {\u001b[38;5;124m'\u001b[39m\u001b[38;5;124ma1\u001b[39m\u001b[38;5;124m'\u001b[39m:\u001b[38;5;241m10\u001b[39m,\u001b[38;5;124m'\u001b[39m\u001b[38;5;124ma2\u001b[39m\u001b[38;5;124m'\u001b[39m:\u001b[38;5;241m20\u001b[39m,\u001b[38;5;124m'\u001b[39m\u001b[38;5;124ma3\u001b[39m\u001b[38;5;124m'\u001b[39m:\u001b[38;5;241m30\u001b[39m,\u001b[38;5;124m'\u001b[39m\u001b[38;5;124ma4\u001b[39m\u001b[38;5;124m'\u001b[39m:\u001b[38;5;241m40\u001b[39m}\n\u001b[0;32m      2\u001b[0m \u001b[38;5;28mprint\u001b[39m(\u001b[38;5;28mlen\u001b[39m(d1))\n\u001b[1;32m----> 3\u001b[0m \u001b[38;5;28mprint\u001b[39m(\u001b[43md1\u001b[49m\u001b[43m[\u001b[49m\u001b[38;5;241;43m0\u001b[39;49m\u001b[43m]\u001b[49m)\n",
      "\u001b[1;31mKeyError\u001b[0m: 0"
     ]
    }
   ],
   "source": [
    "d1 = {'a1':10,'a2':20,'a3':30,'a4':40}\n",
    "print(len(d1))\n",
    "print(d1[0])  \n",
    "# Indexing is not allowed"
   ]
  },
  {
   "cell_type": "code",
   "execution_count": 9,
   "id": "989ade2a",
   "metadata": {},
   "outputs": [
    {
     "ename": "TypeError",
     "evalue": "unhashable type: 'slice'",
     "output_type": "error",
     "traceback": [
      "\u001b[1;31m---------------------------------------------------------------------------\u001b[0m",
      "\u001b[1;31mTypeError\u001b[0m                                 Traceback (most recent call last)",
      "Input \u001b[1;32mIn [9]\u001b[0m, in \u001b[0;36m<module>\u001b[1;34m\u001b[0m\n\u001b[0;32m      1\u001b[0m d1 \u001b[38;5;241m=\u001b[39m {\u001b[38;5;124m'\u001b[39m\u001b[38;5;124ma1\u001b[39m\u001b[38;5;124m'\u001b[39m:\u001b[38;5;241m10\u001b[39m,\u001b[38;5;124m'\u001b[39m\u001b[38;5;124ma2\u001b[39m\u001b[38;5;124m'\u001b[39m:\u001b[38;5;241m20\u001b[39m,\u001b[38;5;124m'\u001b[39m\u001b[38;5;124ma3\u001b[39m\u001b[38;5;124m'\u001b[39m:\u001b[38;5;241m30\u001b[39m,\u001b[38;5;124m'\u001b[39m\u001b[38;5;124ma4\u001b[39m\u001b[38;5;124m'\u001b[39m:\u001b[38;5;241m40\u001b[39m}\n\u001b[1;32m----> 2\u001b[0m \u001b[38;5;28mprint\u001b[39m(\u001b[43md1\u001b[49m\u001b[43m[\u001b[49m\u001b[38;5;241;43m1\u001b[39;49m\u001b[43m:\u001b[49m\u001b[38;5;241;43m3\u001b[39;49m\u001b[43m]\u001b[49m)\n",
      "\u001b[1;31mTypeError\u001b[0m: unhashable type: 'slice'"
     ]
    }
   ],
   "source": [
    "d1 = {'a1':10,'a2':20,'a3':30,'a4':40}\n",
    "print(d1[1:3])\n",
    "# Slicing is not allowed"
   ]
  },
  {
   "cell_type": "markdown",
   "id": "9e1a28c0",
   "metadata": {},
   "source": [
    "#### All the keys in the dict must be unique. Values can be dupliacted"
   ]
  },
  {
   "cell_type": "code",
   "execution_count": 10,
   "id": "57e579f3",
   "metadata": {},
   "outputs": [
    {
     "name": "stdout",
     "output_type": "stream",
     "text": [
      "{'k1': 5, 'k2': 65, 'k3': 15, 'k4': 50, 'k5': 15}\n",
      "{'k1': 5, 'k2': 80, 'k3': 15, 'k4': 50, 'k5': 15}\n",
      "80\n"
     ]
    }
   ],
   "source": [
    "g1 = {'k1':5,'k2':10,'k3':15,'k2':20,'k4':50,'k5':15,'k2':65}\n",
    "print(g1)\n",
    "g1['k2'] = 80\n",
    "print(g1)\n",
    "print(g1['k2'])"
   ]
  },
  {
   "cell_type": "markdown",
   "id": "83a0a7ce",
   "metadata": {},
   "source": [
    "### Methods of Dict"
   ]
  },
  {
   "cell_type": "markdown",
   "id": "895f2620",
   "metadata": {},
   "source": [
    "#### 1) get(key)\n",
    "It is used to fetch value for a given key"
   ]
  },
  {
   "cell_type": "code",
   "execution_count": 11,
   "id": "10cb8fdd",
   "metadata": {},
   "outputs": [
    {
     "name": "stdout",
     "output_type": "stream",
     "text": [
      "5\n",
      "5\n",
      "50\n",
      "50\n",
      "None\n"
     ]
    },
    {
     "ename": "KeyError",
     "evalue": "'k7'",
     "output_type": "error",
     "traceback": [
      "\u001b[1;31m---------------------------------------------------------------------------\u001b[0m",
      "\u001b[1;31mKeyError\u001b[0m                                  Traceback (most recent call last)",
      "Input \u001b[1;32mIn [11]\u001b[0m, in \u001b[0;36m<module>\u001b[1;34m\u001b[0m\n\u001b[0;32m      5\u001b[0m \u001b[38;5;28mprint\u001b[39m(r[\u001b[38;5;124m'\u001b[39m\u001b[38;5;124mk4\u001b[39m\u001b[38;5;124m'\u001b[39m])\n\u001b[0;32m      6\u001b[0m \u001b[38;5;28mprint\u001b[39m(r\u001b[38;5;241m.\u001b[39mget(\u001b[38;5;124m'\u001b[39m\u001b[38;5;124mk7\u001b[39m\u001b[38;5;124m'\u001b[39m))\n\u001b[1;32m----> 7\u001b[0m \u001b[38;5;28mprint\u001b[39m(\u001b[43mr\u001b[49m\u001b[43m[\u001b[49m\u001b[38;5;124;43m'\u001b[39;49m\u001b[38;5;124;43mk7\u001b[39;49m\u001b[38;5;124;43m'\u001b[39;49m\u001b[43m]\u001b[49m)\n",
      "\u001b[1;31mKeyError\u001b[0m: 'k7'"
     ]
    }
   ],
   "source": [
    "r = {'k1': 5, 'k2': 65, 'k3': 15, 'k4': 50, 'k5': 15}\n",
    "print(r.get('k1'))\n",
    "print(r['k1'])\n",
    "print(r.get('k4'))\n",
    "print(r['k4'])\n",
    "print(r.get('k7'))\n",
    "print(r['k7'])"
   ]
  },
  {
   "cell_type": "markdown",
   "id": "071aa336",
   "metadata": {},
   "source": [
    "#### 2) update()\n",
    "It is used top update a dict with another dict. It can be used to merge 2 or more dict into one dict"
   ]
  },
  {
   "cell_type": "code",
   "execution_count": 12,
   "id": "d95a4cca",
   "metadata": {},
   "outputs": [
    {
     "name": "stdout",
     "output_type": "stream",
     "text": [
      "{'a1': 3, 'a2': 7, 'a3': 9}\n",
      "{'a5': 4, 'a4': 6, 'a6': 8}\n",
      "{'a1': 3, 'a2': 7, 'a3': 9, 'a5': 4, 'a4': 6, 'a6': 8}\n",
      "{'a5': 4, 'a4': 6, 'a6': 8}\n"
     ]
    }
   ],
   "source": [
    "w1 = {'a1':3,'a2':7,'a3':9}\n",
    "w2 = {'a5':4,'a4':6,'a6':8}\n",
    "print(w1)\n",
    "print(w2)\n",
    "w1.update(w2)\n",
    "print(w1)\n",
    "print(w2)"
   ]
  },
  {
   "cell_type": "code",
   "execution_count": 13,
   "id": "f0dfb220",
   "metadata": {},
   "outputs": [
    {
     "name": "stdout",
     "output_type": "stream",
     "text": [
      "{'a1': 3, 'a2': 7, 'a5': 9}\n",
      "{'a2': 4, 'a5': 6, 'a6': 8}\n",
      "{'a1': 3, 'a2': 4, 'a5': 6, 'a6': 8}\n",
      "{'a2': 4, 'a5': 6, 'a6': 8}\n"
     ]
    }
   ],
   "source": [
    "w1 = {'a1':3,'a2':7,'a5':9}\n",
    "w2 = {'a2':4,'a5':6,'a6':8}\n",
    "print(w1)\n",
    "print(w2)\n",
    "w1.update(w2)\n",
    "print(w1)\n",
    "print(w2)"
   ]
  },
  {
   "cell_type": "code",
   "execution_count": 14,
   "id": "bb82be95",
   "metadata": {},
   "outputs": [
    {
     "name": "stdout",
     "output_type": "stream",
     "text": [
      "{'a1': 3, 'a2': 7, 'a5': 9}\n",
      "{'a2': 4, 'a5': 6, 'a6': 8, 'a3': 56}\n",
      "{'a1': 3, 'a2': 7, 'a5': 9}\n",
      "{'a2': 7, 'a5': 9, 'a6': 8, 'a3': 56, 'a1': 3}\n"
     ]
    }
   ],
   "source": [
    "w1 = {'a1':3,'a2':7,'a5':9}\n",
    "w2 = {'a2':4,'a5':6,'a6':8,'a3':56}\n",
    "print(w1)\n",
    "print(w2)\n",
    "w2.update(w1)\n",
    "print(w1)\n",
    "print(w2)"
   ]
  },
  {
   "cell_type": "markdown",
   "id": "762dc33d",
   "metadata": {},
   "source": [
    "#### 3) clear()\n",
    "It empties the dict"
   ]
  },
  {
   "cell_type": "code",
   "execution_count": 15,
   "id": "6a224e9f",
   "metadata": {},
   "outputs": [
    {
     "name": "stdout",
     "output_type": "stream",
     "text": [
      "{'a1': 3, 'a2': 7, 'a5': 9}\n",
      "{}\n"
     ]
    }
   ],
   "source": [
    "q1 = {'a1': 3, 'a2': 7, 'a5': 9}\n",
    "print(q1)\n",
    "q1.clear()\n",
    "print(q1)"
   ]
  },
  {
   "cell_type": "markdown",
   "id": "d7f1b99d",
   "metadata": {},
   "source": [
    "#### 4) pop(key)\n",
    "Remove the key-value pair from the dict based on key passed as an argument"
   ]
  },
  {
   "cell_type": "code",
   "execution_count": 16,
   "id": "7b9eee00",
   "metadata": {},
   "outputs": [
    {
     "name": "stdout",
     "output_type": "stream",
     "text": [
      "{'a2': 7, 'a5': 9, 'a6': 10, 'a1': 3}\n",
      "{'a2': 7, 'a6': 10, 'a1': 3}\n",
      "{'a2': 7, 'a6': 10}\n"
     ]
    },
    {
     "ename": "KeyError",
     "evalue": "'a10'",
     "output_type": "error",
     "traceback": [
      "\u001b[1;31m---------------------------------------------------------------------------\u001b[0m",
      "\u001b[1;31mKeyError\u001b[0m                                  Traceback (most recent call last)",
      "Input \u001b[1;32mIn [16]\u001b[0m, in \u001b[0;36m<module>\u001b[1;34m\u001b[0m\n\u001b[0;32m      5\u001b[0m s1\u001b[38;5;241m.\u001b[39mpop(\u001b[38;5;124m'\u001b[39m\u001b[38;5;124ma1\u001b[39m\u001b[38;5;124m'\u001b[39m)\n\u001b[0;32m      6\u001b[0m \u001b[38;5;28mprint\u001b[39m(s1)\n\u001b[1;32m----> 7\u001b[0m \u001b[43ms1\u001b[49m\u001b[38;5;241;43m.\u001b[39;49m\u001b[43mpop\u001b[49m\u001b[43m(\u001b[49m\u001b[38;5;124;43m'\u001b[39;49m\u001b[38;5;124;43ma10\u001b[39;49m\u001b[38;5;124;43m'\u001b[39;49m\u001b[43m)\u001b[49m  \u001b[38;5;66;03m# Error\u001b[39;00m\n\u001b[0;32m      8\u001b[0m \u001b[38;5;28mprint\u001b[39m(s1)\n",
      "\u001b[1;31mKeyError\u001b[0m: 'a10'"
     ]
    }
   ],
   "source": [
    "s1 = {'a2': 7, 'a5': 9, 'a6': 8, 'a1': 3,'a6':10}\n",
    "print(s1)\n",
    "s1.pop('a5')\n",
    "print(s1)\n",
    "s1.pop('a1')\n",
    "print(s1)\n",
    "s1.pop('a10')  # Error\n",
    "print(s1)"
   ]
  },
  {
   "cell_type": "markdown",
   "id": "eb39a0b7",
   "metadata": {},
   "source": [
    "#### 5) popitem()\n",
    "Revoves the key-value pair from the dict in LIFO(Last In First Out) order"
   ]
  },
  {
   "cell_type": "code",
   "execution_count": 17,
   "id": "ac2482c2",
   "metadata": {},
   "outputs": [
    {
     "name": "stdout",
     "output_type": "stream",
     "text": [
      "{'a1': 7, 'a2': 9, 'a3': 8, 'a4': 3, 'a5': 10}\n",
      "{'a1': 7, 'a2': 9, 'a3': 8, 'a4': 3}\n",
      "{'a1': 7, 'a2': 9, 'a3': 8}\n",
      "{'a1': 7, 'a2': 9}\n"
     ]
    }
   ],
   "source": [
    "s1 = {'a1': 7, 'a2': 9, 'a3': 8, 'a4': 3,'a5':10}\n",
    "print(s1)\n",
    "s1.popitem()\n",
    "print(s1)\n",
    "s1.popitem()\n",
    "print(s1)\n",
    "s1.popitem()\n",
    "print(s1)"
   ]
  },
  {
   "cell_type": "markdown",
   "id": "3e2671e3",
   "metadata": {},
   "source": [
    "#### 6) setdeafult(key,value)\n",
    "It is used to add a new key:value pair to the dict. If no value is passed, then the value will be updated as None"
   ]
  },
  {
   "cell_type": "code",
   "execution_count": 18,
   "id": "fa4a225f",
   "metadata": {},
   "outputs": [
    {
     "name": "stdout",
     "output_type": "stream",
     "text": [
      "{'a2': 7, 'a5': 9, 'a6': 10, 'a1': 3}\n",
      "{'a2': 7, 'a5': 9, 'a6': 10, 'a1': 3, 'Name': 'Chirag'}\n",
      "{'a2': 7, 'a5': 9, 'a6': 10, 'a1': 3, 'Name': 'Chirag', 'Age': None}\n",
      "{'a2': 7, 'a5': 9, 'a6': 10, 'a1': 3, 'Name': 'Chirag', 'Age': None, 'a15': 90}\n",
      "{'a2': 7, 'a5': 9, 'a6': 10, 'a1': 3, 'Name': 'Chirag', 'Age': None}\n"
     ]
    }
   ],
   "source": [
    "f1 =  {'a2': 7, 'a5': 9, 'a6': 10, 'a1': 3}\n",
    "print(f1)\n",
    "f1.setdefault('Name','Chirag')\n",
    "print(f1)\n",
    "f1.setdefault('Age')\n",
    "print(f1)\n",
    "f1.setdefault('a15',90) # it cant be used to update the exiting value for a given key\n",
    "print(f1)\n",
    "f1.popitem()\n",
    "print(f1)"
   ]
  },
  {
   "cell_type": "markdown",
   "id": "5bc3f775",
   "metadata": {},
   "source": [
    "#### 7), 8) and 9) keys, values and items\n",
    "keys()- Returns keys of the dict<br>\n",
    "values()- Returns values of the dict<br>\n",
    "items()- Returns keys,values of the dict in tuple format"
   ]
  },
  {
   "cell_type": "code",
   "execution_count": 19,
   "id": "eae01524",
   "metadata": {},
   "outputs": [
    {
     "name": "stdout",
     "output_type": "stream",
     "text": [
      "dict_keys(['a1', 'a2', 'a3', 'a4'])\n",
      "dict_values([7, 12, 19, 25])\n",
      "dict_items([('a1', 7), ('a2', 12), ('a3', 19), ('a4', 25)])\n"
     ]
    }
   ],
   "source": [
    "d = {'a1':7,'a2':12,'a3':19,'a4':25}\n",
    "print(d.keys())\n",
    "print(d.values())\n",
    "print(d.items())"
   ]
  },
  {
   "cell_type": "code",
   "execution_count": 20,
   "id": "b0cd07ba",
   "metadata": {},
   "outputs": [
    {
     "name": "stdout",
     "output_type": "stream",
     "text": [
      "['a1', 'a2', 'a3', 'a4']\n",
      "[7, 12, 19, 25]\n",
      "[('a1', 7), ('a2', 12), ('a3', 19), ('a4', 25)]\n"
     ]
    }
   ],
   "source": [
    "d = {'a1':7,'a2':12,'a3':19,'a4':25}\n",
    "print(list(d.keys())) # list of keys\n",
    "print(list(d.values())) # list of values\n",
    "print(list(d.items())) # list of tuples containing key,value"
   ]
  },
  {
   "cell_type": "markdown",
   "id": "4a6f462f",
   "metadata": {},
   "source": [
    "### Iteration in Dict\n",
    "By default dict allows iteration only on its keys"
   ]
  },
  {
   "cell_type": "code",
   "execution_count": 21,
   "id": "e072062a",
   "metadata": {},
   "outputs": [
    {
     "name": "stdout",
     "output_type": "stream",
     "text": [
      "a1 7 7\n",
      "a2 12 12\n",
      "a3 19 19\n",
      "a4 25 25\n"
     ]
    }
   ],
   "source": [
    "# Method-1\n",
    "d = {'a1':7,'a2':12,'a3':19,'a4':25}\n",
    "for i in d: # i corresponds to each and every key of the dict\n",
    "    print(i,d[i],d.get(i))"
   ]
  },
  {
   "cell_type": "code",
   "execution_count": 22,
   "id": "30280a6f",
   "metadata": {},
   "outputs": [
    {
     "name": "stdout",
     "output_type": "stream",
     "text": [
      "a1 7 7\n",
      "a2 12 12\n",
      "a3 19 19\n",
      "a4 25 25\n"
     ]
    }
   ],
   "source": [
    "# Method-2\n",
    "d = {'a1':7,'a2':12,'a3':19,'a4':25}\n",
    "for i in d.keys(): # i corresponds to each and every key of the dict\n",
    "    print(i,d[i],d.get(i))"
   ]
  },
  {
   "cell_type": "code",
   "execution_count": 23,
   "id": "6124f322",
   "metadata": {},
   "outputs": [
    {
     "name": "stdout",
     "output_type": "stream",
     "text": [
      "7\n",
      "12\n",
      "19\n",
      "25\n"
     ]
    }
   ],
   "source": [
    "# Method-3\n",
    "d = {'a1':7,'a2':12,'a3':19,'a4':25}\n",
    "for i in d.values(): # i corresponds to each and every values of the dict\n",
    "    print(i)"
   ]
  },
  {
   "cell_type": "code",
   "execution_count": 24,
   "id": "ab8397e5",
   "metadata": {},
   "outputs": [
    {
     "name": "stdout",
     "output_type": "stream",
     "text": [
      "('a1', 7)\n",
      "('a2', 12)\n",
      "('a3', 19)\n",
      "('a4', 25)\n"
     ]
    }
   ],
   "source": [
    "# Method-4\n",
    "d = {'a1':7,'a2':12,'a3':19,'a4':25}\n",
    "for i in d.items(): # i corresponds to each and every (key,values) of the dict\n",
    "    print(i)"
   ]
  },
  {
   "cell_type": "code",
   "execution_count": 25,
   "id": "11771564",
   "metadata": {},
   "outputs": [
    {
     "name": "stdout",
     "output_type": "stream",
     "text": [
      "a1 7\n",
      "a2 12\n",
      "a3 19\n",
      "a4 25\n"
     ]
    }
   ],
   "source": [
    "# Method-5\n",
    "d = {'a1':7,'a2':12,'a3':19,'a4':25}\n",
    "for k,v in d.items(): # k corresponds to the keys and v corresponds to the value\n",
    "    print(k,v)"
   ]
  },
  {
   "cell_type": "markdown",
   "id": "554bb09c",
   "metadata": {},
   "source": [
    "#### Dict containing all data types\n",
    "Keys cant be list,set or dict"
   ]
  },
  {
   "cell_type": "code",
   "execution_count": 26,
   "id": "8dd24475",
   "metadata": {},
   "outputs": [
    {
     "name": "stdout",
     "output_type": "stream",
     "text": [
      "{'a1': 10, 23: 'Python', 19.54: 'Hello', True: 'Bye', (11, 12, 13): 'Google', (4+5j): 20, None: 'Welcome'}\n"
     ]
    }
   ],
   "source": [
    "v = {'a1':10,23:\"Python\",19.54:'Hello',True:'Bye',(11,12,13):'Google',(4+5j):20,\n",
    "     None:'Welcome'}\n",
    "print(v)"
   ]
  },
  {
   "cell_type": "code",
   "execution_count": 27,
   "id": "de1fe7e4",
   "metadata": {},
   "outputs": [
    {
     "ename": "TypeError",
     "evalue": "unhashable type: 'list'",
     "output_type": "error",
     "traceback": [
      "\u001b[1;31m---------------------------------------------------------------------------\u001b[0m",
      "\u001b[1;31mTypeError\u001b[0m                                 Traceback (most recent call last)",
      "Input \u001b[1;32mIn [27]\u001b[0m, in \u001b[0;36m<module>\u001b[1;34m\u001b[0m\n\u001b[1;32m----> 1\u001b[0m v1 \u001b[38;5;241m=\u001b[39m {[\u001b[38;5;241m11\u001b[39m,\u001b[38;5;241m12\u001b[39m]:\u001b[38;5;124m'\u001b[39m\u001b[38;5;124mHello\u001b[39m\u001b[38;5;124m'\u001b[39m}\n\u001b[0;32m      2\u001b[0m \u001b[38;5;28mprint\u001b[39m(v1)\n",
      "\u001b[1;31mTypeError\u001b[0m: unhashable type: 'list'"
     ]
    }
   ],
   "source": [
    "v1 = {[11,12]:'Hello'}\n",
    "print(v1)"
   ]
  },
  {
   "cell_type": "code",
   "execution_count": 28,
   "id": "961d80e5",
   "metadata": {},
   "outputs": [
    {
     "ename": "TypeError",
     "evalue": "unhashable type: 'set'",
     "output_type": "error",
     "traceback": [
      "\u001b[1;31m---------------------------------------------------------------------------\u001b[0m",
      "\u001b[1;31mTypeError\u001b[0m                                 Traceback (most recent call last)",
      "Input \u001b[1;32mIn [28]\u001b[0m, in \u001b[0;36m<module>\u001b[1;34m\u001b[0m\n\u001b[1;32m----> 1\u001b[0m v1 \u001b[38;5;241m=\u001b[39m {{\u001b[38;5;241m11\u001b[39m,\u001b[38;5;241m12\u001b[39m}:\u001b[38;5;124m'\u001b[39m\u001b[38;5;124mHello\u001b[39m\u001b[38;5;124m'\u001b[39m}\n\u001b[0;32m      2\u001b[0m \u001b[38;5;28mprint\u001b[39m(v1)\n",
      "\u001b[1;31mTypeError\u001b[0m: unhashable type: 'set'"
     ]
    }
   ],
   "source": [
    "v1 = {{11,12}:'Hello'}\n",
    "print(v1)"
   ]
  },
  {
   "cell_type": "code",
   "execution_count": 29,
   "id": "f294c509",
   "metadata": {},
   "outputs": [
    {
     "ename": "TypeError",
     "evalue": "unhashable type: 'dict'",
     "output_type": "error",
     "traceback": [
      "\u001b[1;31m---------------------------------------------------------------------------\u001b[0m",
      "\u001b[1;31mTypeError\u001b[0m                                 Traceback (most recent call last)",
      "Input \u001b[1;32mIn [29]\u001b[0m, in \u001b[0;36m<module>\u001b[1;34m\u001b[0m\n\u001b[1;32m----> 1\u001b[0m v1 \u001b[38;5;241m=\u001b[39m {{\u001b[38;5;241m11\u001b[39m:\u001b[38;5;241m12\u001b[39m}:\u001b[38;5;124m'\u001b[39m\u001b[38;5;124mHello\u001b[39m\u001b[38;5;124m'\u001b[39m}\n\u001b[0;32m      2\u001b[0m \u001b[38;5;28mprint\u001b[39m(v1)\n",
      "\u001b[1;31mTypeError\u001b[0m: unhashable type: 'dict'"
     ]
    }
   ],
   "source": [
    "v1 = {{11:12}:'Hello'}\n",
    "print(v1)"
   ]
  },
  {
   "cell_type": "code",
   "execution_count": 30,
   "id": "962fe669",
   "metadata": {},
   "outputs": [
    {
     "name": "stdout",
     "output_type": "stream",
     "text": [
      "{'a1': 'Hello', 'a2': 123, 'a3': 45.67, 'a4': None, 'a5': (7+4j), 'a6': [1, 2, 3, 4], 'a7': (6, 7, 8), 'a8': {11, 12, 13, 14}, 'a9': {'Name': 'Chirag', 'Age': 19}, 'a10': False}\n"
     ]
    }
   ],
   "source": [
    "w = {'a1':'Hello','a2':123,'a3':45.67,'a4':None,'a5':(7+4j),'a6':[1,2,3,4],'a7':(6,7,8),\n",
    "    'a8':{11,12,13,14},'a9':{'Name':'Chirag','Age':19},'a10':False}\n",
    "print(w)"
   ]
  },
  {
   "cell_type": "markdown",
   "id": "9d88124a",
   "metadata": {},
   "source": [
    "#### Count of each and very element using dictionary"
   ]
  },
  {
   "cell_type": "code",
   "execution_count": 31,
   "id": "d6268716",
   "metadata": {},
   "outputs": [
    {
     "name": "stdout",
     "output_type": "stream",
     "text": [
      "12 2\n",
      "23 2\n",
      "12 2\n",
      "34 4\n",
      "23 2\n",
      "45 3\n",
      "56 3\n",
      "45 3\n",
      "34 4\n",
      "56 3\n",
      "67 2\n",
      "78 2\n",
      "67 2\n",
      "45 3\n",
      "34 4\n",
      "56 3\n",
      "34 4\n",
      "78 2\n",
      "89 1\n"
     ]
    }
   ],
   "source": [
    "r = [12,23,12,34,23,45,56,45,34,56,67,78,67,45,34,56,34,78,89]\n",
    "for i in range(len(r)):\n",
    "    print(r[i],r.count(r[i]))"
   ]
  },
  {
   "cell_type": "code",
   "execution_count": 32,
   "id": "33b53897",
   "metadata": {},
   "outputs": [
    {
     "name": "stdout",
     "output_type": "stream",
     "text": [
      "[12, 23, 12, 34, 23, 45, 56, 45, 34, 56, 67, 78, 67, 45, 34, 56, 34, 78, 89]\n",
      "{12: 2, 23: 2, 34: 4, 45: 3, 56: 3, 67: 2, 78: 2, 89: 1}\n"
     ]
    }
   ],
   "source": [
    "print(r)\n",
    "d = {}\n",
    "for i in range(len(r)):  # i=0,1,2,3....18\n",
    "    d[r[i]] = r.count(r[i])\n",
    "print(d)\n",
    "# i=0, d[r[0]] = r.count(r[0]) => d={12:2}\n",
    "# i=1, d[r[1]] = r.count(r[1]) => d={12:2,23:2}\n",
    "# i=2, d[r[2]] = r.count(r[2]) => d={12:2,23:2}\n",
    "# ..."
   ]
  },
  {
   "cell_type": "code",
   "execution_count": 33,
   "id": "dc313017",
   "metadata": {},
   "outputs": [],
   "source": [
    "# List => []   -> Mutable\n",
    "# Tuple  => () -> Immutable\n",
    "# Set => {}    -> Mutable\n",
    "# Dict => {k1:v1,k2:v2} -> Mutable"
   ]
  }
 ],
 "metadata": {
  "kernelspec": {
   "display_name": "Python 3 (ipykernel)",
   "language": "python",
   "name": "python3"
  },
  "language_info": {
   "codemirror_mode": {
    "name": "ipython",
    "version": 3
   },
   "file_extension": ".py",
   "mimetype": "text/x-python",
   "name": "python",
   "nbconvert_exporter": "python",
   "pygments_lexer": "ipython3",
   "version": "3.10.2"
  }
 },
 "nbformat": 4,
 "nbformat_minor": 5
}
