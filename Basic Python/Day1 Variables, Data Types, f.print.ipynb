{
 "cells": [
  {
   "cell_type": "markdown",
   "id": "543d9c6e",
   "metadata": {},
   "source": [
    "#### Jupyter Shortcuts\n",
    "1) Shift + Enter = Run a cell<br>\n",
    "2) Shift + Tab = Displays function definition<br>"
   ]
  },
  {
   "cell_type": "code",
   "execution_count": 1,
   "id": "b158c2cb",
   "metadata": {},
   "outputs": [
    {
     "name": "stdout",
     "output_type": "stream",
     "text": [
      "Chirag Kaura\n",
      "Welcome to this Python Session\n",
      "10\n"
     ]
    }
   ],
   "source": [
    "# '' - Single quotes\n",
    "# \"\" - Double quotes\n",
    "print('Chirag Kaura')\n",
    "print(\"Welcome to this Python Session\")\n",
    "print(5*2)"
   ]
  },
  {
   "cell_type": "markdown",
   "id": "0192335d",
   "metadata": {},
   "source": [
    "### Variable\n",
    "1) A variable is a container which is used to store some value. The value can be of any data type<br>\n",
    "2) Multiple variables can be initialized in the same line by separating them by comma<br>\n",
    "3) Variables can be reinitialized, reassigned, redeclared"
   ]
  },
  {
   "cell_type": "code",
   "execution_count": 2,
   "id": "74c399d6",
   "metadata": {},
   "outputs": [
    {
     "name": "stdout",
     "output_type": "stream",
     "text": [
      "15\n"
     ]
    }
   ],
   "source": [
    "a = 15\n",
    "print(a)\n",
    "# a is the variable\n",
    "# 1) The value of 15 is stored in the variable a\n",
    "# 2) The value of 15 is assigned in the variable a\n",
    "# 3) The variable a is initialized with the value of 15"
   ]
  },
  {
   "cell_type": "code",
   "execution_count": 3,
   "id": "f713c93b",
   "metadata": {},
   "outputs": [
    {
     "name": "stdout",
     "output_type": "stream",
     "text": [
      "10\n",
      "True\n",
      "hello\n",
      "10 True\n"
     ]
    }
   ],
   "source": [
    "p,q,r = 10,True,\"hello\"\n",
    "print(p)\n",
    "print(q)\n",
    "print(r)\n",
    "print(p,q)"
   ]
  },
  {
   "cell_type": "code",
   "execution_count": 4,
   "id": "d2539ed4",
   "metadata": {},
   "outputs": [
    {
     "name": "stdout",
     "output_type": "stream",
     "text": [
      "7\n",
      "Python\n"
     ]
    }
   ],
   "source": [
    "# Variables can be reinitialized, reassigned, redeclared\n",
    "x = 7\n",
    "print(x)\n",
    "x = \"Python\"\n",
    "print(x)"
   ]
  },
  {
   "cell_type": "markdown",
   "id": "6d845b52",
   "metadata": {},
   "source": [
    "#### Rules of Naming a variable\n",
    "\n",
    "1) Start start with A-Z, a-z or underscore(_)<br>\n",
    "2) Should not start with number<br>\n",
    "3) Should not contain special characters<br>\n",
    "4) Should not contain python keywords<br>"
   ]
  },
  {
   "cell_type": "code",
   "execution_count": 5,
   "id": "8413bb42",
   "metadata": {},
   "outputs": [
    {
     "name": "stdout",
     "output_type": "stream",
     "text": [
      "Python\n"
     ]
    }
   ],
   "source": [
    "_A1 = \"Python\"\n",
    "print(_A1)"
   ]
  },
  {
   "cell_type": "code",
   "execution_count": 6,
   "id": "6ad4bf23",
   "metadata": {},
   "outputs": [
    {
     "ename": "SyntaxError",
     "evalue": "invalid decimal literal (720170139.py, line 1)",
     "output_type": "error",
     "traceback": [
      "\u001b[1;36m  Input \u001b[1;32mIn [6]\u001b[1;36m\u001b[0m\n\u001b[1;33m    324wewr = \"Hello\"\u001b[0m\n\u001b[1;37m      ^\u001b[0m\n\u001b[1;31mSyntaxError\u001b[0m\u001b[1;31m:\u001b[0m invalid decimal literal\n"
     ]
    }
   ],
   "source": [
    "324wewr = \"Hello\"\n",
    "print(324wewr)"
   ]
  },
  {
   "cell_type": "code",
   "execution_count": 7,
   "id": "141ba4a3",
   "metadata": {},
   "outputs": [
    {
     "ename": "SyntaxError",
     "evalue": "cannot assign to expression here. Maybe you meant '==' instead of '='? (2493428733.py, line 1)",
     "output_type": "error",
     "traceback": [
      "\u001b[1;36m  Input \u001b[1;32mIn [7]\u001b[1;36m\u001b[0m\n\u001b[1;33m    run@123 = \"World\"\u001b[0m\n\u001b[1;37m    ^\u001b[0m\n\u001b[1;31mSyntaxError\u001b[0m\u001b[1;31m:\u001b[0m cannot assign to expression here. Maybe you meant '==' instead of '='?\n"
     ]
    }
   ],
   "source": [
    "run@123 = \"World\"\n",
    "print(run@123)"
   ]
  },
  {
   "cell_type": "code",
   "execution_count": 8,
   "id": "da1e7f5e",
   "metadata": {},
   "outputs": [
    {
     "name": "stdout",
     "output_type": "stream",
     "text": [
      "15.6\n"
     ]
    },
    {
     "data": {
      "text/plain": [
       "float"
      ]
     },
     "execution_count": 8,
     "metadata": {},
     "output_type": "execute_result"
    }
   ],
   "source": [
    "w = 15.6\n",
    "print(w)\n",
    "type(w)"
   ]
  },
  {
   "cell_type": "markdown",
   "id": "2320d886",
   "metadata": {},
   "source": [
    "#### Dynamic Typing\n",
    "The data type of the variable is defined at the run time"
   ]
  },
  {
   "cell_type": "code",
   "execution_count": 9,
   "id": "ac2e58b8",
   "metadata": {},
   "outputs": [
    {
     "name": "stdout",
     "output_type": "stream",
     "text": [
      "34\n"
     ]
    },
    {
     "data": {
      "text/plain": [
       "int"
      ]
     },
     "execution_count": 9,
     "metadata": {},
     "output_type": "execute_result"
    }
   ],
   "source": [
    "# int a = 10\n",
    "w = 34\n",
    "print(w)\n",
    "type(w)"
   ]
  },
  {
   "cell_type": "markdown",
   "id": "210faf3d",
   "metadata": {},
   "source": [
    "#### Data Types"
   ]
  },
  {
   "cell_type": "code",
   "execution_count": 10,
   "id": "a01a5e9a",
   "metadata": {},
   "outputs": [
    {
     "name": "stdout",
     "output_type": "stream",
     "text": [
      "123456\n"
     ]
    },
    {
     "data": {
      "text/plain": [
       "int"
      ]
     },
     "execution_count": 10,
     "metadata": {},
     "output_type": "execute_result"
    }
   ],
   "source": [
    "a1 = 123456\n",
    "print(a1)\n",
    "type(a1)"
   ]
  },
  {
   "cell_type": "code",
   "execution_count": 11,
   "id": "4908213f",
   "metadata": {},
   "outputs": [
    {
     "name": "stdout",
     "output_type": "stream",
     "text": [
      "-832.34\n"
     ]
    },
    {
     "data": {
      "text/plain": [
       "float"
      ]
     },
     "execution_count": 11,
     "metadata": {},
     "output_type": "execute_result"
    }
   ],
   "source": [
    "a2 = -832.34\n",
    "print(a2)\n",
    "type(a2)"
   ]
  },
  {
   "cell_type": "markdown",
   "id": "e4854b8b",
   "metadata": {},
   "source": [
    "#### Strings\n",
    "1) Enclosed in single, double or triple quotes<br>\n",
    "2) Triple quotes are used to write multiline strings\n",
    "\n",
    "        \"\" - Double Quotes\n",
    "        '' - Single Quotes\n",
    "        \"\"\"\"\"\" - Triple quotes\n",
    "        '''''' - Triple quotes"
   ]
  },
  {
   "cell_type": "code",
   "execution_count": 12,
   "id": "ac2c6eb6",
   "metadata": {},
   "outputs": [
    {
     "name": "stdout",
     "output_type": "stream",
     "text": [
      "Chirag Kaura\n"
     ]
    },
    {
     "data": {
      "text/plain": [
       "str"
      ]
     },
     "execution_count": 12,
     "metadata": {},
     "output_type": "execute_result"
    }
   ],
   "source": [
    "a3 = \"Chirag Kaura\"  # \"\" - double quotes\n",
    "a4 = 'Learning Python'       # ''  - single quotes\n",
    "print(a3)\n",
    "type(a4)"
   ]
  },
  {
   "cell_type": "code",
   "execution_count": 13,
   "id": "63beba41",
   "metadata": {},
   "outputs": [
    {
     "ename": "SyntaxError",
     "evalue": "unterminated string literal (detected at line 1) (2270785456.py, line 1)",
     "output_type": "error",
     "traceback": [
      "\u001b[1;36m  Input \u001b[1;32mIn [13]\u001b[1;36m\u001b[0m\n\u001b[1;33m    a5 = \"Chiru'\u001b[0m\n\u001b[1;37m         ^\u001b[0m\n\u001b[1;31mSyntaxError\u001b[0m\u001b[1;31m:\u001b[0m unterminated string literal (detected at line 1)\n"
     ]
    }
   ],
   "source": [
    "a5 = \"Chiru'\n",
    "print(a5)"
   ]
  },
  {
   "cell_type": "code",
   "execution_count": 14,
   "id": "0261cbee",
   "metadata": {},
   "outputs": [
    {
     "name": "stdout",
     "output_type": "stream",
     "text": [
      "Russia vs. Ukraine war has affected the world stock market.\n",
      "The market is hitting a new low every day.\n"
     ]
    },
    {
     "data": {
      "text/plain": [
       "str"
      ]
     },
     "execution_count": 14,
     "metadata": {},
     "output_type": "execute_result"
    }
   ],
   "source": [
    "a5 = '''Russia vs. Ukraine war has affected the world stock market.\n",
    "The market is hitting a new low every day.'''\n",
    "print(a5)\n",
    "type(a5)"
   ]
  },
  {
   "cell_type": "code",
   "execution_count": 15,
   "id": "7983cd60",
   "metadata": {},
   "outputs": [
    {
     "name": "stdout",
     "output_type": "stream",
     "text": [
      "Russia vs. Ukraine war has affected the world stock market.\n",
      "The market is hitting a new low every day.\n",
      "Even i am having a huge no of losses\n"
     ]
    },
    {
     "data": {
      "text/plain": [
       "str"
      ]
     },
     "execution_count": 15,
     "metadata": {},
     "output_type": "execute_result"
    }
   ],
   "source": [
    "a5 = \"\"\"Russia vs. Ukraine war has affected the world stock market.\n",
    "The market is hitting a new low every day.\n",
    "Even i am having a huge no of losses\"\"\"\n",
    "print(a5)\n",
    "type(a5)"
   ]
  },
  {
   "cell_type": "code",
   "execution_count": 16,
   "id": "9e96bc5f",
   "metadata": {},
   "outputs": [
    {
     "name": "stdout",
     "output_type": "stream",
     "text": [
      "welcome to \n",
      "world of greatness\n"
     ]
    }
   ],
   "source": [
    "d1 = '''welcome to \n",
    "world of greatness'''\n",
    "print(d1)"
   ]
  },
  {
   "cell_type": "code",
   "execution_count": 17,
   "id": "2abe06f0",
   "metadata": {},
   "outputs": [
    {
     "name": "stdout",
     "output_type": "stream",
     "text": [
      "False\n"
     ]
    },
    {
     "data": {
      "text/plain": [
       "bool"
      ]
     },
     "execution_count": 17,
     "metadata": {},
     "output_type": "execute_result"
    }
   ],
   "source": [
    "# bool - True or False\n",
    "a6 = False\n",
    "print(a6)\n",
    "type(a6)"
   ]
  },
  {
   "cell_type": "code",
   "execution_count": 18,
   "id": "11a6cc09",
   "metadata": {},
   "outputs": [
    {
     "name": "stdout",
     "output_type": "stream",
     "text": [
      "(5+9j)\n"
     ]
    },
    {
     "data": {
      "text/plain": [
       "complex"
      ]
     },
     "execution_count": 18,
     "metadata": {},
     "output_type": "execute_result"
    }
   ],
   "source": [
    "a7 = 5+9j\n",
    "print(a7)\n",
    "type(a7)\n",
    "# p + qj => p is the real part, q is the imaginary part, j is square root of -1"
   ]
  },
  {
   "cell_type": "code",
   "execution_count": 19,
   "id": "ed5cb68c",
   "metadata": {},
   "outputs": [
    {
     "name": "stdout",
     "output_type": "stream",
     "text": [
      "None\n"
     ]
    },
    {
     "data": {
      "text/plain": [
       "NoneType"
      ]
     },
     "execution_count": 19,
     "metadata": {},
     "output_type": "execute_result"
    }
   ],
   "source": [
    "a8 = None\n",
    "print(a8)\n",
    "type(a8)"
   ]
  },
  {
   "cell_type": "markdown",
   "id": "f21fd283",
   "metadata": {},
   "source": [
    "### Operators"
   ]
  },
  {
   "cell_type": "markdown",
   "id": "99f4f65c",
   "metadata": {},
   "source": [
    "#### 1) Arithmetic Operators"
   ]
  },
  {
   "cell_type": "code",
   "execution_count": 20,
   "id": "c7bef230",
   "metadata": {},
   "outputs": [
    {
     "name": "stdout",
     "output_type": "stream",
     "text": [
      "7\n",
      "3\n",
      "10\n",
      "2.5\n",
      "2\n",
      "25\n",
      "32\n",
      "1\n"
     ]
    }
   ],
   "source": [
    "a,b = 5,2\n",
    "print(a+b)\n",
    "print(a-b)\n",
    "print(a*b)\n",
    "print(a/b)  # Normal Division - always returns floats\n",
    "print(a//b) # Integer division \n",
    "print(a**b) # Power operators => a raised to power of b\n",
    "print(b**a) # b raised to the power of a\n",
    "print(a%b)  # Mod Operator => Returns remainder"
   ]
  },
  {
   "cell_type": "markdown",
   "id": "5eac18b9",
   "metadata": {},
   "source": [
    "#### 2) Assignment Operator"
   ]
  },
  {
   "cell_type": "code",
   "execution_count": 21,
   "id": "22cadc10",
   "metadata": {},
   "outputs": [
    {
     "name": "stdout",
     "output_type": "stream",
     "text": [
      "5 2\n",
      "7 2\n",
      "5 2\n",
      "5 10\n",
      "0.5 10\n"
     ]
    }
   ],
   "source": [
    "a,b = 5,2\n",
    "print(a,b)\n",
    "a += b     # a = a+b\n",
    "print(a,b) # a=7, b=2\n",
    "a -= b     # a = a-b  \n",
    "print(a,b) # a=5, b=2\n",
    "b *= a     # b= b*a\n",
    "print(a,b) # a=5 , b=10\n",
    "a /= b     # a= a/b\n",
    "print(a,b) # a=0.5, b=10 "
   ]
  },
  {
   "cell_type": "markdown",
   "id": "3413851a",
   "metadata": {},
   "source": [
    "#### 3) Relational or Comparison Operators - returns True or False"
   ]
  },
  {
   "cell_type": "code",
   "execution_count": 22,
   "id": "5e947356",
   "metadata": {},
   "outputs": [
    {
     "name": "stdout",
     "output_type": "stream",
     "text": [
      "True\n",
      "True\n",
      "False\n",
      "False\n",
      "True\n",
      "False\n"
     ]
    }
   ],
   "source": [
    "a,b = 5,2\n",
    "print(a>b)\n",
    "print(a>=b)\n",
    "print(a<b)\n",
    "print(a<=b)\n",
    "print(a!=b)  # !=   => Not equal to ( a not equals to b)\n",
    "print(a==b)  # ==   => Equal to  (Comparison)"
   ]
  },
  {
   "cell_type": "markdown",
   "id": "dc890add",
   "metadata": {},
   "source": [
    "#### 4) Logical Operators - returns True or False\n",
    "\n",
    "and - returns True when both conditions are True, otherwise False \n",
    "\n",
    "or - returns True when either of the conditions is True, otherwise False"
   ]
  },
  {
   "cell_type": "code",
   "execution_count": 23,
   "id": "e3fd6096",
   "metadata": {},
   "outputs": [
    {
     "name": "stdout",
     "output_type": "stream",
     "text": [
      "True\n",
      "False\n",
      "False\n",
      "True\n",
      "True\n",
      "True\n"
     ]
    }
   ],
   "source": [
    "a,b,c = 10,7,15  \n",
    "print(a>b and a<c)\n",
    "print(a<b and c>a)\n",
    "print(a>c and b>c)\n",
    "print(a>b or c<a)\n",
    "print(c>a or b>a)\n",
    "d = False\n",
    "print(not d)\n",
    "# & - bitwise AND\n",
    "# | - bitwsie OR"
   ]
  },
  {
   "cell_type": "markdown",
   "id": "543e5383",
   "metadata": {},
   "source": [
    "#### 5) Membership Operator(in, not in) - returns True or False\n",
    "membership operators works with Strings, List and Tuples,Sets"
   ]
  },
  {
   "cell_type": "code",
   "execution_count": 24,
   "id": "dcfdf3a6",
   "metadata": {},
   "outputs": [
    {
     "name": "stdout",
     "output_type": "stream",
     "text": [
      "True\n",
      "True\n",
      "True\n",
      "False\n",
      "False\n",
      "True\n",
      "False\n",
      "False\n",
      "True\n"
     ]
    }
   ],
   "source": [
    "a = \"Russia vs. Ukraine war has affected the global economy drastically.\"\n",
    "print('war' in a)\n",
    "print(\"cted\" in a)\n",
    "print(\"bal eco\" in a)\n",
    "print(\"baleco\" in a)\n",
    "print(\"eco bal\" in a)\n",
    "print(\"\"\"Ukraine\"\"\" in a)\n",
    "print(\"when\" in a)\n",
    "print(\"has aff\" not in a)\n",
    "print(\"happen\" not in a)"
   ]
  },
  {
   "cell_type": "code",
   "execution_count": 25,
   "id": "d17d44e5",
   "metadata": {},
   "outputs": [
    {
     "name": "stdout",
     "output_type": "stream",
     "text": [
      "Welcome to Chiru's world\n",
      "Chirag Kaura\n"
     ]
    }
   ],
   "source": [
    "print(\"Welcome to Chiru's world\")\n",
    "print('Chirag Kaura')"
   ]
  },
  {
   "cell_type": "markdown",
   "id": "1956e2d5",
   "metadata": {},
   "source": [
    "### print and input (Input and Output)\n",
    "\\n - newline character"
   ]
  },
  {
   "cell_type": "code",
   "execution_count": 26,
   "id": "39cdaba2",
   "metadata": {},
   "outputs": [
    {
     "name": "stdout",
     "output_type": "stream",
     "text": [
      "welcome to \n",
      "Chiru's world\n"
     ]
    }
   ],
   "source": [
    "print(\"welcome to \\nChiru's world\")"
   ]
  },
  {
   "cell_type": "code",
   "execution_count": 27,
   "id": "82f9606d",
   "metadata": {},
   "outputs": [
    {
     "name": "stdout",
     "output_type": "stream",
     "text": [
      "78 45\n",
      "45 78\n",
      "Hello\n"
     ]
    }
   ],
   "source": [
    "w,n = 78,45\n",
    "print(w,n)\n",
    "print(n,w)\n",
    "print('Hello')"
   ]
  },
  {
   "cell_type": "markdown",
   "id": "44793e1d",
   "metadata": {},
   "source": [
    "#### parameters of print - end and sep\n",
    "end - values passed in end parameter will be displayed at the end"
   ]
  },
  {
   "cell_type": "code",
   "execution_count": 28,
   "id": "a14f3542",
   "metadata": {},
   "outputs": [
    {
     "name": "stdout",
     "output_type": "stream",
     "text": [
      "Hello Chirag Doing Well\n",
      "Hello Chirag Doing Well Welcome Chiru\n"
     ]
    }
   ],
   "source": [
    "a = \"Hello\"\n",
    "b = \"Chirag\"\n",
    "c = \"Doing Well\"\n",
    "print(a,b,c)                  # end ='\\n'\n",
    "print(a,b,c,end=\" Welcome \")\n",
    "print('Chiru')"
   ]
  },
  {
   "cell_type": "code",
   "execution_count": 29,
   "id": "0c9570bb",
   "metadata": {},
   "outputs": [
    {
     "name": "stdout",
     "output_type": "stream",
     "text": [
      "Hello Doing Well ** Expert\n"
     ]
    }
   ],
   "source": [
    "print(a,c,end=\" ** \")\n",
    "print('Expert')"
   ]
  },
  {
   "cell_type": "code",
   "execution_count": 30,
   "id": "83ef1b04",
   "metadata": {},
   "outputs": [
    {
     "name": "stdout",
     "output_type": "stream",
     "text": [
      "Hello Chirag 34 Chirag Doing Well\n"
     ]
    }
   ],
   "source": [
    "print(a,b,end=\" 34 \")\n",
    "print(b,c)"
   ]
  },
  {
   "cell_type": "code",
   "execution_count": 31,
   "id": "d89bb78b",
   "metadata": {},
   "outputs": [
    {
     "name": "stdout",
     "output_type": "stream",
     "text": [
      "Hello Chirag 34\n",
      "Chirag Doing Well\n"
     ]
    }
   ],
   "source": [
    "print(a,b,end=\" 34\\n\")\n",
    "print(b,c)"
   ]
  },
  {
   "cell_type": "markdown",
   "id": "c7525bf6",
   "metadata": {},
   "source": [
    "#### sep - It is used to sepearate different values that are passed in the print()"
   ]
  },
  {
   "cell_type": "code",
   "execution_count": 32,
   "id": "994c8c69",
   "metadata": {},
   "outputs": [
    {
     "name": "stdout",
     "output_type": "stream",
     "text": [
      "Hi Bye You\n",
      "Hi__Bye__You\n",
      "Hi *** Bye *** You\n"
     ]
    }
   ],
   "source": [
    "p,q,r = \"Hi\",\"Bye\",\"You\"\n",
    "print(p,q,r)  # Default sep used is \" \"  (empty space)\n",
    "print(p,q,r,sep=\"__\")\n",
    "print(p,q,r,sep=\" *** \")"
   ]
  },
  {
   "cell_type": "code",
   "execution_count": 33,
   "id": "e9da7a70",
   "metadata": {},
   "outputs": [
    {
     "name": "stdout",
     "output_type": "stream",
     "text": [
      "Money\n",
      "Money Paisa\n",
      "Money Paisa Minded\n",
      "Money\n",
      "Minded\n"
     ]
    }
   ],
   "source": [
    "p = \"Money\"\n",
    "q = \"Minded\"\n",
    "print(p,sep=\" Paisa \")  # Google \n",
    "print(p,end=\" Paisa\\n\")  # Google Python\n",
    "print(p,q,sep=\" Paisa \")\n",
    "print(p,q,sep=\"\\n\")"
   ]
  },
  {
   "cell_type": "markdown",
   "id": "29593967",
   "metadata": {},
   "source": [
    "#### input()\n",
    "1) It is used to accpet user input. Accpet data at run time.<br>\n",
    "2) Return type of input() is string"
   ]
  },
  {
   "cell_type": "code",
   "execution_count": 34,
   "id": "cd50df2c",
   "metadata": {},
   "outputs": [
    {
     "name": "stdout",
     "output_type": "stream",
     "text": [
      "Enter your name: CHIRAG KAURA\n",
      "CHIRAG KAURA\n"
     ]
    }
   ],
   "source": [
    "name = input(\"Enter your name: \")\n",
    "print(name)"
   ]
  },
  {
   "cell_type": "code",
   "execution_count": 35,
   "id": "89269c3e",
   "metadata": {},
   "outputs": [
    {
     "name": "stdout",
     "output_type": "stream",
     "text": [
      "Chiru\n",
      "Chiru\n"
     ]
    },
    {
     "data": {
      "text/plain": [
       "str"
      ]
     },
     "execution_count": 35,
     "metadata": {},
     "output_type": "execute_result"
    }
   ],
   "source": [
    "d = input()\n",
    "print(d)\n",
    "type(d)"
   ]
  },
  {
   "cell_type": "markdown",
   "id": "dca2910f",
   "metadata": {},
   "source": [
    "#### Typecasting\n",
    "Changing data from one data type to another data type"
   ]
  },
  {
   "cell_type": "code",
   "execution_count": 36,
   "id": "0f0f9934",
   "metadata": {},
   "outputs": [
    {
     "name": "stdout",
     "output_type": "stream",
     "text": [
      "Enter a number 35\n",
      "35\n"
     ]
    },
    {
     "data": {
      "text/plain": [
       "int"
      ]
     },
     "execution_count": 36,
     "metadata": {},
     "output_type": "execute_result"
    }
   ],
   "source": [
    "n = int(input('Enter a number '))\n",
    "print(n)\n",
    "type(n)"
   ]
  },
  {
   "cell_type": "code",
   "execution_count": 37,
   "id": "0366d112",
   "metadata": {},
   "outputs": [
    {
     "name": "stdout",
     "output_type": "stream",
     "text": [
      "Enter a number 35.5\n"
     ]
    },
    {
     "ename": "ValueError",
     "evalue": "invalid literal for int() with base 10: '35.5'",
     "output_type": "error",
     "traceback": [
      "\u001b[1;31m---------------------------------------------------------------------------\u001b[0m",
      "\u001b[1;31mValueError\u001b[0m                                Traceback (most recent call last)",
      "Input \u001b[1;32mIn [37]\u001b[0m, in \u001b[0;36m<module>\u001b[1;34m\u001b[0m\n\u001b[1;32m----> 1\u001b[0m n \u001b[38;5;241m=\u001b[39m \u001b[38;5;28;43mint\u001b[39;49m\u001b[43m(\u001b[49m\u001b[38;5;28;43minput\u001b[39;49m\u001b[43m(\u001b[49m\u001b[38;5;124;43m'\u001b[39;49m\u001b[38;5;124;43mEnter a number \u001b[39;49m\u001b[38;5;124;43m'\u001b[39;49m\u001b[43m)\u001b[49m\u001b[43m)\u001b[49m\n\u001b[0;32m      2\u001b[0m \u001b[38;5;28mprint\u001b[39m(n)\n\u001b[0;32m      3\u001b[0m \u001b[38;5;28mtype\u001b[39m(n)\n",
      "\u001b[1;31mValueError\u001b[0m: invalid literal for int() with base 10: '35.5'"
     ]
    }
   ],
   "source": [
    "n = int(input('Enter a number '))\n",
    "print(n)\n",
    "type(n)"
   ]
  },
  {
   "cell_type": "code",
   "execution_count": 38,
   "id": "353af9d5",
   "metadata": {},
   "outputs": [
    {
     "name": "stdout",
     "output_type": "stream",
     "text": [
      "Enter a number two\n"
     ]
    },
    {
     "ename": "ValueError",
     "evalue": "invalid literal for int() with base 10: 'two'",
     "output_type": "error",
     "traceback": [
      "\u001b[1;31m---------------------------------------------------------------------------\u001b[0m",
      "\u001b[1;31mValueError\u001b[0m                                Traceback (most recent call last)",
      "Input \u001b[1;32mIn [38]\u001b[0m, in \u001b[0;36m<module>\u001b[1;34m\u001b[0m\n\u001b[1;32m----> 1\u001b[0m n \u001b[38;5;241m=\u001b[39m \u001b[38;5;28;43mint\u001b[39;49m\u001b[43m(\u001b[49m\u001b[38;5;28;43minput\u001b[39;49m\u001b[43m(\u001b[49m\u001b[38;5;124;43m'\u001b[39;49m\u001b[38;5;124;43mEnter a number \u001b[39;49m\u001b[38;5;124;43m'\u001b[39;49m\u001b[43m)\u001b[49m\u001b[43m)\u001b[49m\n\u001b[0;32m      2\u001b[0m \u001b[38;5;28mprint\u001b[39m(n)\n\u001b[0;32m      3\u001b[0m \u001b[38;5;28mtype\u001b[39m(n)\n",
      "\u001b[1;31mValueError\u001b[0m: invalid literal for int() with base 10: 'two'"
     ]
    }
   ],
   "source": [
    "n = int(input('Enter a number '))\n",
    "print(n)\n",
    "type(n)"
   ]
  },
  {
   "cell_type": "markdown",
   "id": "e0cfce8e",
   "metadata": {},
   "source": [
    "### print formatting methods"
   ]
  },
  {
   "cell_type": "code",
   "execution_count": 39,
   "id": "56387840",
   "metadata": {},
   "outputs": [
    {
     "name": "stdout",
     "output_type": "stream",
     "text": [
      "Chirag ,whose age is 19 lives in Sirhind\n",
      "Chirag ,whose age is 19 lives in Sirhind\n",
      "Chirag ,whose age is 19 lives in Sirhind\n",
      "Chirag ,whose age is 19 lives in Sirhind\n"
     ]
    }
   ],
   "source": [
    "name = \"Chirag\"\n",
    "age = 19\n",
    "city = \"Sirhind\"\n",
    "print(name,',whose age is',age,'lives in',city)    # comma separated method\n",
    "print(f'{name} ,whose age is {age} lives in {city}')  # f-formatting\n",
    "print(f\"{name} ,whose age is {age} lives in {city}\")  # f-formatting\n",
    "print(\"{} ,whose age is {} lives in {}\".format(name,age,city))  # format method"
   ]
  },
  {
   "cell_type": "code",
   "execution_count": 40,
   "id": "4a1772de",
   "metadata": {},
   "outputs": [],
   "source": [
    "# variables\n",
    "# data types\n",
    "# Operators\n",
    "# input()\n",
    "# print()\n",
    "# end and sep\n",
    "# typecasting\n",
    "# print formatting"
   ]
  }
 ],
 "metadata": {
  "kernelspec": {
   "display_name": "Python 3 (ipykernel)",
   "language": "python",
   "name": "python3"
  },
  "language_info": {
   "codemirror_mode": {
    "name": "ipython",
    "version": 3
   },
   "file_extension": ".py",
   "mimetype": "text/x-python",
   "name": "python",
   "nbconvert_exporter": "python",
   "pygments_lexer": "ipython3",
   "version": "3.10.2"
  }
 },
 "nbformat": 4,
 "nbformat_minor": 5
}
