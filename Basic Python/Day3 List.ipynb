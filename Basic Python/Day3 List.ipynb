{
 "cells": [
  {
   "cell_type": "code",
   "execution_count": 1,
   "id": "2e3e1aeb",
   "metadata": {},
   "outputs": [],
   "source": [
    "# int, float, bool, str, None ,complex"
   ]
  },
  {
   "cell_type": "markdown",
   "id": "ab791172",
   "metadata": {},
   "source": [
    "### List\n",
    "1) List are ordered collection of elements of same or different data types<br>\n",
    "2) List elements are enclosed in square brackets [] and are separated by comma<br>\n",
    "3) List is mutable (can be changed)<br>\n",
    "4) Indexing and slicing is allowed in list(as list is ordered)<br>\n",
    "5) List can store duplicate elements"
   ]
  },
  {
   "cell_type": "markdown",
   "id": "5842c529",
   "metadata": {},
   "source": [
    "#### Creating Empty List\n",
    "Empty list is a list with no elements"
   ]
  },
  {
   "cell_type": "code",
   "execution_count": 2,
   "id": "e2d0b896",
   "metadata": {},
   "outputs": [
    {
     "name": "stdout",
     "output_type": "stream",
     "text": [
      "[]\n",
      "[]\n"
     ]
    }
   ],
   "source": [
    "w1 = []      # Method-1\n",
    "w2 = list()  # Method-2\n",
    "print(w1)\n",
    "print(w2)"
   ]
  },
  {
   "cell_type": "markdown",
   "id": "16492db3",
   "metadata": {},
   "source": [
    "#### Examples of List"
   ]
  },
  {
   "cell_type": "code",
   "execution_count": 3,
   "id": "5bb79e81",
   "metadata": {},
   "outputs": [
    {
     "name": "stdout",
     "output_type": "stream",
     "text": [
      "[12, 13, 14, 23, 45, 56, 67, 14]\n",
      "8\n",
      "['Chirag', 'Kaura', 2.45, False, None, 87]\n",
      "6\n"
     ]
    },
    {
     "data": {
      "text/plain": [
       "list"
      ]
     },
     "execution_count": 3,
     "metadata": {},
     "output_type": "execute_result"
    }
   ],
   "source": [
    "a1 = [12,13,14,23,45,56,67,14]  # all the elements are of same data type\n",
    "a2 = ['Chirag','Kaura',2.45,False,None,87] # elements are of different data type\n",
    "print(a1)\n",
    "print(len(a1))\n",
    "print(a2)\n",
    "print(len(a2))\n",
    "type(a2)"
   ]
  },
  {
   "cell_type": "markdown",
   "id": "e03fc2d7",
   "metadata": {},
   "source": [
    "#### Indexing and Slicing in List\n",
    "\n",
    "1) Left to Right - Indexes start from 0 towards positive direction (0,1,2,3,4...)<br>\n",
    "2) Right to Left - Indexes start from -1 towards negative direction (-1,-2,-3,...)"
   ]
  },
  {
   "cell_type": "code",
   "execution_count": 4,
   "id": "c31df159",
   "metadata": {},
   "outputs": [
    {
     "name": "stdout",
     "output_type": "stream",
     "text": [
      "[10, 15, 20, 25, 30, 35, 40, 45]\n"
     ]
    }
   ],
   "source": [
    "r = [10,15,20,25,30,35,40,45]\n",
    "print(r)"
   ]
  },
  {
   "cell_type": "code",
   "execution_count": 5,
   "id": "193b6905",
   "metadata": {},
   "outputs": [
    {
     "name": "stdout",
     "output_type": "stream",
     "text": [
      "10\n",
      "20\n",
      "40\n",
      "45\n",
      "35\n",
      "25\n"
     ]
    }
   ],
   "source": [
    "#### Indexing\n",
    "print(r[0])\n",
    "print(r[2])\n",
    "print(r[6])\n",
    "print(r[-1])\n",
    "print(r[-3])\n",
    "print(r[-5])"
   ]
  },
  {
   "cell_type": "markdown",
   "id": "91d435ad",
   "metadata": {},
   "source": [
    "#### Slicing Rules\n",
    "\n",
    "Syntax<br>\n",
    "a = [10,20,30,40,50]<br>\n",
    "a[start : end : step]\n",
    "\n",
    "1) By default step size is +1\n",
    "\n",
    "#### a) Left to Right Rules\n",
    "1) Step has to be positive value<br>\n",
    "2) Slicing is performed till <b>end-1</b>\n",
    "\n",
    "\n",
    "#### b) Right to Left Rules\n",
    "1) Step has to be negative value<br>\n",
    "2) Slicing is performed till <b>end+1</b>\n"
   ]
  },
  {
   "cell_type": "code",
   "execution_count": 6,
   "id": "e620d822",
   "metadata": {},
   "outputs": [
    {
     "name": "stdout",
     "output_type": "stream",
     "text": [
      "[10, 15, 20, 25, 30, 35, 40, 45]\n",
      "[20, 25, 30]\n",
      "[15, 20, 25, 30, 35]\n",
      "[15, 25, 35]\n",
      "[40, 35, 30, 25, 20]\n",
      "[45, 40, 35, 30, 25, 20]\n",
      "[15, 25, 35, 45]\n"
     ]
    }
   ],
   "source": [
    "print(r)\n",
    "print(r[2:5]) # start=2, end=5, step=+1    => left to right slicing\n",
    "print(r[1:6]) # start=1, end=6, step=+1    => left to right slicing\n",
    "print(r[1:7:2]) #  start=1, end=7, step=2  => left to right slicing\n",
    "print(r[-2:-7:-1]) # start=-2, end=-7, step=-1  => Right to left slicing\n",
    "print(r[-1:-7:-1]) # start=-1, end=-7, step=-1  => Right to left slicing\n",
    "print(r[1:8:2])    # start = 1, end=8, step = 2 => left to right slicing"
   ]
  },
  {
   "cell_type": "markdown",
   "id": "2fe52320",
   "metadata": {},
   "source": [
    "#### Iteration in list"
   ]
  },
  {
   "cell_type": "code",
   "execution_count": 7,
   "id": "9490ce6f",
   "metadata": {},
   "outputs": [
    {
     "name": "stdout",
     "output_type": "stream",
     "text": [
      "12 23 34 45 "
     ]
    }
   ],
   "source": [
    "w = [12,23,34,45]\n",
    "# Method 1 - Element wise Iteration\n",
    "for i in w:  # i corresponds to each element of the list w\n",
    "    print(i,end=\" \")"
   ]
  },
  {
   "cell_type": "code",
   "execution_count": 8,
   "id": "f2ed366d",
   "metadata": {},
   "outputs": [
    {
     "name": "stdout",
     "output_type": "stream",
     "text": [
      "0\n",
      "1\n",
      "2\n",
      "3\n"
     ]
    }
   ],
   "source": [
    "for i in range(4):\n",
    "    print(i)"
   ]
  },
  {
   "cell_type": "code",
   "execution_count": 9,
   "id": "c24ac98e",
   "metadata": {},
   "outputs": [
    {
     "name": "stdout",
     "output_type": "stream",
     "text": [
      "0\n",
      "1\n",
      "2\n",
      "3\n"
     ]
    }
   ],
   "source": [
    "w = [12,23,34,45]\n",
    "# Method 2 - Index wise Iteration\n",
    "for i in range(len(w)): # i = 0,1,2,3, i corresponds to the index of the list\n",
    "    print(i)\n",
    "    \n",
    "# i=0,w[0]=12\n",
    "# i=1,w[1]=23\n",
    "# i=2,w[2]=34\n",
    "# i=3,w[3]=45"
   ]
  },
  {
   "cell_type": "code",
   "execution_count": 10,
   "id": "fef49a8b",
   "metadata": {},
   "outputs": [
    {
     "name": "stdout",
     "output_type": "stream",
     "text": [
      "12 23 34 45 "
     ]
    }
   ],
   "source": [
    "w = [12,23,34,45]\n",
    "# Method 3 - Using while loop - Index wise iteration\n",
    "i=0\n",
    "while i <len(w):\n",
    "    print(w[i],end=' ')\n",
    "    i+=1"
   ]
  },
  {
   "cell_type": "code",
   "execution_count": 11,
   "id": "7cbf348a",
   "metadata": {},
   "outputs": [
    {
     "name": "stdout",
     "output_type": "stream",
     "text": [
      "0 12\n",
      "1 23\n",
      "2 34\n",
      "3 45\n"
     ]
    }
   ],
   "source": [
    "w = [12,23,34,45]\n",
    "# Method 3 - Using while loop - Index wise iteration\n",
    "i=-1\n",
    "while i <len(w)-1:\n",
    "    i += 1\n",
    "    print(i,w[i])"
   ]
  },
  {
   "cell_type": "markdown",
   "id": "af3c8009",
   "metadata": {},
   "source": [
    "#### List is Mutable (It can be changed)"
   ]
  },
  {
   "cell_type": "code",
   "execution_count": 12,
   "id": "9ae4afd1",
   "metadata": {},
   "outputs": [
    {
     "name": "stdout",
     "output_type": "stream",
     "text": [
      "[13, 15, 17, 19, 21, 24, 25]\n",
      "21\n",
      "[13, 15, 17, 19, 'Python', 24, 25]\n"
     ]
    }
   ],
   "source": [
    "q = [13,15,17,19,21,24,25]\n",
    "print(q)\n",
    "print(q[4])\n",
    "q[4] = \"Python\"\n",
    "print(q)"
   ]
  },
  {
   "cell_type": "markdown",
   "id": "93bbdc3b",
   "metadata": {},
   "source": [
    "### Functions or Methods of List"
   ]
  },
  {
   "cell_type": "markdown",
   "id": "e5cf6f09",
   "metadata": {},
   "source": [
    "#### 1) append()\n",
    "It adds an element to the end of the list"
   ]
  },
  {
   "cell_type": "code",
   "execution_count": 13,
   "id": "9f262abc",
   "metadata": {},
   "outputs": [
    {
     "name": "stdout",
     "output_type": "stream",
     "text": [
      "['Python', 8, 5, 7]\n",
      "['Python', 8, 5, 7, None]\n",
      "['Python', 8, 5, 7, None, 7.3]\n"
     ]
    }
   ],
   "source": [
    "s = ['Python',8,5,7]\n",
    "print(s)\n",
    "s.append(None)\n",
    "print(s)\n",
    "s.append(7.3)\n",
    "print(s)"
   ]
  },
  {
   "cell_type": "code",
   "execution_count": 14,
   "id": "49bb9fe8",
   "metadata": {},
   "outputs": [
    {
     "name": "stdout",
     "output_type": "stream",
     "text": [
      "['Python', 8, 5, 7, None, 7.3, [11, 12]]\n",
      "7\n"
     ]
    }
   ],
   "source": [
    "s.append([11,12])\n",
    "print(s)\n",
    "print(len(s))"
   ]
  },
  {
   "cell_type": "code",
   "execution_count": 15,
   "id": "826d16d0",
   "metadata": {},
   "outputs": [
    {
     "name": "stdout",
     "output_type": "stream",
     "text": [
      "['Python', 8, 5, 7, None, 7.3, [11, 12], 'Hello']\n"
     ]
    }
   ],
   "source": [
    "s.append('Hello')\n",
    "print(s)"
   ]
  },
  {
   "cell_type": "code",
   "execution_count": 16,
   "id": "deffcbea",
   "metadata": {},
   "outputs": [
    {
     "name": "stdout",
     "output_type": "stream",
     "text": [
      "[11, 12, 13]\n",
      "[11, 12, 13, (7, 8)]\n",
      "[11, 12, 13, (7, 8), {21, 22}]\n",
      "[11, 12, 13, (7, 8), {21, 22}, {'Name': 'Chirag', 'Age': 19, 'City': 'Sirhind'}]\n"
     ]
    }
   ],
   "source": [
    "w = [11,12,13]\n",
    "print(w)\n",
    "w.append((7,8))   # Append a tuple -> ()\n",
    "print(w)\n",
    "w.append({21,22}) # Appending a set -> {}\n",
    "print(w)\n",
    "w.append({'Name':'Chirag','Age':19,'City':'Sirhind'}) # appending a dict > {key:value}\n",
    "print(w)"
   ]
  },
  {
   "cell_type": "markdown",
   "id": "79bad6c8",
   "metadata": {},
   "source": [
    "#### 2) insert(index,element)\n",
    "Inserts an element at a specified index.<br>\n",
    "Elements previously present at that index are shifted one index towards right"
   ]
  },
  {
   "cell_type": "code",
   "execution_count": 17,
   "id": "18021e21",
   "metadata": {},
   "outputs": [
    {
     "name": "stdout",
     "output_type": "stream",
     "text": [
      "[13, 14, 15, 16, 17, 18, 19]\n",
      "[13, 14, 15, 'Hello', 16, 17, 18, 19]\n",
      "[13, 14, 15, 'Hello', 16, 17, 18, 'Python', 19]\n"
     ]
    }
   ],
   "source": [
    "a1 = [13,14,15,16,17,18,19]\n",
    "print(a1)\n",
    "a1.insert(3,'Hello')\n",
    "print(a1)\n",
    "a1.insert(7,'Python')\n",
    "print(a1)"
   ]
  },
  {
   "cell_type": "markdown",
   "id": "98398aee",
   "metadata": {},
   "source": [
    "#### 3) index()\n",
    "Returns the index of the first occurence of the element from the left.\n",
    "Indexes start at 0"
   ]
  },
  {
   "cell_type": "code",
   "execution_count": 18,
   "id": "d2acd3a0",
   "metadata": {},
   "outputs": [
    {
     "name": "stdout",
     "output_type": "stream",
     "text": [
      "2\n",
      "4\n",
      "1\n",
      "6\n"
     ]
    }
   ],
   "source": [
    "a2 = ['Hi','Bye','Hello','Python','C++','Java','Hello','C++','Ruby']\n",
    "print(a2.index('Hello'))\n",
    "print(a2.index('C++'))\n",
    "print(a2.index('Bye'))\n",
    "print(a2.index('Hello',3))"
   ]
  },
  {
   "cell_type": "markdown",
   "id": "f60ca6a3",
   "metadata": {},
   "source": [
    "#### 4) pop(index)\n",
    "Removes the element at the specified index. If no index is mentioned, it removes the last element"
   ]
  },
  {
   "cell_type": "code",
   "execution_count": 19,
   "id": "c217d3a8",
   "metadata": {},
   "outputs": [
    {
     "name": "stdout",
     "output_type": "stream",
     "text": [
      "[23, 34, 45, 56, 67, 78, 90, 15, 10]\n",
      "[23, 34, 56, 67, 78, 90, 15, 10]\n",
      "[23, 34, 56, 67, 78, 90, 15]\n",
      "[23, 34, 56, 67, 78, 90]\n"
     ]
    },
    {
     "ename": "IndexError",
     "evalue": "pop index out of range",
     "output_type": "error",
     "traceback": [
      "\u001b[1;31m---------------------------------------------------------------------------\u001b[0m",
      "\u001b[1;31mIndexError\u001b[0m                                Traceback (most recent call last)",
      "Input \u001b[1;32mIn [19]\u001b[0m, in \u001b[0;36m<module>\u001b[1;34m\u001b[0m\n\u001b[0;32m      7\u001b[0m a\u001b[38;5;241m.\u001b[39mpop() \u001b[38;5;66;03m# Removes the last element\u001b[39;00m\n\u001b[0;32m      8\u001b[0m \u001b[38;5;28mprint\u001b[39m(a)\n\u001b[1;32m----> 9\u001b[0m \u001b[43ma\u001b[49m\u001b[38;5;241;43m.\u001b[39;49m\u001b[43mpop\u001b[49m\u001b[43m(\u001b[49m\u001b[38;5;241;43m13\u001b[39;49m\u001b[43m)\u001b[49m\n\u001b[0;32m     10\u001b[0m \u001b[38;5;28mprint\u001b[39m(a)\n",
      "\u001b[1;31mIndexError\u001b[0m: pop index out of range"
     ]
    }
   ],
   "source": [
    "a = [23,34,45,56,67,78,90,15,10]\n",
    "print(a)\n",
    "a.pop(2) # Remove element present at index 2 \n",
    "print(a)\n",
    "a.pop(7) # Remove element present at index 7\n",
    "print(a)\n",
    "a.pop() # Removes the last element\n",
    "print(a)\n",
    "a.pop(13)\n",
    "print(a)"
   ]
  },
  {
   "cell_type": "markdown",
   "id": "31e447cb",
   "metadata": {},
   "source": [
    "#### 5) remove(element)\n",
    "It removes the first occurence of the element from left which is passed as argument. Error if element is not in the list"
   ]
  },
  {
   "cell_type": "code",
   "execution_count": 20,
   "id": "d624020e",
   "metadata": {},
   "outputs": [
    {
     "name": "stdout",
     "output_type": "stream",
     "text": [
      "[23, 34, 45, 56, 67, 78, 90, 15, 10, 34, 78, 56]\n",
      "[23, 34, 45, 67, 78, 90, 15, 10, 34, 78, 56]\n",
      "[23, 34, 45, 67, 78, 15, 10, 34, 78, 56]\n"
     ]
    },
    {
     "ename": "ValueError",
     "evalue": "list.remove(x): x not in list",
     "output_type": "error",
     "traceback": [
      "\u001b[1;31m---------------------------------------------------------------------------\u001b[0m",
      "\u001b[1;31mValueError\u001b[0m                                Traceback (most recent call last)",
      "Input \u001b[1;32mIn [20]\u001b[0m, in \u001b[0;36m<module>\u001b[1;34m\u001b[0m\n\u001b[0;32m      5\u001b[0m a\u001b[38;5;241m.\u001b[39mremove(\u001b[38;5;241m90\u001b[39m)\n\u001b[0;32m      6\u001b[0m \u001b[38;5;28mprint\u001b[39m(a)\n\u001b[1;32m----> 7\u001b[0m \u001b[43ma\u001b[49m\u001b[38;5;241;43m.\u001b[39;49m\u001b[43mremove\u001b[49m\u001b[43m(\u001b[49m\u001b[38;5;241;43m108\u001b[39;49m\u001b[43m)\u001b[49m \u001b[38;5;66;03m#  Value Error\u001b[39;00m\n\u001b[0;32m      8\u001b[0m \u001b[38;5;28mprint\u001b[39m(a)\n\u001b[0;32m      9\u001b[0m a\u001b[38;5;241m.\u001b[39mremove()   \u001b[38;5;66;03m# Type Error\u001b[39;00m\n",
      "\u001b[1;31mValueError\u001b[0m: list.remove(x): x not in list"
     ]
    }
   ],
   "source": [
    "a = [23,34,45,56,67,78,90,15,10,34,78,56]\n",
    "print(a)\n",
    "a.remove(56) # Remove the element 56\n",
    "print(a)\n",
    "a.remove(90)\n",
    "print(a)\n",
    "a.remove(108) #  Value Error\n",
    "print(a)\n",
    "a.remove()   # Type Error\n",
    "print(a)"
   ]
  },
  {
   "cell_type": "markdown",
   "id": "7c0110e4",
   "metadata": {},
   "source": [
    "#### 6) count()\n",
    "Returns the count(frequency) of the element passed as an argument"
   ]
  },
  {
   "cell_type": "code",
   "execution_count": 21,
   "id": "1152cf74",
   "metadata": {},
   "outputs": [
    {
     "name": "stdout",
     "output_type": "stream",
     "text": [
      "2\n",
      "4\n",
      "0\n",
      "1\n",
      "1\n"
     ]
    }
   ],
   "source": [
    "w = [23,34,45,23,13,24,35,56,67,45,34,23,23,67,78,89,90]\n",
    "print(w.count(34))\n",
    "print(w.count(23))\n",
    "print(w.count('Hello'))\n",
    "print(w.count(13))\n",
    "print(w.count(78))"
   ]
  },
  {
   "cell_type": "code",
   "execution_count": 22,
   "id": "a0674151",
   "metadata": {},
   "outputs": [
    {
     "name": "stdout",
     "output_type": "stream",
     "text": [
      "23 4\n",
      "34 2\n",
      "45 2\n",
      "23 4\n",
      "13 1\n",
      "24 1\n",
      "35 1\n",
      "56 1\n",
      "67 2\n",
      "45 2\n",
      "34 2\n",
      "23 4\n",
      "23 4\n",
      "67 2\n",
      "78 1\n",
      "89 1\n",
      "90 1\n"
     ]
    }
   ],
   "source": [
    "for i in range(len(w)):\n",
    "    print(w[i],w.count(w[i]))"
   ]
  },
  {
   "cell_type": "markdown",
   "id": "4859d684",
   "metadata": {},
   "source": [
    "#### 7) sort()\n",
    "Sorts the list in ascending or descening order based on the parameter reverse"
   ]
  },
  {
   "cell_type": "code",
   "execution_count": 23,
   "id": "f0cc7c3a",
   "metadata": {},
   "outputs": [
    {
     "name": "stdout",
     "output_type": "stream",
     "text": [
      "[12, 7, 16, 34, 89, 74, 56]\n",
      "[7, 12, 16, 34, 56, 74, 89]\n",
      "[89, 74, 56, 34, 16, 12, 7]\n"
     ]
    }
   ],
   "source": [
    "s = [12,7,16,34,89,74,56]\n",
    "print(s)\n",
    "s.sort()             # ascending order\n",
    "print(s)\n",
    "s.sort(reverse=True) # descending order\n",
    "print(s)"
   ]
  },
  {
   "cell_type": "code",
   "execution_count": 24,
   "id": "7e9d3075",
   "metadata": {},
   "outputs": [],
   "source": [
    "# Range for ASCII numbers\n",
    "# ASCII - AMerican Standard Code for Information Interchange\n",
    "# A-Z = 65-90\n",
    "# a-z = 97-122"
   ]
  },
  {
   "cell_type": "code",
   "execution_count": 25,
   "id": "c3609319",
   "metadata": {},
   "outputs": [
    {
     "name": "stdout",
     "output_type": "stream",
     "text": [
      "['Hello', 'Welcome', 'Game', 'Japan']\n",
      "['Game', 'Hello', 'Japan', 'Welcome']\n",
      "['Welcome', 'Japan', 'Hello', 'Game']\n"
     ]
    }
   ],
   "source": [
    "r = ['Hello','Welcome','Game','Japan']  \n",
    "print(r)\n",
    "r.sort()   # G<H<J<W\n",
    "print(r)\n",
    "r.sort(reverse=True)\n",
    "print(r)"
   ]
  },
  {
   "cell_type": "code",
   "execution_count": 26,
   "id": "44b0fd29",
   "metadata": {},
   "outputs": [
    {
     "name": "stdout",
     "output_type": "stream",
     "text": [
      "['batman', 'Spiderman', 'superman', 'Ironman']\n",
      "['Ironman', 'Spiderman', 'batman', 'superman']\n",
      "['superman', 'batman', 'Spiderman', 'Ironman']\n"
     ]
    }
   ],
   "source": [
    "f = ['batman','Spiderman','superman','Ironman']\n",
    "print(f)\n",
    "f.sort()\n",
    "print(f)\n",
    "f.sort(reverse=True)\n",
    "print(f)"
   ]
  },
  {
   "cell_type": "markdown",
   "id": "4f08ef60",
   "metadata": {},
   "source": [
    "#### Methods min,max and sum"
   ]
  },
  {
   "cell_type": "code",
   "execution_count": 27,
   "id": "a523fdbf",
   "metadata": {},
   "outputs": [
    {
     "name": "stdout",
     "output_type": "stream",
     "text": [
      "10\n",
      "40\n",
      "115\n"
     ]
    }
   ],
   "source": [
    "h = [12,13,15,25,10,40]\n",
    "print(min(h))\n",
    "print(max(h))\n",
    "print(sum(h))"
   ]
  },
  {
   "cell_type": "markdown",
   "id": "962db30a",
   "metadata": {},
   "source": [
    "#### Q) Create a list of elements by populating it with all the numbers divisilbe by 7 from 10 to 100"
   ]
  },
  {
   "cell_type": "code",
   "execution_count": 28,
   "id": "91beec44",
   "metadata": {},
   "outputs": [
    {
     "name": "stdout",
     "output_type": "stream",
     "text": [
      "[14, 21, 28, 35, 42, 49, 56, 63, 70, 77, 84, 91, 98]\n"
     ]
    }
   ],
   "source": [
    "res = []\n",
    "for i in range(10,101): # i=10,11,....100\n",
    "    if i%7==0:\n",
    "        res.append(i)\n",
    "print(res)"
   ]
  },
  {
   "cell_type": "code",
   "execution_count": 29,
   "id": "97dee47e",
   "metadata": {},
   "outputs": [
    {
     "name": "stdout",
     "output_type": "stream",
     "text": [
      "[10, 17, 24, 31, 38, 45, 52, 59, 66, 73, 80, 87, 94]\n"
     ]
    }
   ],
   "source": [
    "# Incorrect approach\n",
    "res = []\n",
    "for i in range(10,101,7):\n",
    "    res.append(i)\n",
    "print(res)"
   ]
  },
  {
   "cell_type": "markdown",
   "id": "98393afb",
   "metadata": {},
   "source": [
    "#### Q) Create a list of elements by populating it with all the numbers divisilbe by 5 or 7 from 200 to 250"
   ]
  },
  {
   "cell_type": "code",
   "execution_count": 30,
   "id": "5c20d90b",
   "metadata": {},
   "outputs": [
    {
     "name": "stdout",
     "output_type": "stream",
     "text": [
      "[200, 203, 205, 210, 215, 217, 220, 224, 225, 230, 231, 235, 238, 240, 245, 250]\n"
     ]
    }
   ],
   "source": [
    "r = []\n",
    "for i in range(200,251):\n",
    "    if i%5==0 or i%7==0:\n",
    "        r.append(i)\n",
    "print(r)"
   ]
  },
  {
   "cell_type": "code",
   "execution_count": 31,
   "id": "068e7646",
   "metadata": {},
   "outputs": [
    {
     "name": "stdout",
     "output_type": "stream",
     "text": [
      "[10, 20, 30, 40, 50]\n",
      "[60, 70, 80, 90, 100]\n"
     ]
    }
   ],
   "source": [
    "r = [10,20,30,40,50,60,70,80,90,100]\n",
    "r1,r2 = r[:5], r[5:]\n",
    "print(r1)\n",
    "print(r2)"
   ]
  },
  {
   "cell_type": "markdown",
   "id": "371bf07e",
   "metadata": {},
   "source": [
    "#### List Comprehension\n",
    "It is one-liner syntax to create a list"
   ]
  },
  {
   "cell_type": "code",
   "execution_count": 32,
   "id": "7643ba9b",
   "metadata": {},
   "outputs": [
    {
     "name": "stdout",
     "output_type": "stream",
     "text": [
      "[20, 22, 24, 26, 28]\n"
     ]
    }
   ],
   "source": [
    "t = []\n",
    "for i in range(10,15):\n",
    "    t.append(i*2)\n",
    "print(t)"
   ]
  },
  {
   "cell_type": "code",
   "execution_count": 33,
   "id": "7610b40d",
   "metadata": {},
   "outputs": [
    {
     "name": "stdout",
     "output_type": "stream",
     "text": [
      "[20, 22, 24, 26, 28]\n"
     ]
    }
   ],
   "source": [
    "t_new = [i*2 for i in range(10,15)]\n",
    "print(t_new)"
   ]
  },
  {
   "cell_type": "code",
   "execution_count": 34,
   "id": "7bfb72ba",
   "metadata": {},
   "outputs": [
    {
     "name": "stdout",
     "output_type": "stream",
     "text": [
      "[10, 12, 14, 16, 18, 20]\n"
     ]
    }
   ],
   "source": [
    "# List Comprehension with condition\n",
    "r1 = [i for i in range(10,21) if i%2==0]\n",
    "print(r1)"
   ]
  },
  {
   "cell_type": "code",
   "execution_count": 35,
   "id": "5acec3e8",
   "metadata": {},
   "outputs": [
    {
     "name": "stdout",
     "output_type": "stream",
     "text": [
      "[10, 20, 15, 30, 20, 40]\n"
     ]
    }
   ],
   "source": [
    "g = []\n",
    "for i in range(2,5):        # i = 2,3,4\n",
    "    for j in range(5,15,5): # j = 5,10 \n",
    "        g.append(i*j)\n",
    "print(g)\n",
    "# i=2,j=5 , 10\n",
    "# i=2,j=10, 20\n",
    "# i=3,j=5 , 15\n",
    "# i=3,j=10, 30\n",
    "# i=4,j=5 , 20\n",
    "# i=4,j=10, 40"
   ]
  },
  {
   "cell_type": "code",
   "execution_count": 36,
   "id": "d1339e21",
   "metadata": {},
   "outputs": [
    {
     "name": "stdout",
     "output_type": "stream",
     "text": [
      "[10, 20, 15, 30, 20, 40]\n"
     ]
    }
   ],
   "source": [
    "g_new = [i*j for i in range(2,5) for j in range(5,15,5)]\n",
    "print(g_new)"
   ]
  },
  {
   "cell_type": "code",
   "execution_count": 37,
   "id": "631b2ef5",
   "metadata": {},
   "outputs": [
    {
     "name": "stdout",
     "output_type": "stream",
     "text": [
      "[10, 30, 20]\n"
     ]
    }
   ],
   "source": [
    "g_new2 = [i*j for i in range(2,5) for j in range(5,15,5) if (i+j)%2!=0]\n",
    "print(g_new2)\n",
    "# i=2,j=5,  10\n",
    "# i=3,j=10, 30\n",
    "# i=4,j=5,  20"
   ]
  }
 ],
 "metadata": {
  "kernelspec": {
   "display_name": "Python 3 (ipykernel)",
   "language": "python",
   "name": "python3"
  },
  "language_info": {
   "codemirror_mode": {
    "name": "ipython",
    "version": 3
   },
   "file_extension": ".py",
   "mimetype": "text/x-python",
   "name": "python",
   "nbconvert_exporter": "python",
   "pygments_lexer": "ipython3",
   "version": "3.10.2"
  }
 },
 "nbformat": 4,
 "nbformat_minor": 5
}
