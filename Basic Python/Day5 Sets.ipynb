{
 "cells": [
  {
   "cell_type": "markdown",
   "id": "6cd19880",
   "metadata": {},
   "source": [
    "### Set\n",
    "1) It is unordered collection of elements of same or different data types<br>\n",
    "2) Set elements are represented in {} and are separated by comma<br>\n",
    "3) Set does not support indexing or slicing (as it is unordered)<br>\n",
    "4) Set does not allow duplicate elements<br>\n",
    "5) Set is mutable(it can be changed)"
   ]
  },
  {
   "cell_type": "markdown",
   "id": "0a68dc8d",
   "metadata": {},
   "source": [
    "#### Empty Set"
   ]
  },
  {
   "cell_type": "code",
   "execution_count": 1,
   "id": "f21b94fd",
   "metadata": {},
   "outputs": [
    {
     "name": "stdout",
     "output_type": "stream",
     "text": [
      "set()\n",
      "<class 'set'>\n"
     ]
    }
   ],
   "source": [
    "s1 = set()\n",
    "print(s1)\n",
    "print(type(s1))"
   ]
  },
  {
   "cell_type": "code",
   "execution_count": 2,
   "id": "868028fb",
   "metadata": {},
   "outputs": [
    {
     "name": "stdout",
     "output_type": "stream",
     "text": [
      "{} <class 'dict'>\n"
     ]
    }
   ],
   "source": [
    "s2 = {}\n",
    "print(s2,type(s2))"
   ]
  },
  {
   "cell_type": "code",
   "execution_count": 3,
   "id": "f7a69ad6",
   "metadata": {},
   "outputs": [
    {
     "name": "stdout",
     "output_type": "stream",
     "text": [
      "{12, 13, 14, 15} 4\n",
      "{'India', True, 67, 7.8, 45, 'Japan', 'Australia', 56, None} 9\n"
     ]
    }
   ],
   "source": [
    "q1 = {12,13,14,15}\n",
    "q2 = {'India','Japan','Australia',45,56,67,7.8,None,True}\n",
    "print(q1,len(q1))\n",
    "print(q2,len(q2))"
   ]
  },
  {
   "cell_type": "markdown",
   "id": "9ae3631e",
   "metadata": {},
   "source": [
    "#### Indexing and Slicing not allowed"
   ]
  },
  {
   "cell_type": "code",
   "execution_count": 4,
   "id": "9bda1ec0",
   "metadata": {},
   "outputs": [
    {
     "ename": "TypeError",
     "evalue": "'set' object is not subscriptable",
     "output_type": "error",
     "traceback": [
      "\u001b[1;31m---------------------------------------------------------------------------\u001b[0m",
      "\u001b[1;31mTypeError\u001b[0m                                 Traceback (most recent call last)",
      "Input \u001b[1;32mIn [4]\u001b[0m, in \u001b[0;36m<module>\u001b[1;34m\u001b[0m\n\u001b[0;32m      1\u001b[0m z1 \u001b[38;5;241m=\u001b[39m {\u001b[38;5;241m10\u001b[39m,\u001b[38;5;241m11\u001b[39m,\u001b[38;5;241m23\u001b[39m,\u001b[38;5;241m34\u001b[39m,\u001b[38;5;241m45\u001b[39m,\u001b[38;5;241m56\u001b[39m}\n\u001b[1;32m----> 2\u001b[0m \u001b[38;5;28mprint\u001b[39m(\u001b[43mz1\u001b[49m\u001b[43m[\u001b[49m\u001b[38;5;241;43m0\u001b[39;49m\u001b[43m]\u001b[49m)\n",
      "\u001b[1;31mTypeError\u001b[0m: 'set' object is not subscriptable"
     ]
    }
   ],
   "source": [
    "z1 = {10,11,23,34,45,56}\n",
    "print(z1[0])"
   ]
  },
  {
   "cell_type": "code",
   "execution_count": 5,
   "id": "9e784d55",
   "metadata": {},
   "outputs": [
    {
     "ename": "TypeError",
     "evalue": "'set' object is not subscriptable",
     "output_type": "error",
     "traceback": [
      "\u001b[1;31m---------------------------------------------------------------------------\u001b[0m",
      "\u001b[1;31mTypeError\u001b[0m                                 Traceback (most recent call last)",
      "Input \u001b[1;32mIn [5]\u001b[0m, in \u001b[0;36m<module>\u001b[1;34m\u001b[0m\n\u001b[1;32m----> 1\u001b[0m \u001b[38;5;28mprint\u001b[39m(\u001b[43mz1\u001b[49m\u001b[43m[\u001b[49m\u001b[38;5;241;43m2\u001b[39;49m\u001b[43m:\u001b[49m\u001b[38;5;241;43m5\u001b[39;49m\u001b[43m]\u001b[49m)\n",
      "\u001b[1;31mTypeError\u001b[0m: 'set' object is not subscriptable"
     ]
    }
   ],
   "source": [
    "print(z1[2:5])"
   ]
  },
  {
   "cell_type": "markdown",
   "id": "7556d4eb",
   "metadata": {},
   "source": [
    "#### Iteration in Sets"
   ]
  },
  {
   "cell_type": "code",
   "execution_count": 6,
   "id": "efda7e70",
   "metadata": {},
   "outputs": [
    {
     "name": "stdout",
     "output_type": "stream",
     "text": [
      "34\n",
      "23\n",
      "56\n",
      "10\n",
      "11\n",
      "45\n"
     ]
    }
   ],
   "source": [
    "z1 = {10,11,23,34,45,56}\n",
    "for i in z1: # i corresponds to each and every element of the set z1\n",
    "    print(i)"
   ]
  },
  {
   "cell_type": "code",
   "execution_count": 7,
   "id": "23960b7f",
   "metadata": {},
   "outputs": [
    {
     "ename": "TypeError",
     "evalue": "'set' object is not subscriptable",
     "output_type": "error",
     "traceback": [
      "\u001b[1;31m---------------------------------------------------------------------------\u001b[0m",
      "\u001b[1;31mTypeError\u001b[0m                                 Traceback (most recent call last)",
      "Input \u001b[1;32mIn [7]\u001b[0m, in \u001b[0;36m<module>\u001b[1;34m\u001b[0m\n\u001b[0;32m      1\u001b[0m z1 \u001b[38;5;241m=\u001b[39m {\u001b[38;5;241m10\u001b[39m,\u001b[38;5;241m11\u001b[39m,\u001b[38;5;241m23\u001b[39m,\u001b[38;5;241m34\u001b[39m,\u001b[38;5;241m45\u001b[39m,\u001b[38;5;241m56\u001b[39m}\n\u001b[0;32m      2\u001b[0m \u001b[38;5;28;01mfor\u001b[39;00m i \u001b[38;5;129;01min\u001b[39;00m \u001b[38;5;28mrange\u001b[39m(\u001b[38;5;28mlen\u001b[39m(z1)):\n\u001b[1;32m----> 3\u001b[0m     \u001b[38;5;28mprint\u001b[39m(\u001b[43mz1\u001b[49m\u001b[43m[\u001b[49m\u001b[43mi\u001b[49m\u001b[43m]\u001b[49m)\n",
      "\u001b[1;31mTypeError\u001b[0m: 'set' object is not subscriptable"
     ]
    }
   ],
   "source": [
    "z1 = {10,11,23,34,45,56}\n",
    "for i in range(len(z1)):\n",
    "    print(z1[i])"
   ]
  },
  {
   "cell_type": "code",
   "execution_count": 8,
   "id": "9848c1f2",
   "metadata": {},
   "outputs": [
    {
     "ename": "TypeError",
     "evalue": "'set' object is not subscriptable",
     "output_type": "error",
     "traceback": [
      "\u001b[1;31m---------------------------------------------------------------------------\u001b[0m",
      "\u001b[1;31mTypeError\u001b[0m                                 Traceback (most recent call last)",
      "Input \u001b[1;32mIn [8]\u001b[0m, in \u001b[0;36m<module>\u001b[1;34m\u001b[0m\n\u001b[0;32m      2\u001b[0m i\u001b[38;5;241m=\u001b[39m\u001b[38;5;241m0\u001b[39m\n\u001b[0;32m      3\u001b[0m \u001b[38;5;28;01mwhile\u001b[39;00m i\u001b[38;5;241m<\u001b[39m \u001b[38;5;28mlen\u001b[39m(z1):\n\u001b[1;32m----> 4\u001b[0m     \u001b[38;5;28mprint\u001b[39m(\u001b[43mz1\u001b[49m\u001b[43m[\u001b[49m\u001b[43mi\u001b[49m\u001b[43m]\u001b[49m)\n\u001b[0;32m      5\u001b[0m     i \u001b[38;5;241m+\u001b[39m\u001b[38;5;241m=\u001b[39m \u001b[38;5;241m1\u001b[39m\n",
      "\u001b[1;31mTypeError\u001b[0m: 'set' object is not subscriptable"
     ]
    }
   ],
   "source": [
    "z1 = {10,11,23,34,45,56}\n",
    "i=0\n",
    "while i< len(z1):\n",
    "    print(z1[i])\n",
    "    i += 1"
   ]
  },
  {
   "cell_type": "markdown",
   "id": "cc176b71",
   "metadata": {},
   "source": [
    "#### Duplicates are not allowed in Sets"
   ]
  },
  {
   "cell_type": "code",
   "execution_count": 9,
   "id": "095a9f14",
   "metadata": {},
   "outputs": [
    {
     "name": "stdout",
     "output_type": "stream",
     "text": [
      "{2, 3, 4, 5, 6, 7}\n",
      "6\n"
     ]
    }
   ],
   "source": [
    "d1 = {5,4,6,7,3,2,4,5,6,4,3,3}\n",
    "print(d1)\n",
    "print(len(d1))"
   ]
  },
  {
   "cell_type": "markdown",
   "id": "c8739cbd",
   "metadata": {},
   "source": [
    "### Set methods"
   ]
  },
  {
   "cell_type": "markdown",
   "id": "57253e42",
   "metadata": {},
   "source": [
    "#### 1) union()\n",
    "Perform union of Sets,Works for multiple sets as well and arrange the set in ascending order"
   ]
  },
  {
   "cell_type": "code",
   "execution_count": 10,
   "id": "a3ebcbea",
   "metadata": {},
   "outputs": [
    {
     "name": "stdout",
     "output_type": "stream",
     "text": [
      "{1, 3, 5, 6, 7, 8, 9, 10}\n",
      "{0, 1, 3, 5, 6, 7, 8, 9, 10, 11, 12}\n"
     ]
    }
   ],
   "source": [
    "s1 = {5,6,7,8,9}\n",
    "s2 = {1,3,5,7,10}\n",
    "s3 = {11,0,12}\n",
    "s4 = s1.union(s2)\n",
    "print(s4)\n",
    "print(s1.union(s2,s3))"
   ]
  },
  {
   "cell_type": "markdown",
   "id": "3ac741c7",
   "metadata": {},
   "source": [
    "#### 2) intersection()\n",
    "Perform intersection of Sets, Works for multiple sets as well.<br>\n",
    "Returns common element from the sets used"
   ]
  },
  {
   "cell_type": "code",
   "execution_count": 11,
   "id": "6371fdea",
   "metadata": {},
   "outputs": [
    {
     "name": "stdout",
     "output_type": "stream",
     "text": [
      "{5, 7}\n",
      "{5}\n"
     ]
    }
   ],
   "source": [
    "s1 = {5,6,7,8,9}\n",
    "s2 = {1,3,5,7,10}\n",
    "s3 = {11,0,12,5}\n",
    "print(s1.intersection(s2))\n",
    "print(s1.intersection(s2,s3))"
   ]
  },
  {
   "cell_type": "markdown",
   "id": "9964c9af",
   "metadata": {},
   "source": [
    "#### 3) difference()\n",
    "s1.difference(s2) => Returns the elements of s1 which are not present in s2.<br>\n",
    "Can be applied on multiple sets at a time"
   ]
  },
  {
   "cell_type": "code",
   "execution_count": 12,
   "id": "70db346c",
   "metadata": {},
   "outputs": [
    {
     "name": "stdout",
     "output_type": "stream",
     "text": [
      "{8, 9, 6}\n",
      "{1, 10, 3, 7}\n",
      "{1, 10, 3}\n",
      "set()\n"
     ]
    }
   ],
   "source": [
    "s1 = {5,6,7,8,9}\n",
    "s2 = {1,3,5,7,10}\n",
    "s3 = {11,0,12,5}\n",
    "print(s1.difference(s2))\n",
    "print(s2.difference(s3))\n",
    "print(s2.difference(s1,s3))\n",
    "print(s1.difference(s1))"
   ]
  },
  {
   "cell_type": "markdown",
   "id": "d4402684",
   "metadata": {},
   "source": [
    "#### 4) Symmetric difference\n",
    "s1.symmetric_difference(s2) => Difference operation between union and intersection.<br>\n",
    "Can take only 1 set as its argument"
   ]
  },
  {
   "cell_type": "code",
   "execution_count": 13,
   "id": "3b65811e",
   "metadata": {},
   "outputs": [
    {
     "name": "stdout",
     "output_type": "stream",
     "text": [
      "Union {1, 3, 5, 6, 7, 8, 9, 10}\n",
      "Intersection {5, 7}\n",
      "----------\n",
      "{1, 3, 6, 8, 9, 10}\n",
      "{1, 3, 6, 8, 9, 10}\n"
     ]
    }
   ],
   "source": [
    "s1 = {5,6,7,8,9}\n",
    "s2 = {1,3,5,7,10}\n",
    "s3 = {11,0,12,5}\n",
    "s4 = s1.union(s2)\n",
    "s5 = s1.intersection(s2)\n",
    "s6 = s1.symmetric_difference(s2)\n",
    "print('Union',s4)\n",
    "print('Intersection',s5)\n",
    "print('----------')\n",
    "print(s4.difference(s5))\n",
    "print(s6)"
   ]
  },
  {
   "cell_type": "code",
   "execution_count": 14,
   "id": "7684965e",
   "metadata": {},
   "outputs": [
    {
     "ename": "TypeError",
     "evalue": "set.symmetric_difference() takes exactly one argument (2 given)",
     "output_type": "error",
     "traceback": [
      "\u001b[1;31m---------------------------------------------------------------------------\u001b[0m",
      "\u001b[1;31mTypeError\u001b[0m                                 Traceback (most recent call last)",
      "Input \u001b[1;32mIn [14]\u001b[0m, in \u001b[0;36m<module>\u001b[1;34m\u001b[0m\n\u001b[0;32m      2\u001b[0m s2 \u001b[38;5;241m=\u001b[39m {\u001b[38;5;241m1\u001b[39m,\u001b[38;5;241m3\u001b[39m,\u001b[38;5;241m5\u001b[39m,\u001b[38;5;241m7\u001b[39m,\u001b[38;5;241m10\u001b[39m}\n\u001b[0;32m      3\u001b[0m s3 \u001b[38;5;241m=\u001b[39m {\u001b[38;5;241m11\u001b[39m,\u001b[38;5;241m0\u001b[39m,\u001b[38;5;241m12\u001b[39m,\u001b[38;5;241m5\u001b[39m}\n\u001b[1;32m----> 4\u001b[0m res \u001b[38;5;241m=\u001b[39m \u001b[43ms1\u001b[49m\u001b[38;5;241;43m.\u001b[39;49m\u001b[43msymmetric_difference\u001b[49m\u001b[43m(\u001b[49m\u001b[43ms2\u001b[49m\u001b[43m,\u001b[49m\u001b[43ms3\u001b[49m\u001b[43m)\u001b[49m\u001b[38;5;66;03m#taken 2 arguments at a time\u001b[39;00m\n\u001b[0;32m      5\u001b[0m \u001b[38;5;28mprint\u001b[39m(res)\n",
      "\u001b[1;31mTypeError\u001b[0m: set.symmetric_difference() takes exactly one argument (2 given)"
     ]
    }
   ],
   "source": [
    "s1 = {5,6,7,8,9}\n",
    "s2 = {1,3,5,7,10}\n",
    "s3 = {11,0,12,5}\n",
    "res = s1.symmetric_difference(s2,s3)#taken 2 arguments at a time\n",
    "print(res)"
   ]
  },
  {
   "cell_type": "markdown",
   "id": "2e242d7c",
   "metadata": {},
   "source": [
    "#### 5) update()\n",
    "It also performs union of sets. But the set on which update operation has been performed is updated with the union of sets. Works with multiple sets as well "
   ]
  },
  {
   "cell_type": "code",
   "execution_count": 15,
   "id": "173dff4a",
   "metadata": {},
   "outputs": [
    {
     "name": "stdout",
     "output_type": "stream",
     "text": [
      "{5, 6, 7, 8, 9}\n",
      "{1, 3, 5, 7, 10}\n",
      "{0, 11, 12, 5}\n",
      "{1, 3, 5, 6, 7, 8, 9, 10}\n",
      "{1, 3, 5, 7, 10}\n",
      "{0, 11, 12, 5}\n"
     ]
    }
   ],
   "source": [
    "s1 = {5,6,7,8,9}\n",
    "s2 = {1,3,5,7,10}\n",
    "s3 = {11,0,12,5}\n",
    "print(s1)\n",
    "print(s2)\n",
    "print(s3)\n",
    "s1.update(s2) # s1 has been updated with the union of s1 and s2\n",
    "print(s1)  # s1 is updated\n",
    "print(s2)  # s2 is not updated\n",
    "print(s3)  # s3 is not updated"
   ]
  },
  {
   "cell_type": "code",
   "execution_count": 16,
   "id": "eabec9c3",
   "metadata": {},
   "outputs": [
    {
     "name": "stdout",
     "output_type": "stream",
     "text": [
      "{0, 1, 3, 5, 6, 7, 8, 9, 10, 11, 12}\n"
     ]
    }
   ],
   "source": [
    "s2.update(s1,s3)\n",
    "print(s2)"
   ]
  },
  {
   "cell_type": "markdown",
   "id": "e738d9b5",
   "metadata": {},
   "source": [
    "#### 6) pop()\n",
    "Remove and return an arbitrary(random) set element."
   ]
  },
  {
   "cell_type": "code",
   "execution_count": 17,
   "id": "21390f9e",
   "metadata": {},
   "outputs": [
    {
     "name": "stdout",
     "output_type": "stream",
     "text": [
      "{True, 5, 7, 9, 10, 12, 'Python', 'Google', 'Hello', None}\n",
      "{5, 7, 9, 10, 12, 'Python', 'Google', 'Hello', None}\n",
      "5\n",
      "{7, 9, 10, 12, 'Python', 'Google', 'Hello', None}\n",
      "{9, 10, 12, 'Python', 'Google', 'Hello', None}\n",
      "{10, 12, 'Python', 'Google', 'Hello', None}\n"
     ]
    }
   ],
   "source": [
    "s1 = {5,\"Google\",7,None,9,'Hello','Python',True,10,12}\n",
    "print(s1)\n",
    "s1.pop()  # True\n",
    "print(s1)\n",
    "print(s1.pop())  # Google\n",
    "print(s1)\n",
    "s1.pop()  # 5\n",
    "print(s1)  \n",
    "s1.pop()  # \"Hello\" \n",
    "print(s1)"
   ]
  },
  {
   "cell_type": "markdown",
   "id": "cf569326",
   "metadata": {},
   "source": [
    "#### 7) add()\n",
    "It adds an element to the set"
   ]
  },
  {
   "cell_type": "code",
   "execution_count": 18,
   "id": "8d564d5b",
   "metadata": {},
   "outputs": [
    {
     "name": "stdout",
     "output_type": "stream",
     "text": [
      "{False, 'India', 45, 'Python', 23, 56, 89, 90, 91}\n",
      "{False, 'India', 'Messi', 45, 'Python', 23, 56, 89, 90, 91}\n",
      "{False, 'India', 'Messi', 45, 'Python', 23, 56, 89, 90, 91, 'Neymar'}\n",
      "{False, 'India', 100, 'Messi', 45, 'Python', 23, 56, 89, 90, 91, 'Neymar'}\n",
      "{False, 'India', 56.34, 100, 'Messi', 45, 'Python', 23, 56, 89, 90, 91, 'Neymar'}\n",
      "{False, 'India', 56.34, 100, 'Messi', 45, 'Python', 23, 56, 89, 90, 91, 'Neymar'}\n"
     ]
    }
   ],
   "source": [
    "s1 = {23,45,56,'India','Python',False,89,90,91}\n",
    "print(s1)\n",
    "s1.add('Messi')\n",
    "print(s1)\n",
    "s1.add('Neymar')\n",
    "print(s1)\n",
    "s1.add(100)\n",
    "print(s1)\n",
    "s1.add(56.34)\n",
    "print(s1)\n",
    "s1.add(56)  # No Error when duplicate element is added\n",
    "print(s1)\n",
    "# Set is mutable"
   ]
  },
  {
   "cell_type": "markdown",
   "id": "38690a58",
   "metadata": {},
   "source": [
    "#### 8) clear()\n",
    "Empties the set"
   ]
  },
  {
   "cell_type": "code",
   "execution_count": 19,
   "id": "bf23648a",
   "metadata": {},
   "outputs": [
    {
     "name": "stdout",
     "output_type": "stream",
     "text": [
      "{16, 17, 18, 15}\n",
      "set()\n"
     ]
    }
   ],
   "source": [
    "s1 = {15,16,17,18}\n",
    "print(s1)\n",
    "s1.clear()\n",
    "print(s1)"
   ]
  },
  {
   "cell_type": "markdown",
   "id": "0d59c9e8",
   "metadata": {},
   "source": [
    "#### 9) remove(element)\n",
    "used to remove an element from the set passed as an argument"
   ]
  },
  {
   "cell_type": "code",
   "execution_count": 20,
   "id": "755bc51f",
   "metadata": {},
   "outputs": [
    {
     "name": "stdout",
     "output_type": "stream",
     "text": [
      "{50, 20, 40, 10, 30}\n",
      "{50, 20, 40, 10}\n",
      "{50, 40, 10}\n"
     ]
    },
    {
     "ename": "KeyError",
     "evalue": "'Python'",
     "output_type": "error",
     "traceback": [
      "\u001b[1;31m---------------------------------------------------------------------------\u001b[0m",
      "\u001b[1;31mKeyError\u001b[0m                                  Traceback (most recent call last)",
      "Input \u001b[1;32mIn [20]\u001b[0m, in \u001b[0;36m<module>\u001b[1;34m\u001b[0m\n\u001b[0;32m      5\u001b[0m s1\u001b[38;5;241m.\u001b[39mremove(\u001b[38;5;241m20\u001b[39m)\n\u001b[0;32m      6\u001b[0m \u001b[38;5;28mprint\u001b[39m(s1)\n\u001b[1;32m----> 7\u001b[0m \u001b[43ms1\u001b[49m\u001b[38;5;241;43m.\u001b[39;49m\u001b[43mremove\u001b[49m\u001b[43m(\u001b[49m\u001b[38;5;124;43m'\u001b[39;49m\u001b[38;5;124;43mPython\u001b[39;49m\u001b[38;5;124;43m'\u001b[39;49m\u001b[43m)\u001b[49m\n\u001b[0;32m      8\u001b[0m \u001b[38;5;28mprint\u001b[39m(s1)\n",
      "\u001b[1;31mKeyError\u001b[0m: 'Python'"
     ]
    }
   ],
   "source": [
    "s1 = {10,20,30,40,50}\n",
    "print(s1)\n",
    "s1.remove(30)\n",
    "print(s1)\n",
    "s1.remove(20)\n",
    "print(s1)\n",
    "s1.remove('Python')\n",
    "print(s1)"
   ]
  },
  {
   "cell_type": "markdown",
   "id": "f90623fb",
   "metadata": {},
   "source": [
    "#### Min, max and sum on set"
   ]
  },
  {
   "cell_type": "code",
   "execution_count": 21,
   "id": "697eb52b",
   "metadata": {},
   "outputs": [
    {
     "name": "stdout",
     "output_type": "stream",
     "text": [
      "10\n",
      "46\n",
      "124\n"
     ]
    }
   ],
   "source": [
    "s1 = {10,30,15,46,23}\n",
    "print(min(s1))\n",
    "print(max(s1))\n",
    "print(sum(s1))"
   ]
  },
  {
   "cell_type": "code",
   "execution_count": 22,
   "id": "f40d9aa4",
   "metadata": {},
   "outputs": [
    {
     "name": "stdout",
     "output_type": "stream",
     "text": [
      "67\n"
     ]
    }
   ],
   "source": [
    "print(max(34,45,23,67,42))"
   ]
  },
  {
   "cell_type": "code",
   "execution_count": 23,
   "id": "ad6939ee",
   "metadata": {},
   "outputs": [
    {
     "ename": "TypeError",
     "evalue": "sum() can't sum strings [use ''.join(seq) instead]",
     "output_type": "error",
     "traceback": [
      "\u001b[1;31m---------------------------------------------------------------------------\u001b[0m",
      "\u001b[1;31mTypeError\u001b[0m                                 Traceback (most recent call last)",
      "Input \u001b[1;32mIn [23]\u001b[0m, in \u001b[0;36m<module>\u001b[1;34m\u001b[0m\n\u001b[1;32m----> 1\u001b[0m \u001b[38;5;28mprint\u001b[39m(\u001b[38;5;28;43msum\u001b[39;49m\u001b[43m(\u001b[49m\u001b[38;5;124;43m'\u001b[39;49m\u001b[38;5;124;43mhello\u001b[39;49m\u001b[38;5;124;43m'\u001b[39;49m\u001b[43m,\u001b[49m\u001b[38;5;124;43m'\u001b[39;49m\u001b[38;5;124;43mbye\u001b[39;49m\u001b[38;5;124;43m'\u001b[39;49m\u001b[43m)\u001b[49m)\n",
      "\u001b[1;31mTypeError\u001b[0m: sum() can't sum strings [use ''.join(seq) instead]"
     ]
    }
   ],
   "source": [
    "print(sum('hello','bye'))"
   ]
  },
  {
   "cell_type": "markdown",
   "id": "f792db81",
   "metadata": {},
   "source": [
    "#### Set Comprehension\n",
    "Short hand synatx to create a set"
   ]
  },
  {
   "cell_type": "code",
   "execution_count": 24,
   "id": "41b207b8",
   "metadata": {},
   "outputs": [
    {
     "name": "stdout",
     "output_type": "stream",
     "text": [
      "{1, 3, 5, 7, 9, 11, 13, 15}\n"
     ]
    }
   ],
   "source": [
    "r = {i for i in range(1,17,2)}\n",
    "print(r)"
   ]
  },
  {
   "cell_type": "code",
   "execution_count": 25,
   "id": "90525c71",
   "metadata": {},
   "outputs": [
    {
     "name": "stdout",
     "output_type": "stream",
     "text": [
      "{9, 3, 15}\n"
     ]
    }
   ],
   "source": [
    "r1 = {i for i in range(1,17,2) if i%3==0}\n",
    "print(r1)"
   ]
  }
 ],
 "metadata": {
  "kernelspec": {
   "display_name": "Python 3 (ipykernel)",
   "language": "python",
   "name": "python3"
  },
  "language_info": {
   "codemirror_mode": {
    "name": "ipython",
    "version": 3
   },
   "file_extension": ".py",
   "mimetype": "text/x-python",
   "name": "python",
   "nbconvert_exporter": "python",
   "pygments_lexer": "ipython3",
   "version": "3.10.2"
  }
 },
 "nbformat": 4,
 "nbformat_minor": 5
}
