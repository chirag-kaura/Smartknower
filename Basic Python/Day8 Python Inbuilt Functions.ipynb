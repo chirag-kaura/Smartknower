{
 "cells": [
  {
   "cell_type": "markdown",
   "id": "53a36027",
   "metadata": {},
   "source": [
    "#### Python Inbuilt Functions\n",
    "1) Lambda<br>\n",
    "2) map<br>\n",
    "3) reduce<br>\n",
    "4) filter<br>\n",
    "5) enumerate<br>\n",
    "6) zip<br>\n",
    "7) sorted"
   ]
  },
  {
   "cell_type": "markdown",
   "id": "da90ea5d",
   "metadata": {},
   "source": [
    "#### 1) lambda \n",
    "1) It is used to create anonymous function( a function with no name)<br>\n",
    "2) It is used to create one-liner functions<br>\n",
    "Syntax:<br>\n",
    "lambda parameters : expressions"
   ]
  },
  {
   "cell_type": "code",
   "execution_count": 1,
   "id": "1724210d",
   "metadata": {},
   "outputs": [
    {
     "name": "stdout",
     "output_type": "stream",
     "text": [
      "7\n",
      "13\n",
      "23\n"
     ]
    }
   ],
   "source": [
    "r = lambda x,y : x+y\n",
    "print(r(3,4)) # x=3,y=4\n",
    "print(r(6,7)) # x=6,y=7\n",
    "print(r(10,13)) # x=10,y=13"
   ]
  },
  {
   "cell_type": "code",
   "execution_count": 2,
   "id": "1acb909e",
   "metadata": {},
   "outputs": [
    {
     "name": "stdout",
     "output_type": "stream",
     "text": [
      "49\n",
      "1331\n"
     ]
    }
   ],
   "source": [
    "t = lambda a,b,c : (a+b)**c\n",
    "print(t(3,4,2)) # a=3,b=4,c=2\n",
    "print(t(5,6,3)) # a=5,b=6,c=3"
   ]
  },
  {
   "cell_type": "code",
   "execution_count": 3,
   "id": "f2013357",
   "metadata": {},
   "outputs": [
    {
     "name": "stdout",
     "output_type": "stream",
     "text": [
      "<class 'int'>\n",
      "A B\n"
     ]
    }
   ],
   "source": [
    "print(type(5))\n",
    "r = \"A\" +\" \"+\"B\"\n",
    "print(r)"
   ]
  },
  {
   "cell_type": "code",
   "execution_count": 4,
   "id": "d3fe49b3",
   "metadata": {},
   "outputs": [
    {
     "name": "stdout",
     "output_type": "stream",
     "text": [
      "13\n",
      "<class 'int'>\n",
      "<class 'float'>\n",
      "<class 'str'>\n",
      "<class 'function'>\n",
      "PythonJava\n"
     ]
    }
   ],
   "source": [
    "w = lambda p,q : p+q\n",
    "print(w(10,3)) # 13\n",
    "print(type(w(4,5)))   # int\n",
    "print(type(w(3.6,5.2))) # float\n",
    "print(type(w('Python',' Java'))) # str\n",
    "print(type(w))  # function  \n",
    "print(w('Python','Java'))"
   ]
  },
  {
   "cell_type": "code",
   "execution_count": 5,
   "id": "c000e8d3",
   "metadata": {},
   "outputs": [
    {
     "name": "stdout",
     "output_type": "stream",
     "text": [
      "E.M\n",
      "B.C\n"
     ]
    }
   ],
   "source": [
    "#### Find initials of the name\n",
    "# fn - first name, ln - last name\n",
    "w = lambda fn,ln : fn[0].upper()+\".\"+ln[0].upper()\n",
    "print(w('elon','musk'))\n",
    "print(w('Benedict','Cumberbatch'))"
   ]
  },
  {
   "cell_type": "markdown",
   "id": "14e95e8b",
   "metadata": {},
   "source": [
    "#### if-else inside lambda"
   ]
  },
  {
   "cell_type": "code",
   "execution_count": 6,
   "id": "19b5e9dd",
   "metadata": {},
   "outputs": [
    {
     "name": "stdout",
     "output_type": "stream",
     "text": [
      "37\n",
      "88\n"
     ]
    }
   ],
   "source": [
    "d = lambda x,y : x*y-5 if (x%3==0 and y%5!=0) else y*10 - x\n",
    "print(d(6,7))\n",
    "print(d(12,10)) # x=12,y=10, 10*10 -12"
   ]
  },
  {
   "cell_type": "code",
   "execution_count": 7,
   "id": "b952b3eb",
   "metadata": {},
   "outputs": [
    {
     "name": "stdout",
     "output_type": "stream",
     "text": [
      "143\n",
      "67\n",
      "66\n"
     ]
    }
   ],
   "source": [
    "d1 = lambda x,y : x*y-5 if (x%3==0 and y%5!=0) else (y*10 - x if (x%3!=0 and y%5==0) else x*10 -y)\n",
    "print(d1(7,15))  # y*10-x = 15*10-7= 143\n",
    "print(d1(9,8))   # x*y-5 = 9*8 -5 = 67\n",
    "print(d1(8,14))  # x*y - 10 = 8*10 -14 = 66"
   ]
  },
  {
   "cell_type": "code",
   "execution_count": 8,
   "id": "aa3b967d",
   "metadata": {},
   "outputs": [
    {
     "ename": "NameError",
     "evalue": "name 'x' is not defined",
     "output_type": "error",
     "traceback": [
      "\u001b[1;31m---------------------------------------------------------------------------\u001b[0m",
      "\u001b[1;31mNameError\u001b[0m                                 Traceback (most recent call last)",
      "Input \u001b[1;32mIn [8]\u001b[0m, in \u001b[0;36m<module>\u001b[1;34m\u001b[0m\n\u001b[1;32m----> 1\u001b[0m r \u001b[38;5;241m=\u001b[39m [i \u001b[38;5;28;01mfor\u001b[39;00m i \u001b[38;5;129;01min\u001b[39;00m \u001b[38;5;28mrange\u001b[39m(\u001b[38;5;28mlen\u001b[39m(\u001b[43mx\u001b[49m))]\n",
      "\u001b[1;31mNameError\u001b[0m: name 'x' is not defined"
     ]
    }
   ],
   "source": [
    "r = [i for i in range(len(x))]"
   ]
  },
  {
   "cell_type": "code",
   "execution_count": 9,
   "id": "8806a9dd",
   "metadata": {},
   "outputs": [
    {
     "name": "stdout",
     "output_type": "stream",
     "text": [
      "[0, 1, 2, 3, 4]\n"
     ]
    }
   ],
   "source": [
    "d2 = lambda x : [i for i in range(x)]\n",
    "print(d2(5))"
   ]
  },
  {
   "cell_type": "markdown",
   "id": "e385c7e4",
   "metadata": {},
   "source": [
    "#### 2) map()\n",
    "1) map() calls the specified function for each item of an iterable(list,string,tuple,dict etc)\n",
    "and returns a sequence of results.<br>\n",
    "2) lambda can be used inside map\n",
    "\n",
    "Syntax : map(function,iterable)"
   ]
  },
  {
   "cell_type": "code",
   "execution_count": 10,
   "id": "f1cd6c10",
   "metadata": {},
   "outputs": [
    {
     "name": "stdout",
     "output_type": "stream",
     "text": [
      "[1, 4, 9, 16]\n"
     ]
    }
   ],
   "source": [
    "def square(x):\n",
    "    return x*x\n",
    "\n",
    "w = [1,2,3,4]\n",
    "d = list(map(square,w))\n",
    "print(d)"
   ]
  },
  {
   "cell_type": "code",
   "execution_count": 11,
   "id": "1d0e7e2f",
   "metadata": {},
   "outputs": [
    {
     "name": "stdout",
     "output_type": "stream",
     "text": [
      "[100, 144, 196, 256, 324]\n",
      "[48, 37, 68, 49, 88]\n"
     ]
    }
   ],
   "source": [
    "r = [10,12,14,16,18]\n",
    "d1 = list(map(lambda x : x**2,r))\n",
    "print(d1)\n",
    "d2 = list(map(lambda x : x*3+1 if x%4==0 else x*5-2,r))\n",
    "print(d2) # [48,37,68,49,88]"
   ]
  },
  {
   "cell_type": "markdown",
   "id": "e157f3e9",
   "metadata": {},
   "source": [
    "#### Q) Accpet a list of integers from the user using map function"
   ]
  },
  {
   "cell_type": "code",
   "execution_count": 12,
   "id": "c7adc41e",
   "metadata": {},
   "outputs": [
    {
     "name": "stdout",
     "output_type": "stream",
     "text": [
      "Chirag Kaura\n",
      "['Chirag', 'Kaura']\n"
     ]
    }
   ],
   "source": [
    "name = input().split(' ')\n",
    "print(name)"
   ]
  },
  {
   "cell_type": "code",
   "execution_count": 13,
   "id": "e3b000fb",
   "metadata": {},
   "outputs": [
    {
     "name": "stdout",
     "output_type": "stream",
     "text": [
      "Enter space seperated numbers: 1 2 3 4 5\n",
      "[1, 2, 3, 4, 5]\n"
     ]
    }
   ],
   "source": [
    "d2 = list(map(int,input('Enter space seperated numbers: ').split()))\n",
    "print(d2)"
   ]
  },
  {
   "cell_type": "code",
   "execution_count": 14,
   "id": "557d809b",
   "metadata": {},
   "outputs": [
    {
     "name": "stdout",
     "output_type": "stream",
     "text": [
      "Enter space seperated numbers: 1 2 3 4 5\n",
      "(1, 2, 3, 4, 5)\n"
     ]
    }
   ],
   "source": [
    "d2 = tuple(map(int,input('Enter space seperated numbers: ').split()))\n",
    "print(d2)"
   ]
  },
  {
   "cell_type": "markdown",
   "id": "ca93c4b0",
   "metadata": {},
   "source": [
    "#### 3) filter()\n",
    "Returns an iterator yielding those items from the iterable for which the function is True\n",
    "\n",
    "Syntax : filter(function,iterable)"
   ]
  },
  {
   "cell_type": "code",
   "execution_count": 15,
   "id": "a3e53ed3",
   "metadata": {},
   "outputs": [
    {
     "name": "stdout",
     "output_type": "stream",
     "text": [
      "[12, 14, 16, 18, 20]\n"
     ]
    }
   ],
   "source": [
    "g = [12,13,14,15,16,17,18,19,20]\n",
    "s1 = list(filter(lambda x : x%2==0,g))\n",
    "print(s1)"
   ]
  },
  {
   "cell_type": "code",
   "execution_count": 16,
   "id": "ad259254",
   "metadata": {},
   "outputs": [
    {
     "name": "stdout",
     "output_type": "stream",
     "text": [
      "[23, 18, 19, 20]\n",
      "[12, 23, 14, 15, 16, 17, 18, 19, 20]\n",
      "[12, 23, 14, 15, 16, 17, 18, 19, 20]\n"
     ]
    }
   ],
   "source": [
    "g = [12,23,14,15,16,17,18,19,20]\n",
    "s2 = list(filter(lambda x : x>17,g))\n",
    "print(s2)\n",
    "s3 = list(filter(lambda x : x<40,g))\n",
    "print(s3)\n",
    "s4 = list(filter(lambda x : x,g))\n",
    "print(s4)"
   ]
  },
  {
   "cell_type": "code",
   "execution_count": 17,
   "id": "28b1bd25",
   "metadata": {},
   "outputs": [
    {
     "name": "stdout",
     "output_type": "stream",
     "text": [
      "[23, 15, 17, 19]\n"
     ]
    }
   ],
   "source": [
    "def filter_odd(n):\n",
    "    return n%2!=0\n",
    "\n",
    "g = [12,23,14,15,16,17,18,19,20]\n",
    "s2 = list(filter(filter_odd,g))\n",
    "print(s2)"
   ]
  },
  {
   "cell_type": "markdown",
   "id": "c5fd5eec",
   "metadata": {},
   "source": [
    "#### Map vs Filter\n",
    "\n",
    "1) The length of iterable obtained from map is always of the same length as that of original iterator onto which the map function has been applied<br>\n",
    "The length of iterable obtained from filter can be of the same length or less as that of original iterator onto which the filter function has been applied.\n",
    "\n",
    "2) The filter operates only on those element of the iterable onto which the function returns True,\n",
    "whereas map operators on all the elements based on the function passed as an argument."
   ]
  },
  {
   "cell_type": "markdown",
   "id": "157a3c98",
   "metadata": {},
   "source": [
    "#### 4) reduce()\n",
    "Reduce function reduces the iterable to a single value using the function passed as argument<br>\n",
    "The function passed has to contain 2 parameters<br>\n",
    "\n",
    "syntax : reduce(function,iterator)"
   ]
  },
  {
   "cell_type": "code",
   "execution_count": 18,
   "id": "e6903712",
   "metadata": {},
   "outputs": [],
   "source": [
    "from functools import reduce"
   ]
  },
  {
   "cell_type": "code",
   "execution_count": 19,
   "id": "abc28e5e",
   "metadata": {},
   "outputs": [
    {
     "name": "stdout",
     "output_type": "stream",
     "text": [
      "15\n"
     ]
    }
   ],
   "source": [
    "b = [1,2,3,4,5]\n",
    "t = reduce(lambda x,y : x+y,b)\n",
    "print(t)\n",
    "\n",
    "# S1 -> x=1,y=2 => x+y=3\n",
    "# S2 -> x=3,y=3 => x+y=6\n",
    "# S3 -> x=6,y=4 => x+y=10\n",
    "# S4 -> x=10,y=5 => x+y=15"
   ]
  },
  {
   "cell_type": "markdown",
   "id": "9696b9a0",
   "metadata": {},
   "source": [
    "#### 5) enumerate()\n",
    "1) It adds an extra counter to the iterables(strings, list,tuple,set,dict,range())<br>\n",
    "2) Counter element generated starts from zero.<br>\n",
    "3) Counter added to the list and tuple can be used as their index<br>\n",
    "4) Counter added to set should not be considered as index"
   ]
  },
  {
   "cell_type": "code",
   "execution_count": 20,
   "id": "5bf68e0b",
   "metadata": {},
   "outputs": [
    {
     "name": "stdout",
     "output_type": "stream",
     "text": [
      "0 10 10\n",
      "1 20 20\n",
      "2 30 30\n",
      "3 40 40\n",
      "4 50 50\n"
     ]
    }
   ],
   "source": [
    "d = [10,20,30,40,50]\n",
    "for i,j in enumerate(d): # i is the extra counter generated, j is the list element\n",
    "    print(i,j,d[i])"
   ]
  },
  {
   "cell_type": "code",
   "execution_count": 21,
   "id": "cb1d2f53",
   "metadata": {},
   "outputs": [
    {
     "name": "stdout",
     "output_type": "stream",
     "text": [
      "0 11 11\n",
      "1 12 12\n",
      "2 13 13\n",
      "3 14 14\n",
      "4 15 15\n"
     ]
    }
   ],
   "source": [
    "d = (11,12,13,14,15)\n",
    "for x,y in enumerate(d): # x is the extra counter generated, y is the tuple elements\n",
    "    print(x,y,d[x])"
   ]
  },
  {
   "cell_type": "code",
   "execution_count": 22,
   "id": "b8132b1d",
   "metadata": {},
   "outputs": [
    {
     "name": "stdout",
     "output_type": "stream",
     "text": [
      "2 11\n",
      "3 12\n",
      "4 13\n",
      "5 14\n",
      "6 15\n"
     ]
    }
   ],
   "source": [
    "d = (11,12,13,14,15)\n",
    "for x,y in enumerate(d,start=2): # x is the extra counter generated, y is the tuple elements\n",
    "    print(x,y)\n",
    "    enumerate"
   ]
  },
  {
   "cell_type": "code",
   "execution_count": 23,
   "id": "227612ee",
   "metadata": {},
   "outputs": [
    {
     "ename": "TypeError",
     "evalue": "'set' object is not subscriptable",
     "output_type": "error",
     "traceback": [
      "\u001b[1;31m---------------------------------------------------------------------------\u001b[0m",
      "\u001b[1;31mTypeError\u001b[0m                                 Traceback (most recent call last)",
      "Input \u001b[1;32mIn [23]\u001b[0m, in \u001b[0;36m<module>\u001b[1;34m\u001b[0m\n\u001b[0;32m      1\u001b[0m s \u001b[38;5;241m=\u001b[39m {\u001b[38;5;241m11\u001b[39m,\u001b[38;5;241m12\u001b[39m,\u001b[38;5;241m13\u001b[39m,\u001b[38;5;241m14\u001b[39m,\u001b[38;5;241m15\u001b[39m}\n\u001b[0;32m      2\u001b[0m \u001b[38;5;28;01mfor\u001b[39;00m i \u001b[38;5;129;01min\u001b[39;00m \u001b[38;5;28mrange\u001b[39m(\u001b[38;5;28mlen\u001b[39m(s)):\n\u001b[1;32m----> 3\u001b[0m     \u001b[38;5;28mprint\u001b[39m(\u001b[43ms\u001b[49m\u001b[43m[\u001b[49m\u001b[43mi\u001b[49m\u001b[43m]\u001b[49m)\n",
      "\u001b[1;31mTypeError\u001b[0m: 'set' object is not subscriptable"
     ]
    }
   ],
   "source": [
    "s = {11,12,13,14,15}\n",
    "for i in range(len(s)):\n",
    "    print(s[i])  #not in order"
   ]
  },
  {
   "cell_type": "code",
   "execution_count": 24,
   "id": "40a0091c",
   "metadata": {},
   "outputs": [
    {
     "name": "stdout",
     "output_type": "stream",
     "text": [
      "0 8\n",
      "1 9\n",
      "2 10\n",
      "3 11\n",
      "4 13\n"
     ]
    }
   ],
   "source": [
    "s = {11,9,13,10,8}\n",
    "for x,y in enumerate(s): # x is the extra counter generated, y is the set elements\n",
    "    print(x,y)"
   ]
  },
  {
   "cell_type": "code",
   "execution_count": 25,
   "id": "2bbf56d4",
   "metadata": {},
   "outputs": [
    {
     "name": "stdout",
     "output_type": "stream",
     "text": [
      "0 a1 10 10\n",
      "1 a2 25 25\n",
      "2 a3 20 20\n",
      "3 a4 15 15\n"
     ]
    }
   ],
   "source": [
    "d = {'a1':10,'a2':25,'a3':20,'a4':15}\n",
    "for i,j in enumerate(d): # i is the counter element generated,j keys\n",
    "    print(i,j,d[j],d.get(j))"
   ]
  },
  {
   "cell_type": "code",
   "execution_count": 26,
   "id": "af874232",
   "metadata": {},
   "outputs": [
    {
     "name": "stdout",
     "output_type": "stream",
     "text": [
      "0 10\n",
      "1 25\n",
      "2 20\n",
      "3 15\n"
     ]
    }
   ],
   "source": [
    "d = {'a1':10,'a2':25,'a3':20,'a4':15}\n",
    "for i,j in enumerate(d.values()): # i is the counter element generated and j represent values\n",
    "    print(i,j)"
   ]
  },
  {
   "cell_type": "code",
   "execution_count": 27,
   "id": "a2be4657",
   "metadata": {},
   "outputs": [
    {
     "name": "stdout",
     "output_type": "stream",
     "text": [
      "0 ('a1', 10)\n",
      "1 ('a2', 25)\n",
      "2 ('a3', 20)\n",
      "3 ('a4', 15)\n"
     ]
    }
   ],
   "source": [
    "d = {'a1':10,'a2':25,'a3':20,'a4':15}\n",
    "for i,j in enumerate(d.items()): # i is the counter element generated and j represents the items(key,value) in dictionary\n",
    "    print(i,j)"
   ]
  },
  {
   "cell_type": "markdown",
   "id": "c522866e",
   "metadata": {},
   "source": [
    "#### 6) zip()\n",
    "1) It aggregates (two or more) elements into tuple pairs except dict"
   ]
  },
  {
   "cell_type": "code",
   "execution_count": 28,
   "id": "398b3f22",
   "metadata": {},
   "outputs": [
    {
     "name": "stdout",
     "output_type": "stream",
     "text": [
      "[('a', 3), ('b', 4), ('c', 5), ('d', 6), ('e', 7)]\n",
      "(('a', 3), ('b', 4), ('c', 5), ('d', 6), ('e', 7))\n",
      "{('d', 6), ('b', 4), ('c', 5), ('e', 7), ('a', 3)}\n",
      "{'a': 3, 'b': 4, 'c': 5, 'd': 6, 'e': 7}\n"
     ]
    }
   ],
   "source": [
    "d1 = ['a','b','c','d','e']  # len(d1) = 5\n",
    "d2 = [3,4,5,6,7]            # len(d2) = 5\n",
    "\n",
    "r1 = list(zip(d1,d2))     # list of tuples [('a',3),('b',4),...]\n",
    "r2 = tuple(zip(d1,d2))    # tuple of tuples\n",
    "r3 = set(zip(d1,d2))      # set of tuples\n",
    "r4 = dict(zip(d1,d2))     # pairs are aggregated as key-value\n",
    "print(r1)\n",
    "print(r2)\n",
    "print(r3)\n",
    "print(r4)"
   ]
  },
  {
   "cell_type": "code",
   "execution_count": 29,
   "id": "209857ee",
   "metadata": {},
   "outputs": [
    {
     "name": "stdout",
     "output_type": "stream",
     "text": [
      "[('a', 3), ('b', 4), ('c', 5)]\n",
      "(('a', 3), ('b', 4), ('c', 5))\n",
      "{('a', 3), ('c', 5), ('b', 4)}\n",
      "{'a': 3, 'b': 4, 'c': 5}\n"
     ]
    }
   ],
   "source": [
    "d1 = ['a','b','c','d','e']  # len(d1)=5\n",
    "d2 = [3,4,5]                # len(d2)=3\n",
    "\n",
    "r1 = list(zip(d1,d2))\n",
    "r2 = tuple(zip(d1,d2))\n",
    "r3 = set(zip(d1,d2))\n",
    "r4 = dict(zip(d1,d2))  # pairs are aggregated as key-value\n",
    "print(r1)\n",
    "print(r2)\n",
    "print(r3)\n",
    "print(r4)"
   ]
  },
  {
   "cell_type": "code",
   "execution_count": 30,
   "id": "71cfdabb",
   "metadata": {},
   "outputs": [
    {
     "name": "stdout",
     "output_type": "stream",
     "text": [
      "[('Hi', 5, 'p'), ('Bye', 10, 'q'), ('Hello', 15, 'r'), ('Game', 20, 's')]\n",
      "(('Hi', 5, 'p'), ('Bye', 10, 'q'), ('Hello', 15, 'r'), ('Game', 20, 's'))\n",
      "{('Hi', 5, 'p'), ('Bye', 10, 'q'), ('Game', 20, 's'), ('Hello', 15, 'r')}\n"
     ]
    }
   ],
   "source": [
    "a1 = ['Hi','Bye','Hello','Game']\n",
    "a2 = [5,10,15,20,25,30]\n",
    "a3 = ['p','q','r','s','t']\n",
    "\n",
    "w1 = list(zip(a1,a2,a3))\n",
    "w2 = tuple(zip(a1,a2,a3))\n",
    "w3 = set(zip(a1,a2,a3))\n",
    "print(w1)\n",
    "print(w2)\n",
    "print(w3)"
   ]
  },
  {
   "cell_type": "code",
   "execution_count": 31,
   "id": "91981fea",
   "metadata": {},
   "outputs": [
    {
     "ename": "ValueError",
     "evalue": "dictionary update sequence element #0 has length 3; 2 is required",
     "output_type": "error",
     "traceback": [
      "\u001b[1;31m---------------------------------------------------------------------------\u001b[0m",
      "\u001b[1;31mValueError\u001b[0m                                Traceback (most recent call last)",
      "Input \u001b[1;32mIn [31]\u001b[0m, in \u001b[0;36m<module>\u001b[1;34m\u001b[0m\n\u001b[1;32m----> 1\u001b[0m w4 \u001b[38;5;241m=\u001b[39m \u001b[38;5;28;43mdict\u001b[39;49m\u001b[43m(\u001b[49m\u001b[38;5;28;43mzip\u001b[39;49m\u001b[43m(\u001b[49m\u001b[43ma1\u001b[49m\u001b[43m,\u001b[49m\u001b[43ma2\u001b[49m\u001b[43m,\u001b[49m\u001b[43ma3\u001b[49m\u001b[43m)\u001b[49m\u001b[43m)\u001b[49m\n\u001b[0;32m      2\u001b[0m \u001b[38;5;28mprint\u001b[39m(w4)\n",
      "\u001b[1;31mValueError\u001b[0m: dictionary update sequence element #0 has length 3; 2 is required"
     ]
    }
   ],
   "source": [
    "w4 = dict(zip(a1,a2,a3))\n",
    "print(w4)"
   ]
  },
  {
   "cell_type": "markdown",
   "id": "6f38a687",
   "metadata": {},
   "source": [
    "#### 7) sorted()\n",
    "1) Sort the elements passed as agrument.<br>\n",
    "2) Sorted functions returns a list."
   ]
  },
  {
   "cell_type": "code",
   "execution_count": 32,
   "id": "468c09a7",
   "metadata": {},
   "outputs": [
    {
     "name": "stdout",
     "output_type": "stream",
     "text": [
      "[9, 10, 12, 13, 14, 15]\n",
      "[15, 14, 13, 12, 10, 9]\n"
     ]
    }
   ],
   "source": [
    "w = [12,14,10,9,15,13]\n",
    "r1 = sorted(w)               # ascending order\n",
    "r2=  sorted(w,reverse=True)  # descending order\n",
    "print(r1)\n",
    "print(r2)"
   ]
  },
  {
   "cell_type": "code",
   "execution_count": 33,
   "id": "533d0c36",
   "metadata": {},
   "outputs": [
    {
     "name": "stdout",
     "output_type": "stream",
     "text": [
      "['a1', 'a2', 'a3', 'a4']\n",
      "['a4', 'a3', 'a2', 'a1']\n",
      "[8, 10, 15, 25]\n",
      "[25, 15, 10, 8]\n",
      "[('a1', 10), ('a2', 15), ('a3', 8), ('a4', 25)]\n",
      "[('a3', 8), ('a1', 10), ('a2', 15), ('a4', 25)]\n",
      "[('a4', 25), ('a2', 15), ('a1', 10), ('a3', 8)]\n"
     ]
    }
   ],
   "source": [
    "d = {'a1':10,'a3':8,'a2':15,'a4':25}\n",
    "d1 = sorted(d.keys())\n",
    "d2 = sorted(d.keys(),reverse=True)\n",
    "d3 = sorted(d.values())\n",
    "d4 = sorted(d.values(),reverse=True)\n",
    "d5  = sorted(d.items())  # working on keys ,x[0]\n",
    "d6  = sorted(d.items(),key=lambda x : x[1]) # sorting on values\n",
    "d7  = sorted(d.items(),key=lambda x : x[1],reverse=True) # sorting (descending) on values\n",
    "print(d1)\n",
    "print(d2)\n",
    "print(d3)\n",
    "print(d4)\n",
    "print(d5)\n",
    "print(d6)\n",
    "print(d7)"
   ]
  },
  {
   "cell_type": "code",
   "execution_count": 34,
   "id": "57ac325c",
   "metadata": {},
   "outputs": [
    {
     "name": "stdout",
     "output_type": "stream",
     "text": [
      "[('k1', 3), ('k2', 5)]\n",
      "('k1', 3) k1 3\n"
     ]
    }
   ],
   "source": [
    "d = {'k1':3,'k2':5}\n",
    "r = list(d.items())\n",
    "print(r)\n",
    "w = r[0]\n",
    "print(w,w[0],w[1])"
   ]
  }
 ],
 "metadata": {
  "kernelspec": {
   "display_name": "Python 3 (ipykernel)",
   "language": "python",
   "name": "python3"
  },
  "language_info": {
   "codemirror_mode": {
    "name": "ipython",
    "version": 3
   },
   "file_extension": ".py",
   "mimetype": "text/x-python",
   "name": "python",
   "nbconvert_exporter": "python",
   "pygments_lexer": "ipython3",
   "version": "3.10.2"
  }
 },
 "nbformat": 4,
 "nbformat_minor": 5
}
