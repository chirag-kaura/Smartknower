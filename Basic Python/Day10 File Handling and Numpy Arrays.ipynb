{
 "cells": [
  {
   "cell_type": "markdown",
   "id": "28e3d65b",
   "metadata": {},
   "source": [
    "# Text File Handling "
   ]
  },
  {
   "cell_type": "markdown",
   "id": "c2d0520c",
   "metadata": {},
   "source": [
    "#### Read the .txt file and display its content when file is in same folder in read mode"
   ]
  },
  {
   "cell_type": "markdown",
   "id": "098cdff4",
   "metadata": {},
   "source": [
    "#### File Handling methods\n",
    "\n",
    "1) readlines() - Displays all the content of the file(from the cursor position) in a list<br>\n",
    "\n",
    "2) read() - Read at most n characters from stream or file.\n",
    "\n",
    "3) seek() - Repositions the cursor to a particular index.\n",
    "\n",
    "4) tell() - Returns current cursor position.\n",
    "\n",
    "5) close() - File is closed to deallocate(remove) the memory.\n",
    "\n",
    "6) write() - Used to write new content(data) to the file"
   ]
  },
  {
   "cell_type": "code",
   "execution_count": 1,
   "id": "a6e69ef7",
   "metadata": {},
   "outputs": [
    {
     "name": "stdout",
     "output_type": "stream",
     "text": [
      "['Hi,\\n', 'This file is for testing purpose only.\\n', 'And this file is prepared by none other than Chirag Kaura']\n"
     ]
    }
   ],
   "source": [
    "# mode = 'r' => read mode\n",
    "f = open('demo1.txt','r')\n",
    "r1 = f.readlines()  # returns a list\n",
    "print(r1)\n",
    "f.close()  # to deallocate the memory"
   ]
  },
  {
   "cell_type": "markdown",
   "id": "7c6de1e9",
   "metadata": {},
   "source": [
    "#### Read the .txt file and display its content when file is at a differnt path"
   ]
  },
  {
   "cell_type": "code",
   "execution_count": 2,
   "id": "a55715fd",
   "metadata": {},
   "outputs": [
    {
     "name": "stdout",
     "output_type": "stream",
     "text": [
      "Hello \\world\n"
     ]
    }
   ],
   "source": [
    "print('Hello \\\\world')"
   ]
  },
  {
   "cell_type": "code",
   "execution_count": 3,
   "id": "7cd7dba0",
   "metadata": {},
   "outputs": [
    {
     "name": "stdout",
     "output_type": "stream",
     "text": [
      "['This is another text file for testing with the another location.\\n', 'We are going to perform differnt test like:\\n', '1. opening \\n', '2. writing \\n', '3. seeking \\n', '4. reading and closing the file']\n"
     ]
    }
   ],
   "source": [
    "f1 = open('C:\\\\Users\\\\world\\\\OneDrive\\\\Documents\\\\SmartKnower\\\\trial.txt','r')\n",
    "r1 = f1.readlines()\n",
    "print(r1)\n",
    "f1.close()"
   ]
  },
  {
   "cell_type": "code",
   "execution_count": 4,
   "id": "5dc4e92d",
   "metadata": {},
   "outputs": [
    {
     "name": "stdout",
     "output_type": "stream",
     "text": [
      "['This is another text file for testing with the another location.\\n', 'We are going to perform differnt test like:\\n', '1. opening \\n', '2. writing \\n', '3. seeking \\n', '4. reading and closing the file']\n"
     ]
    }
   ],
   "source": [
    "f1 = open('C:/Users/world/OneDrive/Documents/SmartKnower/trial.txt','r')\n",
    "r1 = f1.readlines()\n",
    "print(r1)\n",
    "f1.close()"
   ]
  },
  {
   "cell_type": "code",
   "execution_count": 5,
   "id": "3fd582c1",
   "metadata": {},
   "outputs": [
    {
     "name": "stdout",
     "output_type": "stream",
     "text": [
      "Hi,\n",
      "This file is for \n",
      "22\n"
     ]
    }
   ],
   "source": [
    "f = open('demo1.txt','r')\n",
    "r1 = f.read(21)\n",
    "print(r1)\n",
    "print(f.tell())"
   ]
  },
  {
   "cell_type": "code",
   "execution_count": 6,
   "id": "c5c67f16",
   "metadata": {},
   "outputs": [
    {
     "name": "stdout",
     "output_type": "stream",
     "text": [
      "testing purp\n",
      "34\n"
     ]
    }
   ],
   "source": [
    "r2 = f.read(12)\n",
    "print(r2)\n",
    "print(f.tell())\n",
    "# 12th character is \\n"
   ]
  },
  {
   "cell_type": "code",
   "execution_count": 7,
   "id": "deb0379a",
   "metadata": {},
   "outputs": [
    {
     "name": "stdout",
     "output_type": "stream",
     "text": [
      "34\n"
     ]
    }
   ],
   "source": [
    "# tell() - returns the current cursor position\n",
    "print(f.tell())"
   ]
  },
  {
   "cell_type": "code",
   "execution_count": 8,
   "id": "a41e8c46",
   "metadata": {},
   "outputs": [
    {
     "name": "stdout",
     "output_type": "stream",
     "text": [
      "This fi\n",
      "12\n"
     ]
    }
   ],
   "source": [
    "# seek() - it repositions the cursor to a particular index\n",
    "f.seek(5)\n",
    "r3 = f.read(7)\n",
    "print(r3)\n",
    "print(f.tell())"
   ]
  },
  {
   "cell_type": "code",
   "execution_count": 9,
   "id": "c660283a",
   "metadata": {},
   "outputs": [
    {
     "ename": "ValueError",
     "evalue": "negative seek position -1",
     "output_type": "error",
     "traceback": [
      "\u001b[1;31m---------------------------------------------------------------------------\u001b[0m",
      "\u001b[1;31mValueError\u001b[0m                                Traceback (most recent call last)",
      "Input \u001b[1;32mIn [9]\u001b[0m, in \u001b[0;36m<module>\u001b[1;34m\u001b[0m\n\u001b[0;32m      1\u001b[0m \u001b[38;5;66;03m# seek() - it repositions the cursor to a particular index\u001b[39;00m\n\u001b[1;32m----> 2\u001b[0m \u001b[43mf\u001b[49m\u001b[38;5;241;43m.\u001b[39;49m\u001b[43mseek\u001b[49m\u001b[43m(\u001b[49m\u001b[38;5;241;43m-\u001b[39;49m\u001b[38;5;241;43m1\u001b[39;49m\u001b[43m)\u001b[49m\n\u001b[0;32m      3\u001b[0m r3 \u001b[38;5;241m=\u001b[39m f\u001b[38;5;241m.\u001b[39mread(\u001b[38;5;241m7\u001b[39m)\n\u001b[0;32m      4\u001b[0m \u001b[38;5;28mprint\u001b[39m(r3)\n",
      "\u001b[1;31mValueError\u001b[0m: negative seek position -1"
     ]
    }
   ],
   "source": [
    "# seek() - it repositions the cursor to a particular index\n",
    "f.seek(-1)\n",
    "r3 = f.read(7)\n",
    "print(r3)\n",
    "print(f.tell())"
   ]
  },
  {
   "cell_type": "code",
   "execution_count": 10,
   "id": "0d5753fd",
   "metadata": {},
   "outputs": [
    {
     "name": "stdout",
     "output_type": "stream",
     "text": [
      "12\n"
     ]
    }
   ],
   "source": [
    "# tell() - returns current cursor position\n",
    "print(f.tell())"
   ]
  },
  {
   "cell_type": "code",
   "execution_count": 11,
   "id": "ced6ebda",
   "metadata": {},
   "outputs": [],
   "source": [
    "# close the file - to deallocate the memory\n",
    "f.close()"
   ]
  },
  {
   "cell_type": "code",
   "execution_count": 12,
   "id": "4f1708b6",
   "metadata": {},
   "outputs": [
    {
     "name": "stdout",
     "output_type": "stream",
     "text": [
      "['Data Science and ML']\n"
     ]
    }
   ],
   "source": [
    "d = open('demo2.txt','r')\n",
    "res = d.readlines()\n",
    "print(res)\n",
    "d.close()"
   ]
  },
  {
   "cell_type": "markdown",
   "id": "39106c65",
   "metadata": {},
   "source": [
    "#### Reading the file in append mode\n",
    "\n",
    "append mode is used to add some content(new data) to the file."
   ]
  },
  {
   "cell_type": "code",
   "execution_count": 13,
   "id": "a4042057",
   "metadata": {},
   "outputs": [
    {
     "ename": "UnsupportedOperation",
     "evalue": "not writable",
     "output_type": "error",
     "traceback": [
      "\u001b[1;31m---------------------------------------------------------------------------\u001b[0m",
      "\u001b[1;31mUnsupportedOperation\u001b[0m                      Traceback (most recent call last)",
      "Input \u001b[1;32mIn [13]\u001b[0m, in \u001b[0;36m<module>\u001b[1;34m\u001b[0m\n\u001b[0;32m      1\u001b[0m w \u001b[38;5;241m=\u001b[39m \u001b[38;5;28mopen\u001b[39m(\u001b[38;5;124m'\u001b[39m\u001b[38;5;124mdemo1.txt\u001b[39m\u001b[38;5;124m'\u001b[39m,mode\u001b[38;5;241m=\u001b[39m\u001b[38;5;124m'\u001b[39m\u001b[38;5;124mr\u001b[39m\u001b[38;5;124m'\u001b[39m)\n\u001b[1;32m----> 2\u001b[0m \u001b[43mw\u001b[49m\u001b[38;5;241;43m.\u001b[39;49m\u001b[43mwrite\u001b[49m\u001b[43m(\u001b[49m\u001b[38;5;124;43m'\u001b[39;49m\u001b[38;5;130;43;01m\\n\u001b[39;49;00m\u001b[38;5;124;43mJune Ends soon\u001b[39;49m\u001b[38;5;124;43m'\u001b[39;49m\u001b[43m)\u001b[49m\n\u001b[0;32m      3\u001b[0m w\u001b[38;5;241m.\u001b[39mwrite(\u001b[38;5;124m'\u001b[39m\u001b[38;5;130;01m\\n\u001b[39;00m\u001b[38;5;124mPython is fun to learn\u001b[39m\u001b[38;5;124m'\u001b[39m)\n\u001b[0;32m      4\u001b[0m w\u001b[38;5;241m.\u001b[39mclose()\n",
      "\u001b[1;31mUnsupportedOperation\u001b[0m: not writable"
     ]
    }
   ],
   "source": [
    "w = open('demo1.txt',mode='r')\n",
    "w.write('\\nJune Ends soon')\n",
    "w.write('\\nPython is fun to learn')\n",
    "w.close()"
   ]
  },
  {
   "cell_type": "code",
   "execution_count": 14,
   "id": "b2fa1b06",
   "metadata": {},
   "outputs": [],
   "source": [
    "# 'a' implies append mode\n",
    "w = open('demo2.txt',mode='a')\n",
    "w.write('\\nJune Ends soon')\n",
    "w.write('\\nPython is fun to learn')\n",
    "w.write('\\nI am a good man')\n",
    "w.close()"
   ]
  },
  {
   "cell_type": "code",
   "execution_count": 15,
   "id": "f720ced3",
   "metadata": {},
   "outputs": [
    {
     "name": "stdout",
     "output_type": "stream",
     "text": [
      "['Data Science and ML\\n', 'June Ends soon\\n', 'Python is fun to learn\\n', 'I am a good man']\n"
     ]
    }
   ],
   "source": [
    "f = open('demo2.txt','r')\n",
    "print(f.readlines())"
   ]
  },
  {
   "cell_type": "markdown",
   "id": "69596641",
   "metadata": {},
   "source": [
    "#### Reading File in write mode\n",
    "It is meant to create a new file and add content to the file"
   ]
  },
  {
   "cell_type": "code",
   "execution_count": 16,
   "id": "2d643753",
   "metadata": {},
   "outputs": [],
   "source": [
    "# w  implies write mode\n",
    "g = open('demo3.txt','w') # creating a new file - demo3.txt\n",
    "g.write('New file created')\n",
    "g.write('\\nMultiverse of Madness has been released')\n",
    "g.close()"
   ]
  },
  {
   "cell_type": "code",
   "execution_count": 17,
   "id": "dcbab05f",
   "metadata": {
    "scrolled": true
   },
   "outputs": [
    {
     "name": "stdout",
     "output_type": "stream",
     "text": [
      "['New file created\\n', 'Multiverse of Madness has been released']\n"
     ]
    }
   ],
   "source": [
    "f = open('demo3.txt','r')\n",
    "print(f.readlines())"
   ]
  },
  {
   "cell_type": "markdown",
   "id": "31372747",
   "metadata": {},
   "source": [
    "#### Opening a pre-exitsing file in write mode => overwrites the content if write function is used."
   ]
  },
  {
   "cell_type": "code",
   "execution_count": 18,
   "id": "98cdd0a4",
   "metadata": {},
   "outputs": [],
   "source": [
    "s = open('demo2.txt','w') # opening a pre-existing file in 'w' mode\n",
    "s.write('Data Science and ML')\n",
    "s.close()"
   ]
  },
  {
   "cell_type": "code",
   "execution_count": 19,
   "id": "2a128596",
   "metadata": {},
   "outputs": [
    {
     "name": "stdout",
     "output_type": "stream",
     "text": [
      "['Data Science and ML']\n"
     ]
    }
   ],
   "source": [
    "f = open('demo2.txt','r')\n",
    "print(f.readlines())"
   ]
  },
  {
   "cell_type": "markdown",
   "id": "391826b6",
   "metadata": {},
   "source": [
    "# Numpy Module"
   ]
  },
  {
   "cell_type": "code",
   "execution_count": 20,
   "id": "d8e0d75a",
   "metadata": {},
   "outputs": [],
   "source": [
    "import numpy as np\n",
    "# np is the alias name for numpy library"
   ]
  },
  {
   "cell_type": "markdown",
   "id": "79d3ca35",
   "metadata": {},
   "source": [
    "#### Array in numpy\n",
    "\n",
    "1) Array is an ordered collection of homogeneous elements in numpy.<br>\n",
    "2) All the elements in the numpy array must be of same data type<br>"
   ]
  },
  {
   "cell_type": "code",
   "execution_count": 21,
   "id": "d5ad2fbb",
   "metadata": {
    "scrolled": true
   },
   "outputs": [
    {
     "name": "stdout",
     "output_type": "stream",
     "text": [
      "[12, 13, 14, 16, 23, 24]\n",
      "<class 'list'>\n"
     ]
    }
   ],
   "source": [
    "q = [12,13,14,16,23,24]\n",
    "print(q)\n",
    "print(type(q))"
   ]
  },
  {
   "cell_type": "code",
   "execution_count": 22,
   "id": "7a9a73e6",
   "metadata": {},
   "outputs": [
    {
     "name": "stdout",
     "output_type": "stream",
     "text": [
      "[12 13 14 16 23 24]\n",
      "<class 'numpy.ndarray'>\n"
     ]
    }
   ],
   "source": [
    "n1 = np.array(q)\n",
    "print(n1)\n",
    "print(type(n1))"
   ]
  },
  {
   "cell_type": "code",
   "execution_count": 23,
   "id": "e94f082f",
   "metadata": {},
   "outputs": [
    {
     "name": "stdout",
     "output_type": "stream",
     "text": [
      "[10, 20, 30, 4.5, 7.3, 2.8]\n",
      "<class 'list'>\n",
      "<class 'int'> <class 'float'>\n"
     ]
    }
   ],
   "source": [
    "w1 = [10,20,30,4.5,7.3,2.8]\n",
    "print(w1)\n",
    "print(type(w1))\n",
    "print(type(w1[0]),type(w1[-1]))"
   ]
  },
  {
   "cell_type": "code",
   "execution_count": 24,
   "id": "48430ce2",
   "metadata": {},
   "outputs": [
    {
     "name": "stdout",
     "output_type": "stream",
     "text": [
      "[10.  20.  30.   4.5  7.3  2.8]\n",
      "<class 'numpy.ndarray'>\n",
      "<class 'numpy.float64'> <class 'numpy.float64'>\n"
     ]
    }
   ],
   "source": [
    "n2 = np.array(w1)\n",
    "print(n2)\n",
    "print(type(n2))\n",
    "print(type(n2[0]),type(n2[-1]))"
   ]
  },
  {
   "cell_type": "code",
   "execution_count": 25,
   "id": "13c4ee76",
   "metadata": {},
   "outputs": [
    {
     "name": "stdout",
     "output_type": "stream",
     "text": [
      "[10, 20, '30', 4.5, 7.3, 2.8]\n",
      "<class 'list'>\n",
      "['10' '20' '30' '4.5' '7.3' '2.8']\n",
      "<class 'numpy.ndarray'>\n",
      "<class 'numpy.str_'>\n"
     ]
    }
   ],
   "source": [
    "w1 = [10,20,'30',4.5,7.3,2.8]\n",
    "print(w1)\n",
    "print(type(w1))\n",
    "n2 = np.array(w1)\n",
    "print(n2)\n",
    "print(type(n2))\n",
    "print(type(n2[2]))"
   ]
  },
  {
   "cell_type": "code",
   "execution_count": 26,
   "id": "3ff3f6bf",
   "metadata": {},
   "outputs": [
    {
     "name": "stdout",
     "output_type": "stream",
     "text": [
      "['India' 'Japan' '10' '20' '5.7' '8.3']\n",
      "<class 'numpy.str_'>\n"
     ]
    }
   ],
   "source": [
    "q1 = ['India','Japan',10,20,5.7,8.3]\n",
    "n3 = np.array(q1)\n",
    "print(n3)\n",
    "print(type(n3[-1]))"
   ]
  },
  {
   "cell_type": "markdown",
   "id": "2d617cc6",
   "metadata": {},
   "source": [
    "#### Custom numpy array\n",
    "1) np.zeros() - used to create an array of zeros of specified shape<br>\n",
    "1) np.ones() - used to create an array of ones of specified shape"
   ]
  },
  {
   "cell_type": "code",
   "execution_count": 27,
   "id": "8f61f0f2",
   "metadata": {},
   "outputs": [
    {
     "name": "stdout",
     "output_type": "stream",
     "text": [
      "[[0. 0. 0.]\n",
      " [0. 0. 0.]\n",
      " [0. 0. 0.]\n",
      " [0. 0. 0.]]\n",
      "(4, 3)\n",
      "float64\n"
     ]
    }
   ],
   "source": [
    "a1 = np.zeros((4,3)) # default data type is float\n",
    "print(a1)\n",
    "print(a1.shape) \n",
    "print(a1.dtype)\n",
    "# shape - returns the number of rows and columns (dimensions of the numpy array)"
   ]
  },
  {
   "cell_type": "code",
   "execution_count": 28,
   "id": "9198b4b6",
   "metadata": {},
   "outputs": [
    {
     "name": "stdout",
     "output_type": "stream",
     "text": [
      "[[1 1 1 1 1]\n",
      " [1 1 1 1 1]\n",
      " [1 1 1 1 1]]\n",
      "(3, 5)\n",
      "int32\n",
      "2\n",
      "15\n"
     ]
    }
   ],
   "source": [
    "a1 = np.ones((3,5),dtype='int') # changed the data type to int\n",
    "print(a1)\n",
    "print(a1.shape)  # rows and columns\n",
    "print(a1.dtype)  # data type of np.array\n",
    "print(a1.ndim)   # the dimension\n",
    "print(a1.size)   # number of elmenets in the arary"
   ]
  },
  {
   "cell_type": "code",
   "execution_count": 29,
   "id": "afb8b71b",
   "metadata": {},
   "outputs": [
    {
     "name": "stdout",
     "output_type": "stream",
     "text": [
      "[[[1 1 1 1 1]\n",
      "  [1 1 1 1 1]\n",
      "  [1 1 1 1 1]]\n",
      "\n",
      " [[1 1 1 1 1]\n",
      "  [1 1 1 1 1]\n",
      "  [1 1 1 1 1]]]\n",
      "(2, 3, 5)\n",
      "int32\n",
      "3\n",
      "30\n"
     ]
    }
   ],
   "source": [
    "a1 = np.ones((2,3,5),dtype=int) # changed the data type to int\n",
    "print(a1)\n",
    "print(a1.shape)  # rows and columns\n",
    "print(a1.dtype)  # data type of np.array\n",
    "print(a1.ndim)   # the dimension\n",
    "print(a1.size)   # number of elmenets in the arary"
   ]
  },
  {
   "cell_type": "code",
   "execution_count": 30,
   "id": "21a0f9fe",
   "metadata": {},
   "outputs": [
    {
     "name": "stdout",
     "output_type": "stream",
     "text": [
      "[1 1 1 1 1 1 1]\n",
      "(7,)\n",
      "7\n",
      "1\n"
     ]
    }
   ],
   "source": [
    "a3 = np.ones((7),dtype=int) #1 dimension only in x axis\n",
    "print(a3)\n",
    "print(a3.shape)\n",
    "print(a3.size)\n",
    "print(a3.ndim)"
   ]
  },
  {
   "cell_type": "markdown",
   "id": "3ee99aeb",
   "metadata": {},
   "source": [
    "#### Note\n",
    "A numpy array can be reshaped into product of its factors of its length(number of elements in the array)"
   ]
  },
  {
   "cell_type": "code",
   "execution_count": 31,
   "id": "0c46812a",
   "metadata": {},
   "outputs": [
    {
     "name": "stdout",
     "output_type": "stream",
     "text": [
      "[ 2  4  6  8 10 12 14 16 18 20 22 24]\n",
      "12\n",
      "(12,)\n"
     ]
    }
   ],
   "source": [
    "v1 = np.array([2,4,6,8,10,12,14,16,18,20,22,24])\n",
    "print(v1)\n",
    "print(len(v1))\n",
    "print(v1.shape)\n",
    "# factors of 12 - 1,2,3,4,6,12,\n",
    "# Pairs are - (1,12),(12,1),(2,6),(6,2),(3,4),(4,3)"
   ]
  },
  {
   "cell_type": "code",
   "execution_count": 32,
   "id": "330c059f",
   "metadata": {},
   "outputs": [
    {
     "name": "stdout",
     "output_type": "stream",
     "text": [
      "[[ 2  4]\n",
      " [ 6  8]\n",
      " [10 12]\n",
      " [14 16]\n",
      " [18 20]\n",
      " [22 24]]\n",
      "(6, 2)\n"
     ]
    }
   ],
   "source": [
    "v1 = np.array([2,4,6,8,10,12,14,16,18,20,22,24]).reshape(6,2)\n",
    "print(v1)\n",
    "print(v1.shape)"
   ]
  },
  {
   "cell_type": "markdown",
   "id": "965c535e",
   "metadata": {},
   "source": [
    "### np.arange(start,end,step)"
   ]
  },
  {
   "cell_type": "code",
   "execution_count": 33,
   "id": "e3c6163d",
   "metadata": {},
   "outputs": [
    {
     "name": "stdout",
     "output_type": "stream",
     "text": [
      "5 6 7 8 9 10 11 "
     ]
    }
   ],
   "source": [
    "for i in range(5,12): # start=5,end=12,step=1\n",
    "    print(i,end=\" \")"
   ]
  },
  {
   "cell_type": "code",
   "execution_count": 34,
   "id": "af620ab8",
   "metadata": {},
   "outputs": [
    {
     "name": "stdout",
     "output_type": "stream",
     "text": [
      "[ 5  6  7  8  9 10 11]\n",
      "<class 'numpy.ndarray'>\n"
     ]
    }
   ],
   "source": [
    "d1 = np.arange(5,12) # start= 5, end=12, step=1\n",
    "print(d1)\n",
    "print(type(d1))"
   ]
  },
  {
   "cell_type": "code",
   "execution_count": 35,
   "id": "0995ba41",
   "metadata": {},
   "outputs": [
    {
     "name": "stdout",
     "output_type": "stream",
     "text": [
      "[14 19 24 29 34 39 44 49 54]\n"
     ]
    }
   ],
   "source": [
    "d2 = np.arange(14,56,5) # start=14, end=56, step=5\n",
    "print(d2)"
   ]
  },
  {
   "cell_type": "code",
   "execution_count": 36,
   "id": "e9d44c5d",
   "metadata": {},
   "outputs": [
    {
     "name": "stdout",
     "output_type": "stream",
     "text": [
      "[30 26 22 18 14 10  6]\n",
      "7\n"
     ]
    }
   ],
   "source": [
    "d2 = np.arange(30,5,-4) # start=30, end=5, step=-4\n",
    "print(d2)\n",
    "print(len(d2))"
   ]
  },
  {
   "cell_type": "code",
   "execution_count": 37,
   "id": "dfebfc2e",
   "metadata": {},
   "outputs": [
    {
     "name": "stdout",
     "output_type": "stream",
     "text": [
      "[[ 8 14 20 26]\n",
      " [32 38 44 50]\n",
      " [56 62 68 74]]\n",
      "(3, 4)\n"
     ]
    }
   ],
   "source": [
    "d3 = np.arange(8,75,6).reshape(3,4)\n",
    "print(d3)\n",
    "print(d3.shape)"
   ]
  },
  {
   "cell_type": "code",
   "execution_count": 38,
   "id": "8b055ebd",
   "metadata": {},
   "outputs": [
    {
     "name": "stdout",
     "output_type": "stream",
     "text": [
      "[[10 11 12]\n",
      " [13 14 15]\n",
      " [16 17 18]\n",
      " [19 20 21]]\n",
      "(4, 3)\n"
     ]
    }
   ],
   "source": [
    "d1 = np.arange(10,22).reshape(4,3)\n",
    "print(d1)\n",
    "print(d1.shape)"
   ]
  },
  {
   "cell_type": "code",
   "execution_count": 39,
   "id": "a7fba49b",
   "metadata": {},
   "outputs": [
    {
     "data": {
      "text/plain": [
       "array([[10, 11],\n",
       "       [12, 13],\n",
       "       [14, 15],\n",
       "       [16, 17],\n",
       "       [18, 19],\n",
       "       [20, 21]])"
      ]
     },
     "execution_count": 39,
     "metadata": {},
     "output_type": "execute_result"
    }
   ],
   "source": [
    "d1.reshape(6,2)"
   ]
  },
  {
   "cell_type": "code",
   "execution_count": 40,
   "id": "a80ed866",
   "metadata": {},
   "outputs": [
    {
     "name": "stdout",
     "output_type": "stream",
     "text": [
      "(4, 3)\n"
     ]
    }
   ],
   "source": [
    "print(d1.shape) # dont effect the original shape"
   ]
  },
  {
   "cell_type": "code",
   "execution_count": 41,
   "id": "ea2af561",
   "metadata": {},
   "outputs": [
    {
     "name": "stdout",
     "output_type": "stream",
     "text": [
      "[[10 11 12 13 14 15]\n",
      " [16 17 18 19 20 21]]\n"
     ]
    }
   ],
   "source": [
    "# shape\n",
    "d1.shape = (2,6)\n",
    "print(d1)"
   ]
  },
  {
   "cell_type": "code",
   "execution_count": 42,
   "id": "c6f04e88",
   "metadata": {},
   "outputs": [
    {
     "name": "stdout",
     "output_type": "stream",
     "text": [
      "(2, 6)\n"
     ]
    }
   ],
   "source": [
    "print(d1.shape)"
   ]
  },
  {
   "cell_type": "code",
   "execution_count": 43,
   "id": "ebf12723",
   "metadata": {},
   "outputs": [
    {
     "name": "stdout",
     "output_type": "stream",
     "text": [
      "[[[10 11 12]\n",
      "  [13 14 15]\n",
      "  [16 17 18]]\n",
      "\n",
      " [[19 20 21]\n",
      "  [22 23 24]\n",
      "  [25 26 27]]]\n",
      "(2, 3, 3)\n"
     ]
    }
   ],
   "source": [
    "s1 = np.arange(10,28).reshape(2,3,3)\n",
    "print(s1)\n",
    "print(s1.shape)"
   ]
  },
  {
   "cell_type": "code",
   "execution_count": 44,
   "id": "6d4ade85",
   "metadata": {},
   "outputs": [
    {
     "name": "stdout",
     "output_type": "stream",
     "text": [
      "[[10 11 12]\n",
      " [13 14 15]\n",
      " [16 17 18]\n",
      " [19 20 21]\n",
      " [22 23 24]\n",
      " [25 26 27]]\n",
      "(6, 3)\n"
     ]
    }
   ],
   "source": [
    "s1.shape = (6,3)\n",
    "print(s1)\n",
    "print(s1.shape)"
   ]
  },
  {
   "cell_type": "markdown",
   "id": "ce8430a3",
   "metadata": {},
   "source": [
    "#### Attributes of a numpy Array\n",
    "1) dtype - Returns the data type of the array<br>\n",
    "2) ndim - Returns the number of dimensions<br>\n",
    "3) shape - Returns the number of rows and columns (starting from 2D and onwards)<br>\n",
    "4) size - It returns the total number of elements<br>"
   ]
  },
  {
   "cell_type": "code",
   "execution_count": 45,
   "id": "8e824d5a",
   "metadata": {},
   "outputs": [
    {
     "name": "stdout",
     "output_type": "stream",
     "text": [
      "[[1 2 3]\n",
      " [4 5 6]\n",
      " [7 8 9]]\n",
      "int32\n",
      "2\n",
      "(3, 3)\n",
      "9\n"
     ]
    }
   ],
   "source": [
    "g1 = np.arange(1,10).reshape(3,3)\n",
    "print(g1)\n",
    "print(g1.dtype) # int\n",
    "print(g1.ndim)  # 2\n",
    "print(g1.shape) # (rows,columns)\n",
    "print(g1.size)  # 9"
   ]
  },
  {
   "cell_type": "code",
   "execution_count": 46,
   "id": "6879eccd",
   "metadata": {},
   "outputs": [
    {
     "data": {
      "text/plain": [
       "array([0.5, 1.5, 2.5])"
      ]
     },
     "execution_count": 46,
     "metadata": {},
     "output_type": "execute_result"
    }
   ],
   "source": [
    "np.arange(0.5,3.5)"
   ]
  },
  {
   "cell_type": "code",
   "execution_count": 47,
   "id": "18c2ca09",
   "metadata": {},
   "outputs": [
    {
     "name": "stdout",
     "output_type": "stream",
     "text": [
      "[[ 1  2  3  4  5  6]\n",
      " [ 7  8  9 10 11 12]\n",
      " [13 14 15 16 17 18]]\n",
      "int32\n",
      "2\n",
      "(3, 6)\n",
      "18\n"
     ]
    }
   ],
   "source": [
    "g2 = np.arange(1,19).reshape(3,6)\n",
    "print(g2)\n",
    "print(g2.dtype)\n",
    "print(g2.ndim)\n",
    "print(g2.shape)\n",
    "print(g2.size)"
   ]
  },
  {
   "cell_type": "markdown",
   "id": "c645f031",
   "metadata": {},
   "source": [
    "#### np.linspace()\n",
    "Generates linearly spaced elements over a specified range."
   ]
  },
  {
   "cell_type": "code",
   "execution_count": 48,
   "id": "6f5ce791",
   "metadata": {},
   "outputs": [
    {
     "name": "stdout",
     "output_type": "stream",
     "text": [
      "[ 2.  6. 10.]\n"
     ]
    }
   ],
   "source": [
    "a = np.linspace(2,10,3) # start=2, end=10, no. of elements=3\n",
    "print(a)\n",
    "# linearly spaced means difference between 6 and 2 and between 10 and 6 is same"
   ]
  },
  {
   "cell_type": "code",
   "execution_count": 49,
   "id": "a87535fa",
   "metadata": {},
   "outputs": [
    {
     "name": "stdout",
     "output_type": "stream",
     "text": [
      "[ 2.  4.  6.  8. 10.]\n"
     ]
    }
   ],
   "source": [
    "a1 = np.linspace(2,10,5)\n",
    "print(a1)"
   ]
  },
  {
   "cell_type": "code",
   "execution_count": 50,
   "id": "97ad3d4f",
   "metadata": {},
   "outputs": [
    {
     "name": "stdout",
     "output_type": "stream",
     "text": [
      "[ 7.          8.57142857 10.14285714 11.71428571 13.28571429 14.85714286\n",
      " 16.42857143 18.        ]\n"
     ]
    }
   ],
   "source": [
    "a2 = np.linspace(7,18,8)\n",
    "print(a2)"
   ]
  },
  {
   "cell_type": "code",
   "execution_count": 51,
   "id": "34d5a1d6",
   "metadata": {},
   "outputs": [
    {
     "name": "stdout",
     "output_type": "stream",
     "text": [
      "50\n",
      "[ 5.          5.51020408  6.02040816  6.53061224  7.04081633  7.55102041\n",
      "  8.06122449  8.57142857  9.08163265  9.59183673 10.10204082 10.6122449\n",
      " 11.12244898 11.63265306 12.14285714 12.65306122 13.16326531 13.67346939\n",
      " 14.18367347 14.69387755 15.20408163 15.71428571 16.2244898  16.73469388\n",
      " 17.24489796 17.75510204 18.26530612 18.7755102  19.28571429 19.79591837\n",
      " 20.30612245 20.81632653 21.32653061 21.83673469 22.34693878 22.85714286\n",
      " 23.36734694 23.87755102 24.3877551  24.89795918 25.40816327 25.91836735\n",
      " 26.42857143 26.93877551 27.44897959 27.95918367 28.46938776 28.97959184\n",
      " 29.48979592 30.        ]\n"
     ]
    }
   ],
   "source": [
    "a3 = np.linspace(5,30) #default value of linespace is 50\n",
    "print(len(a3))\n",
    "print(a3)"
   ]
  },
  {
   "cell_type": "code",
   "execution_count": 52,
   "id": "3a19bbfe",
   "metadata": {},
   "outputs": [
    {
     "name": "stdout",
     "output_type": "stream",
     "text": [
      "2\n",
      "(array([ 5.        ,  5.51020408,  6.02040816,  6.53061224,  7.04081633,\n",
      "        7.55102041,  8.06122449,  8.57142857,  9.08163265,  9.59183673,\n",
      "       10.10204082, 10.6122449 , 11.12244898, 11.63265306, 12.14285714,\n",
      "       12.65306122, 13.16326531, 13.67346939, 14.18367347, 14.69387755,\n",
      "       15.20408163, 15.71428571, 16.2244898 , 16.73469388, 17.24489796,\n",
      "       17.75510204, 18.26530612, 18.7755102 , 19.28571429, 19.79591837,\n",
      "       20.30612245, 20.81632653, 21.32653061, 21.83673469, 22.34693878,\n",
      "       22.85714286, 23.36734694, 23.87755102, 24.3877551 , 24.89795918,\n",
      "       25.40816327, 25.91836735, 26.42857143, 26.93877551, 27.44897959,\n",
      "       27.95918367, 28.46938776, 28.97959184, 29.48979592, 30.        ]), 0.5102040816326531)\n"
     ]
    }
   ],
   "source": [
    "a3 = np.linspace(5,30,retstep=True)\n",
    "print(len(a3))\n",
    "print(a3)"
   ]
  },
  {
   "cell_type": "code",
   "execution_count": 53,
   "id": "bfc41d24",
   "metadata": {},
   "outputs": [
    {
     "name": "stdout",
     "output_type": "stream",
     "text": [
      "[ 2.          3.44444444  4.88888889  6.33333333  7.77777778  9.22222222\n",
      " 10.66666667 12.11111111 13.55555556 15.        ]\n"
     ]
    }
   ],
   "source": [
    "a4 = np.linspace(2,15,10)\n",
    "print(a4)"
   ]
  },
  {
   "cell_type": "code",
   "execution_count": 54,
   "id": "4748051b",
   "metadata": {},
   "outputs": [
    {
     "name": "stdout",
     "output_type": "stream",
     "text": [
      "[ 2  3  4  6  7  9 10 12 13 15]\n"
     ]
    }
   ],
   "source": [
    "a5 = np.linspace(2,15,10,dtype=int)  # uses floor\n",
    "print(a5)"
   ]
  },
  {
   "cell_type": "markdown",
   "id": "9c93f115",
   "metadata": {},
   "source": [
    "### np.dot() \n",
    "Computes the Dot product of the arrays."
   ]
  },
  {
   "cell_type": "code",
   "execution_count": 55,
   "id": "73446c06",
   "metadata": {},
   "outputs": [
    {
     "name": "stdout",
     "output_type": "stream",
     "text": [
      "[[1 2 3]\n",
      " [4 5 6]]\n",
      "(2, 3)\n",
      "[[-10  -9  -8  -7  -6]\n",
      " [ -5  -4  -3  -2  -1]\n",
      " [  0   1   2   3   4]]\n",
      "(3, 5)\n"
     ]
    }
   ],
   "source": [
    "a1 = np.arange(1,7).reshape(2,3)\n",
    "print(a1)\n",
    "print(a1.shape)\n",
    "a2 = np.arange(-10,5).reshape(3,5)\n",
    "print(a2)\n",
    "print(a2.shape)"
   ]
  },
  {
   "cell_type": "code",
   "execution_count": 56,
   "id": "9bb8e985",
   "metadata": {},
   "outputs": [
    {
     "name": "stdout",
     "output_type": "stream",
     "text": [
      "[[-20 -14  -8  -2   4]\n",
      " [-65 -50 -35 -20  -5]]\n",
      "(2, 5)\n"
     ]
    }
   ],
   "source": [
    "res = np.dot(a1,a2)\n",
    "print(res)\n",
    "print(res.shape)"
   ]
  },
  {
   "cell_type": "code",
   "execution_count": 57,
   "id": "6cd6e359",
   "metadata": {},
   "outputs": [
    {
     "name": "stdout",
     "output_type": "stream",
     "text": [
      "[[1 2 3]\n",
      " [4 5 6]]\n",
      "(2, 3)\n",
      "[[-10  -9  -8]\n",
      " [ -7  -6  -5]\n",
      " [ -4  -3  -2]\n",
      " [ -1   0   1]\n",
      " [  2   3   4]]\n"
     ]
    }
   ],
   "source": [
    "t1 = np.arange(1,7).reshape(2,3)\n",
    "print(t1)\n",
    "print(t1.shape)\n",
    "t2 = np.arange(-10,5).reshape(5,3)\n",
    "print(t2)"
   ]
  },
  {
   "cell_type": "code",
   "execution_count": 58,
   "id": "669447fa",
   "metadata": {},
   "outputs": [
    {
     "name": "stdout",
     "output_type": "stream",
     "text": [
      "[[ -52  -34  -16    2   20]\n",
      " [-133  -88  -43    2   47]]\n"
     ]
    }
   ],
   "source": [
    "res1 = np.dot(t1,t2.T) #.T makes the transpose of the matrix\n",
    "print(res1)"
   ]
  }
 ],
 "metadata": {
  "kernelspec": {
   "display_name": "Python 3 (ipykernel)",
   "language": "python",
   "name": "python3"
  },
  "language_info": {
   "codemirror_mode": {
    "name": "ipython",
    "version": 3
   },
   "file_extension": ".py",
   "mimetype": "text/x-python",
   "name": "python",
   "nbconvert_exporter": "python",
   "pygments_lexer": "ipython3",
   "version": "3.10.2"
  }
 },
 "nbformat": 4,
 "nbformat_minor": 5
}
