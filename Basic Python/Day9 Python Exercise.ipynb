{
 "cells": [
  {
   "cell_type": "markdown",
   "id": "20d4d501",
   "metadata": {},
   "source": [
    "### Questions\n",
    "<ol>\n",
    "<li>For a gievn dict . d1 ={'a':34,'b':15,'c':78,'d':50,'e':67}. Find difference between largest and smallest values and find their corresponding keys. </li>\n",
    "<li>From a given list of marks, find the marks of the second highest from a list of marks.</li>\n",
    "<li>Create a function to generate a list containing common elements of two given lists. \n",
    "w1 = [1,2,3,4,67,78]<br>\n",
    "w2 = [45,78,3,11,109]</li>\n",
    "<li>Write a program that takes a list of words and returns the length of longest word and \n",
    "   print the longest word as well. Assume any list of words</li>\n",
    "<li>Sort even-placed elements (according to thier index) in decreasing and odd-placed in increasing order and store them in a separate list and display them as output. \n",
    " Assume any list of numbers</li>\n",
    "<li>Find the pair of numbers from a list which sum upto 20. Assume any list of numbers\n",
    "Given list => [3,8,17,8,19,12,11,2,4]</li>\n",
    "<li>Count the occurence of each element in the list using dictionary.Assume any list of numbers or words</li> \n",
    "<li>For the given list find the sum of marks of A,B,C,D and E<br>\n",
    "names =['A','C','D','E','B','C','B','A','C','D','E','D','A','B','E']<br>\n",
    "marks = [49,56,78,89,94,90,80,43,54,61,73,85,95,38,56]</li>     \n",
    "<li>WAF to count the number of vowels in a given string. Assume any string</li>\n",
    "   \n",
    "</ol>"
   ]
  },
  {
   "cell_type": "markdown",
   "id": "a1dc854c",
   "metadata": {},
   "source": [
    "#### 1) For a gievn dict . d1 ={'a':34,'b':15,'c':78,'d':50,'e':67}. Find difference between largest and smallest values and find their corresponding keys. "
   ]
  },
  {
   "cell_type": "code",
   "execution_count": 1,
   "id": "f6c08c95",
   "metadata": {},
   "outputs": [
    {
     "name": "stdout",
     "output_type": "stream",
     "text": [
      "[('b', 15), ('a', 34), ('d', 50), ('e', 67), ('c', 78)]\n",
      "Largest is 78 and smallest is 15 and diff is 63\n",
      "Key for the largest value c and key for the smallest values is b\n"
     ]
    }
   ],
   "source": [
    "d1 ={'a':34,'b':15,'c':78,'d':50,'e':67}\n",
    "# method-1\n",
    "d2 = sorted(d1.items(),key = lambda x : x[1])\n",
    "print(d2)\n",
    "diff = d2[-1][1] - d2[0][1]\n",
    "key_lr,key_sm = d2[-1][0], d2[0][0]\n",
    "print(f'Largest is {d2[-1][1]} and smallest is {d2[0][1]} and diff is {diff}')\n",
    "print(f'Key for the largest value {key_lr} and key for the smallest values is {key_sm}')"
   ]
  },
  {
   "cell_type": "code",
   "execution_count": 2,
   "id": "b34f8b3e",
   "metadata": {},
   "outputs": [
    {
     "name": "stdout",
     "output_type": "stream",
     "text": [
      "Largest key is 78 and smallest key is 15 and diff is 63\n",
      "Key for the largest value c and key for the smallest values is b\n"
     ]
    }
   ],
   "source": [
    "# method-2\n",
    "k,v = list(d1.keys()), list(d1.values())\n",
    "maxv,minv = max(v),min(v)\n",
    "idx_max,idx_min = v.index(maxv),v.index(minv)\n",
    "diff = maxv - minv\n",
    "print(f'Largest key is {maxv} and smallest key is {minv} and diff is {diff}')\n",
    "print(f'Key for the largest value {k[idx_max]} and key for the smallest values is {k[idx_min]}')"
   ]
  },
  {
   "cell_type": "markdown",
   "id": "3a9f3052",
   "metadata": {},
   "source": [
    "#### 2) From a given list of marks, find the marks of the second highest from a list of marks."
   ]
  },
  {
   "cell_type": "code",
   "execution_count": 3,
   "id": "042141e8",
   "metadata": {},
   "outputs": [
    {
     "name": "stdout",
     "output_type": "stream",
     "text": [
      "[52, 63, 68, 72, 73, 75, 79, 81, 84, 90, 94]\n",
      "2nd highest is 90\n"
     ]
    }
   ],
   "source": [
    "marks = [68,72,84,73,94,90,81,79,75,63,52] \n",
    "# Method-1\n",
    "marks.sort()\n",
    "print(marks)\n",
    "print(f'2nd highest is {marks[-2]}')"
   ]
  },
  {
   "cell_type": "code",
   "execution_count": 4,
   "id": "0622a04a",
   "metadata": {},
   "outputs": [
    {
     "name": "stdout",
     "output_type": "stream",
     "text": [
      "2nd highest is 90\n"
     ]
    }
   ],
   "source": [
    "marks = [68,72,84,73,94,90,81,79,75,63,52] \n",
    "# Method-2\n",
    "marks.pop(marks.index(max(marks)))\n",
    "print(f'2nd highest is {max(marks)}')"
   ]
  },
  {
   "cell_type": "markdown",
   "id": "d0c668ef",
   "metadata": {},
   "source": [
    "#### 3) Create a function to generate a list containing common elements of two given lists. \n",
    "w1 = [1,2,3,4,67,78]<br>\n",
    "w2 = [45,78,3,11,109]"
   ]
  },
  {
   "cell_type": "code",
   "execution_count": 5,
   "id": "a1f64e67",
   "metadata": {},
   "outputs": [
    {
     "name": "stdout",
     "output_type": "stream",
     "text": [
      "[3, 78]\n"
     ]
    }
   ],
   "source": [
    "w1 = [1,2,3,4,67,78]\n",
    "w2 = [45,78,3,11,109]\n",
    "# Method-1\n",
    "def common_m1(w1,w2):\n",
    "    w1,w2 = set(w1),set(w2)\n",
    "    res = w1.intersection(w2)\n",
    "    print(list(res))\n",
    "    \n",
    "common_m1(w1,w2)"
   ]
  },
  {
   "cell_type": "code",
   "execution_count": 6,
   "id": "2e42c82f",
   "metadata": {},
   "outputs": [
    {
     "name": "stdout",
     "output_type": "stream",
     "text": [
      "[3, 78]\n"
     ]
    }
   ],
   "source": [
    "w1 = [1,2,3,4,67,78]\n",
    "w2 = [45,78,3,11,109]\n",
    "# Method-2\n",
    "def common_m2(w1,w2):\n",
    "    common = []\n",
    "    for i in w1:\n",
    "        if i in w2:\n",
    "            common.append(i)\n",
    "    print(common)\n",
    "    \n",
    "common_m2(w1,w2)"
   ]
  },
  {
   "cell_type": "markdown",
   "id": "0059ca21",
   "metadata": {},
   "source": [
    "#### 4) Write a program that takes a list of words and returns the length of longest word and print the longest word as well. Assume any list of words"
   ]
  },
  {
   "cell_type": "code",
   "execution_count": 7,
   "id": "52f1ef5a",
   "metadata": {},
   "outputs": [
    {
     "name": "stdout",
     "output_type": "stream",
     "text": [
      "[4, 9, 7, 8, 6, 4]\n",
      "9\n",
      "Longest word is Instagram and its length is 9\n"
     ]
    }
   ],
   "source": [
    "words = ['Meta','Instagram','Discord','Telegram','Signal','Zoom']\n",
    "# method-1\n",
    "# wl = [len(words[i]) for i in range(len(words))]\n",
    "wl = [len(i) for i in words]\n",
    "print(wl)\n",
    "print(max(wl))\n",
    "idx_max = wl.index(max(wl))\n",
    "print(f'Longest word is {words[idx_max]} and its length is {max(wl)}')"
   ]
  },
  {
   "cell_type": "markdown",
   "id": "4219db49",
   "metadata": {},
   "source": [
    "#### 5) Sort even-placed elements (according to thier index) in decreasing and odd-placed in increasing order and store them in a separate list and display them as output. Assume any list of numbers"
   ]
  },
  {
   "cell_type": "code",
   "execution_count": 8,
   "id": "79341517",
   "metadata": {},
   "outputs": [
    {
     "name": "stdout",
     "output_type": "stream",
     "text": [
      "Even placed [57, 56, 42, 24, 11, 10, 9, 7]\n",
      "Odd placed [4, 5, 6, 8, 12, 16, 53]\n"
     ]
    }
   ],
   "source": [
    "g = [7,12,11,5,10,8,9,16,24,4,56,6,57,53,42]\n",
    "ep,op=[],[]\n",
    "for i in range(len(g)):\n",
    "    if i%2==0:\n",
    "        ep.append(g[i])\n",
    "    else:\n",
    "        op.append(g[i])\n",
    "ep.sort(reverse=True)\n",
    "op.sort()\n",
    "print('Even placed',ep)\n",
    "print('Odd placed',op)"
   ]
  },
  {
   "cell_type": "code",
   "execution_count": 9,
   "id": "39c8cf35",
   "metadata": {},
   "outputs": [
    {
     "name": "stdout",
     "output_type": "stream",
     "text": [
      "Even placed [57, 56, 42, 24, 11, 10, 9, 7]\n",
      "Odd placed [4, 5, 6, 8, 12, 16, 53]\n"
     ]
    }
   ],
   "source": [
    "g = [7,12,11,5,10,8,9,16,24,4,56,6,57,53,42]\n",
    "ep,op = g[::2],g[1::2]\n",
    "ep.sort(reverse=True)\n",
    "op.sort()\n",
    "print('Even placed',ep)\n",
    "print('Odd placed',op)"
   ]
  },
  {
   "cell_type": "markdown",
   "id": "fb572bb8",
   "metadata": {},
   "source": [
    "#### 6) Find the pair (pair of two) of numbers from a list which sum upto 20. Assume any list of numbers Given list -[3,8,17,8,19,12,11,2,4]"
   ]
  },
  {
   "cell_type": "code",
   "execution_count": 10,
   "id": "1fda0011",
   "metadata": {},
   "outputs": [
    {
     "name": "stdout",
     "output_type": "stream",
     "text": [
      "[(3, 17), (8, 12), (17, 3), (8, 12), (12, 8), (12, 8)]\n"
     ]
    }
   ],
   "source": [
    "s = [3,8,17,8,19,12,11,2,4]\n",
    "sum20= []\n",
    "for i in s:\n",
    "    for j in s:\n",
    "        if i+j==20:\n",
    "            sum20.append((i,j))\n",
    "print(sum20)"
   ]
  },
  {
   "cell_type": "markdown",
   "id": "67e88591",
   "metadata": {},
   "source": [
    "#### 7) Count the occurence of each element in the list using dictionary.Assume any list of numbers or words"
   ]
  },
  {
   "cell_type": "code",
   "execution_count": 11,
   "id": "757e0f60",
   "metadata": {},
   "outputs": [
    {
     "name": "stdout",
     "output_type": "stream",
     "text": [
      "{12: 4, 14: 4, 16: 3, 15: 3, 11: 1, 13: 2, 17: 1}\n"
     ]
    }
   ],
   "source": [
    "w = [12,14,16,15,11,13,15,16,13,12,14,14,14,12,16,17,15,12]\n",
    "d = {}\n",
    "for i in range(len(w)):\n",
    "    d[w[i]] = w.count(w[i])\n",
    "print(d)"
   ]
  },
  {
   "cell_type": "code",
   "execution_count": 12,
   "id": "4379881e",
   "metadata": {},
   "outputs": [
    {
     "name": "stdout",
     "output_type": "stream",
     "text": [
      "{12: 4, 14: 4, 16: 3, 15: 3, 11: 1, 13: 2, 17: 1}\n"
     ]
    }
   ],
   "source": [
    "w = [12,14,16,15,11,13,15,16,13,12,14,14,14,12,16,17,15,12]\n",
    "d = {}\n",
    "for i in range(len(w)):\n",
    "    if w[i] not in d.keys():\n",
    "        d[w[i]] = 1\n",
    "    else:\n",
    "        d[w[i]] += 1\n",
    "print(d)"
   ]
  },
  {
   "cell_type": "markdown",
   "id": "aebdc05e",
   "metadata": {},
   "source": [
    "#### 8) For the given list find the sum of marks of A,B,C,D and E\n",
    "names =['A','C','D','E','B','C','B','A','C','D','E','D','A','B','E']<br>\n",
    "marks = [49,56,78,89,94,90,80,43,54,61,73,85,95,38,56]"
   ]
  },
  {
   "cell_type": "code",
   "execution_count": 13,
   "id": "8a32ff5f",
   "metadata": {},
   "outputs": [
    {
     "name": "stdout",
     "output_type": "stream",
     "text": [
      "{'A': 187, 'C': 200, 'D': 224, 'E': 218, 'B': 212}\n"
     ]
    }
   ],
   "source": [
    "names =['A','C','D','E','B','C','B','A','C','D','E','D','A','B','E']\n",
    "marks = [49,56,78,89,94,90,80,43,54,61,73,85,95,38,56]\n",
    "# print(len(names),len(marks))\n",
    "d = {}\n",
    "for i in range(len(names)):\n",
    "    if names[i] not in d.keys():\n",
    "        d[names[i]] = marks[i]\n",
    "    else:\n",
    "        d[names[i]] += marks[i]\n",
    "print(d)"
   ]
  },
  {
   "cell_type": "markdown",
   "id": "7f0eb0ff",
   "metadata": {},
   "source": [
    "#### 9) WAF to count the number of vowels in a given string. Assume any string"
   ]
  },
  {
   "cell_type": "code",
   "execution_count": 14,
   "id": "9cfd06ec",
   "metadata": {},
   "outputs": [],
   "source": [
    "s = \"welcome to Python\""
   ]
  },
  {
   "cell_type": "code",
   "execution_count": 15,
   "id": "68ad1047",
   "metadata": {},
   "outputs": [
    {
     "name": "stdout",
     "output_type": "stream",
     "text": [
      "Enter a string: Welcome to the Chiru's World\n",
      "{'e': 3, 'o': 3, 'i': 1, 'u': 1}\n"
     ]
    }
   ],
   "source": [
    "vowels = \"aeiou\"\n",
    "s = input('Enter a string: ')\n",
    "d = {}\n",
    "for i in s:  # i=w\n",
    "    if i in vowels:\n",
    "        if i not in d.keys():\n",
    "            d[i] = 1\n",
    "        else:\n",
    "            d[i] += 1\n",
    "        \n",
    "print(d)"
   ]
  },
  {
   "cell_type": "code",
   "execution_count": 16,
   "id": "6ff7467e",
   "metadata": {},
   "outputs": [
    {
     "name": "stdout",
     "output_type": "stream",
     "text": [
      "Enter a string: Welcome dear, How are you?\n",
      "{'a': 2, 'e': 4, 'i': 0, 'o': 3, 'u': 1}\n"
     ]
    }
   ],
   "source": [
    "# vowels = \"aeiou\"\n",
    "s = input('Enter a string: ')\n",
    "d = {'a':0,'e':0,'i':0,'o':0,'u':0}\n",
    "for i in s:  # i=w\n",
    "    if i in d.keys():\n",
    "        d[i] += 1\n",
    "    \n",
    "print(d)"
   ]
  },
  {
   "cell_type": "code",
   "execution_count": 17,
   "id": "2074abea",
   "metadata": {},
   "outputs": [],
   "source": [
    "#### \n",
    "# 1) Prime number - 2 factors"
   ]
  },
  {
   "cell_type": "markdown",
   "id": "ae39ffbe",
   "metadata": {},
   "source": [
    "#### 9) WAP to check whether a number is Armstrong number or not"
   ]
  },
  {
   "cell_type": "code",
   "execution_count": 18,
   "id": "bd411576",
   "metadata": {},
   "outputs": [
    {
     "name": "stdout",
     "output_type": "stream",
     "text": [
      "153 is armstrong\n",
      "1634 is armstrong\n",
      "3245 is not armstrong\n",
      "4 is armstrong\n"
     ]
    }
   ],
   "source": [
    "# Armstrong Number - \n",
    "# 153 => 1**3 + 5**3 + 3**3 = 153\n",
    "# 1634 => 1**4 + 6**4 + 3**4 + 4**4 = 1634\n",
    "def arm_check(n):\n",
    "    l = len(str(n))\n",
    "    temp = n\n",
    "    arm = 0\n",
    "    while temp>0:\n",
    "        rem = temp%10\n",
    "        arm = arm + rem**l\n",
    "        temp //= 10\n",
    "    if arm==n:\n",
    "        print(f'{n} is armstrong')\n",
    "    else:\n",
    "        print(f'{n} is not armstrong')\n",
    "        \n",
    "arm_check(153)\n",
    "arm_check(1634)\n",
    "arm_check(3245)\n",
    "arm_check(4)"
   ]
  },
  {
   "cell_type": "markdown",
   "id": "d8fa1e0f",
   "metadata": {},
   "source": [
    " #### 10) WAP to check whether a number is Prime number or not"
   ]
  },
  {
   "cell_type": "code",
   "execution_count": 19,
   "id": "84315aa4",
   "metadata": {},
   "outputs": [
    {
     "name": "stdout",
     "output_type": "stream",
     "text": [
      "7 is prime\n",
      "8 is not prime\n",
      "9 is not prime\n",
      "11 is prime\n"
     ]
    }
   ],
   "source": [
    "def prime_check(n):\n",
    "    c=0\n",
    "    for i in range(1,n+1):\n",
    "        if n%i==0:\n",
    "            c += 1\n",
    "    if c==2:\n",
    "        print(f'{n} is prime')\n",
    "    else:\n",
    "        print(f'{n} is not prime')\n",
    "        \n",
    "prime_check(7)\n",
    "prime_check(8)\n",
    "prime_check(9)\n",
    "prime_check(11)"
   ]
  },
  {
   "cell_type": "code",
   "execution_count": 20,
   "id": "f118bc3a",
   "metadata": {},
   "outputs": [
    {
     "name": "stdout",
     "output_type": "stream",
     "text": [
      "7 is prime\n",
      "8 is not prime\n",
      "9 is not prime\n",
      "11 is prime\n"
     ]
    }
   ],
   "source": [
    "def prime_check1(n):\n",
    "    c =0\n",
    "    for i in range(2,n):\n",
    "        if n%i==0:\n",
    "            c = 1\n",
    "            break\n",
    "    if c==0:\n",
    "        print(f'{n} is prime')\n",
    "    else:\n",
    "        print(f'{n} is not prime')\n",
    "        \n",
    "prime_check1(7)\n",
    "prime_check1(8)\n",
    "prime_check1(9)\n",
    "prime_check1(11)"
   ]
  }
 ],
 "metadata": {
  "kernelspec": {
   "display_name": "Python 3 (ipykernel)",
   "language": "python",
   "name": "python3"
  },
  "language_info": {
   "codemirror_mode": {
    "name": "ipython",
    "version": 3
   },
   "file_extension": ".py",
   "mimetype": "text/x-python",
   "name": "python",
   "nbconvert_exporter": "python",
   "pygments_lexer": "ipython3",
   "version": "3.10.2"
  }
 },
 "nbformat": 4,
 "nbformat_minor": 5
}
