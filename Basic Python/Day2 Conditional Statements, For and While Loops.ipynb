{
 "cells": [
  {
   "cell_type": "markdown",
   "id": "8fe54902",
   "metadata": {},
   "source": [
    "#### Print Formatting methods"
   ]
  },
  {
   "cell_type": "code",
   "execution_count": 1,
   "id": "0005f85e",
   "metadata": {},
   "outputs": [
    {
     "name": "stdout",
     "output_type": "stream",
     "text": [
      "Chirag whose age is 19 lives in Sirhind\n",
      "Chirag whose age is 19 lives in Sirhind\n",
      "Chirag whose age is 19 lives in Sirhind\n",
      "Chirag whose age is 19 lives in Sirhind\n"
     ]
    }
   ],
   "source": [
    "name = \"Chirag\"\n",
    "age = 19\n",
    "city = \"Sirhind\"\n",
    "print(name,'whose age is',age,'lives in',city)  # comma separated method\n",
    "print(f'{name} whose age is {age} lives in {city}')  # f-formatting\n",
    "print(f\"{name} whose age is {age} lives in {city}\")  # f-formatting\n",
    "print(\"{} whose age is {} lives in {}\".format(name,age,city))  # format method"
   ]
  },
  {
   "cell_type": "markdown",
   "id": "c2e43c7f",
   "metadata": {},
   "source": [
    "#### Indentation\n",
    "1) 1 tab space is referred to as indentation<br>\n",
    "2) Indentation is used in conditional statements, for and while loops, functions etc"
   ]
  },
  {
   "cell_type": "markdown",
   "id": "5f470454",
   "metadata": {},
   "source": [
    "### If-elif-else\n",
    "<pre>\n",
    "if condition1 :\n",
    "    code1\n",
    "elif condition2:\n",
    "    code2\n",
    "elif condition3:\n",
    "    code3\n",
    "else:\n",
    "    code4\n",
    "</pre>"
   ]
  },
  {
   "cell_type": "markdown",
   "id": "1cf85067",
   "metadata": {},
   "source": [
    "### If-elif-else\n",
    "<pre>\n",
    "if condition1 :\n",
    "    if condition_1a :\n",
    "        code_a\n",
    "    else condition_1b:\n",
    "        code_b\n",
    "else condition2:\n",
    "    code_2\n",
    "</pre>"
   ]
  },
  {
   "cell_type": "markdown",
   "id": "e04f5394",
   "metadata": {},
   "source": [
    "#### 1) if"
   ]
  },
  {
   "cell_type": "code",
   "execution_count": 2,
   "id": "47a9bc8d",
   "metadata": {},
   "outputs": [],
   "source": [
    "n = 24\n",
    "if n%5==0 :\n",
    "    print(n,'is divisible by 5')"
   ]
  },
  {
   "cell_type": "code",
   "execution_count": 3,
   "id": "ea01da04",
   "metadata": {},
   "outputs": [
    {
     "name": "stdout",
     "output_type": "stream",
     "text": [
      "40 is divisble by 5\n"
     ]
    }
   ],
   "source": [
    "n = 40\n",
    "if n%5==0 :\n",
    "    print(n,'is divisble by 5')"
   ]
  },
  {
   "cell_type": "markdown",
   "id": "5a9b91b2",
   "metadata": {},
   "source": [
    "#### 2) if-else"
   ]
  },
  {
   "cell_type": "code",
   "execution_count": 4,
   "id": "33d98b06",
   "metadata": {},
   "outputs": [
    {
     "name": "stdout",
     "output_type": "stream",
     "text": [
      "35 is divisble by 7\n"
     ]
    }
   ],
   "source": [
    "n = 35\n",
    "if n%7==0 :\n",
    "    print(n,'is divisble by 7')\n",
    "else:\n",
    "    print(n,'is not divisible by 7')"
   ]
  },
  {
   "cell_type": "markdown",
   "id": "11a96b3f",
   "metadata": {},
   "source": [
    "#### 3) if-elif\n",
    "Mulitple Condition Checking"
   ]
  },
  {
   "cell_type": "code",
   "execution_count": 5,
   "id": "d629210b",
   "metadata": {},
   "outputs": [
    {
     "name": "stdout",
     "output_type": "stream",
     "text": [
      "Python Developer\n"
     ]
    }
   ],
   "source": [
    "lang = \"Python\"\n",
    "if lang==\"Java\":\n",
    "    print('Java Developer')\n",
    "elif lang == \"Ruby\":\n",
    "    print('Ruby Developer')\n",
    "elif lang == \"Golang\":\n",
    "    print('Golang Developer')\n",
    "elif lang == \"Python\":\n",
    "    print('Python Developer')\n",
    "elif lang == \"React\":\n",
    "    print('React Developer')\n",
    "elif lang == \"Angular\":\n",
    "    print('Angular Developer')\n"
   ]
  },
  {
   "cell_type": "code",
   "execution_count": 6,
   "id": "ca1d4a70",
   "metadata": {},
   "outputs": [
    {
     "name": "stdout",
     "output_type": "stream",
     "text": [
      "Java Developer\n",
      "India\n",
      "Hello world\n"
     ]
    }
   ],
   "source": [
    "lang = \"Java\"\n",
    "if lang==\"Rust\":\n",
    "    print('Rust Developer')\n",
    "elif lang == \"Ruby\":\n",
    "    print('Ruby Developer')\n",
    "elif lang == \"Java\":\n",
    "    print('Java Developer')\n",
    "    print('India')\n",
    "elif lang == \"Python\":\n",
    "    print('Python Developer')\n",
    "elif lang == \"Java\":\n",
    "    print('Java2 Developer')\n",
    "elif lang == \"Angular\":\n",
    "    print('Angular Developer')\n",
    "\n",
    "print('Hello world')"
   ]
  },
  {
   "cell_type": "markdown",
   "id": "367f3f83",
   "metadata": {},
   "source": [
    "#### 5) if-elif-else"
   ]
  },
  {
   "cell_type": "code",
   "execution_count": 7,
   "id": "721a2bbb",
   "metadata": {},
   "outputs": [
    {
     "name": "stdout",
     "output_type": "stream",
     "text": [
      "None of the above\n"
     ]
    }
   ],
   "source": [
    "lang = \"Python\"\n",
    "if lang==\"Java\":\n",
    "    print('Java Developer')\n",
    "elif lang == \"Ruby\":\n",
    "    print('Ruby Developer')\n",
    "elif lang == \"Golang\":\n",
    "    print('Golang Developer')\n",
    "elif lang == \"Node\":\n",
    "    print('Node Developer')\n",
    "elif lang == \"React\":\n",
    "    print('React Developer')\n",
    "elif lang == \"Angular\":\n",
    "    print('Angular Developer')\n",
    "else:\n",
    "    print('None of the above')"
   ]
  },
  {
   "cell_type": "markdown",
   "id": "f40431f9",
   "metadata": {},
   "source": [
    "#### 5) Nested If - if inside if"
   ]
  },
  {
   "cell_type": "code",
   "execution_count": 8,
   "id": "7327792c",
   "metadata": {},
   "outputs": [
    {
     "name": "stdout",
     "output_type": "stream",
     "text": [
      "20 is not divisible by 3\n"
     ]
    }
   ],
   "source": [
    "n = 20\n",
    "if n%3==0:\n",
    "    if n%5==0:\n",
    "        print(n,'is divisible by 3 and 5')\n",
    "    else:\n",
    "        print(n,'is divisible by 3')\n",
    "else:\n",
    "    print(n,'is not divisible by 3')"
   ]
  },
  {
   "cell_type": "code",
   "execution_count": 9,
   "id": "70ad9e8f",
   "metadata": {},
   "outputs": [
    {
     "name": "stdout",
     "output_type": "stream",
     "text": [
      "29 is not divisible by 5\n"
     ]
    }
   ],
   "source": [
    "n = 29\n",
    "if n%5==0:\n",
    "    if n%3==0:\n",
    "        print(f'{n} is divisible by 15')         # C1\n",
    "    else:\n",
    "        print('{} is divisible by 5'.format(n))  # C2\n",
    "else:\n",
    "    if n%13==0:\n",
    "        print(f'{n} is divisible by 13')  # C3\n",
    "    else:\n",
    "        print(n,'is not divisible by 5')  # C4"
   ]
  },
  {
   "cell_type": "markdown",
   "id": "e7cbb3d2",
   "metadata": {},
   "source": [
    "### For Loops\n",
    "In range(start,end,step) method\n",
    "1) In ascending order, iteration proceeds from start till end-1, step size is positive<br>\n",
    "2) In descending order, iteration proceeds from start till end+1, step size is negative<br>\n",
    "3) Default step value = +1<br>\n",
    "4) range() works only on int<br>\n",
    "5) If only one value is passed in range function, it is considered as end value<br>\n",
    "6) Default start value is 0, if not mentioned<br>"
   ]
  },
  {
   "cell_type": "code",
   "execution_count": 10,
   "id": "8e0beb23",
   "metadata": {},
   "outputs": [
    {
     "name": "stdout",
     "output_type": "stream",
     "text": [
      "0\n",
      "1\n",
      "2\n",
      "3\n"
     ]
    }
   ],
   "source": [
    "print(0)\n",
    "print(1)\n",
    "print(2)\n",
    "print(3)"
   ]
  },
  {
   "cell_type": "code",
   "execution_count": 11,
   "id": "0d6463a4",
   "metadata": {},
   "outputs": [
    {
     "name": "stdout",
     "output_type": "stream",
     "text": [
      "0\n",
      "1\n",
      "2\n",
      "3\n"
     ]
    }
   ],
   "source": [
    "for i in range(4): # start=0, end=4, step=1\n",
    "    print(i)"
   ]
  },
  {
   "cell_type": "code",
   "execution_count": 12,
   "id": "7a2d45b1",
   "metadata": {},
   "outputs": [
    {
     "name": "stdout",
     "output_type": "stream",
     "text": [
      "0\n",
      "1\n",
      "2\n",
      "3\n",
      "4\n",
      "5\n",
      "6\n"
     ]
    }
   ],
   "source": [
    "for d in range(7):  # start=0, end=7, step=1\n",
    "    print(d)"
   ]
  },
  {
   "cell_type": "code",
   "execution_count": 13,
   "id": "dbdb350a",
   "metadata": {},
   "outputs": [
    {
     "name": "stdout",
     "output_type": "stream",
     "text": [
      "3\n",
      "4\n",
      "5\n",
      "6\n",
      "7\n",
      "8\n",
      "9\n"
     ]
    }
   ],
   "source": [
    "for g in range(3,10): # start=3, end=10, step=1\n",
    "    print(g)"
   ]
  },
  {
   "cell_type": "code",
   "execution_count": 14,
   "id": "ffc7b629",
   "metadata": {},
   "outputs": [
    {
     "name": "stdout",
     "output_type": "stream",
     "text": [
      "25\n",
      "26\n",
      "27\n",
      "28\n",
      "29\n",
      "30\n",
      "31\n"
     ]
    }
   ],
   "source": [
    "for r in range(25,32): # start=25, end=32, step=1\n",
    "    print(r)"
   ]
  },
  {
   "cell_type": "code",
   "execution_count": 15,
   "id": "5fa609cc",
   "metadata": {},
   "outputs": [
    {
     "name": "stdout",
     "output_type": "stream",
     "text": [
      "10\n",
      "12\n",
      "14\n",
      "16\n",
      "18\n"
     ]
    }
   ],
   "source": [
    "for h in range(10,20,2): # start=10,end=20,step=2\n",
    "    print(h)"
   ]
  },
  {
   "cell_type": "code",
   "execution_count": 16,
   "id": "a3e8caab",
   "metadata": {},
   "outputs": [
    {
     "name": "stdout",
     "output_type": "stream",
     "text": [
      "9 16 23 30 37 44 51 58 "
     ]
    }
   ],
   "source": [
    "for i in range(9,63,7): # start=9,end=63,step=7\n",
    "    print(i, end=\" \")"
   ]
  },
  {
   "cell_type": "code",
   "execution_count": 17,
   "id": "9f90fa50",
   "metadata": {},
   "outputs": [
    {
     "name": "stdout",
     "output_type": "stream",
     "text": [
      "-5 -3 -1 1 "
     ]
    }
   ],
   "source": [
    "for i in range(-5,3,2): # start=-5,end=3,step=2\n",
    "    print(i,end=' ')"
   ]
  },
  {
   "cell_type": "code",
   "execution_count": 18,
   "id": "e0d6c498",
   "metadata": {},
   "outputs": [
    {
     "name": "stdout",
     "output_type": "stream",
     "text": [
      "-10 -9 -8 -7 -6 -5 "
     ]
    }
   ],
   "source": [
    "for i in range(-10,-4): # start=-10,end=-4,step=+1\n",
    "    print(i,end = ' ')"
   ]
  },
  {
   "cell_type": "code",
   "execution_count": 19,
   "id": "1ed2ff0c",
   "metadata": {},
   "outputs": [
    {
     "name": "stdout",
     "output_type": "stream",
     "text": [
      "34 38 42 46 "
     ]
    }
   ],
   "source": [
    "for i in range(34,50,4):\n",
    "    print(i,end=\" \")"
   ]
  },
  {
   "cell_type": "code",
   "execution_count": 20,
   "id": "1606f39d",
   "metadata": {},
   "outputs": [
    {
     "name": "stdout",
     "output_type": "stream",
     "text": [
      "34 ** 38 ** 42 ** 46 ** "
     ]
    }
   ],
   "source": [
    "for i in range(34,50,4):\n",
    "    print(i,end=\" ** \")"
   ]
  },
  {
   "cell_type": "code",
   "execution_count": 21,
   "id": "e4ec35e6",
   "metadata": {},
   "outputs": [],
   "source": [
    "for i in range(14,5): # start=14, end=5, step=1\n",
    "    print(i)"
   ]
  },
  {
   "cell_type": "code",
   "execution_count": 22,
   "id": "3d5b9dcb",
   "metadata": {},
   "outputs": [
    {
     "name": "stdout",
     "output_type": "stream",
     "text": [
      "14 13 12 11 10 9 8 7 6 "
     ]
    }
   ],
   "source": [
    "for i in range(14,5,-1): # start=14, end=5, step=-1\n",
    "    print(i,end=\" \")"
   ]
  },
  {
   "cell_type": "code",
   "execution_count": 23,
   "id": "56de848c",
   "metadata": {},
   "outputs": [
    {
     "name": "stdout",
     "output_type": "stream",
     "text": [
      "60 55 50 45 40 35 30 25 20 15 "
     ]
    }
   ],
   "source": [
    "for i in range(60,10,-5): # start=60, end=10, step=-5\n",
    "    print(i,end=\" \")"
   ]
  },
  {
   "cell_type": "code",
   "execution_count": 24,
   "id": "695afc41",
   "metadata": {},
   "outputs": [
    {
     "name": "stdout",
     "output_type": "stream",
     "text": [
      "500 450 400 350 300 250 200 150 "
     ]
    }
   ],
   "source": [
    "for i in range(500,100,-50):\n",
    "    print(i,end=\" \")"
   ]
  },
  {
   "cell_type": "code",
   "execution_count": 25,
   "id": "b009461e",
   "metadata": {},
   "outputs": [
    {
     "name": "stdout",
     "output_type": "stream",
     "text": [
      "0\n"
     ]
    }
   ],
   "source": [
    "for i in range(1): # start=0,end=1,step=1\n",
    "    print(i)"
   ]
  },
  {
   "cell_type": "code",
   "execution_count": 26,
   "id": "46f15ed5",
   "metadata": {},
   "outputs": [],
   "source": [
    "for i in range(7,7): # start=7,end=7,step=1\n",
    "    print(i)"
   ]
  },
  {
   "cell_type": "code",
   "execution_count": 27,
   "id": "49959037",
   "metadata": {},
   "outputs": [],
   "source": [
    "for i in range(0):\n",
    "    print(i)"
   ]
  },
  {
   "cell_type": "code",
   "execution_count": 28,
   "id": "d0be341f",
   "metadata": {},
   "outputs": [
    {
     "ename": "TypeError",
     "evalue": "'float' object cannot be interpreted as an integer",
     "output_type": "error",
     "traceback": [
      "\u001b[1;31m---------------------------------------------------------------------------\u001b[0m",
      "\u001b[1;31mTypeError\u001b[0m                                 Traceback (most recent call last)",
      "Input \u001b[1;32mIn [28]\u001b[0m, in \u001b[0;36m<module>\u001b[1;34m\u001b[0m\n\u001b[0;32m      1\u001b[0m \u001b[38;5;66;03m# range() doesnt work on float\u001b[39;00m\n\u001b[1;32m----> 2\u001b[0m \u001b[38;5;28;01mfor\u001b[39;00m i \u001b[38;5;129;01min\u001b[39;00m \u001b[38;5;28;43mrange\u001b[39;49m\u001b[43m(\u001b[49m\u001b[38;5;241;43m3.2\u001b[39;49m\u001b[43m,\u001b[49m\u001b[38;5;241;43m4.9\u001b[39;49m\u001b[43m,\u001b[49m\u001b[38;5;241;43m0.3\u001b[39;49m\u001b[43m)\u001b[49m:\n\u001b[0;32m      3\u001b[0m     \u001b[38;5;28mprint\u001b[39m(i)\n",
      "\u001b[1;31mTypeError\u001b[0m: 'float' object cannot be interpreted as an integer"
     ]
    }
   ],
   "source": [
    "# range() doesnt work on float\n",
    "for i in range(3.2,4.9,0.3):\n",
    "    print(i)"
   ]
  },
  {
   "cell_type": "markdown",
   "id": "dca2a312",
   "metadata": {},
   "source": [
    "#### Iterate on Strings\n",
    "1) Positive indexes start from 0 and move from left to right in increasing order<br>\n",
    "2) Negative indexes start from -1 and move from right to left in decreasing order"
   ]
  },
  {
   "cell_type": "code",
   "execution_count": 29,
   "id": "eee214ac",
   "metadata": {},
   "outputs": [
    {
     "name": "stdout",
     "output_type": "stream",
     "text": [
      "3\n",
      "Bat\n"
     ]
    }
   ],
   "source": [
    "w = \"Bat\"\n",
    "print(len(w))\n",
    "print(w)"
   ]
  },
  {
   "cell_type": "code",
   "execution_count": 30,
   "id": "1b94ccc0",
   "metadata": {},
   "outputs": [
    {
     "name": "stdout",
     "output_type": "stream",
     "text": [
      "B\n",
      "a\n",
      "t\n",
      "t\n",
      "a\n",
      "B\n"
     ]
    }
   ],
   "source": [
    "print(w[0])\n",
    "print(w[1])\n",
    "print(w[2])\n",
    "print(w[-1])\n",
    "print(w[-2])\n",
    "print(w[-3])"
   ]
  },
  {
   "cell_type": "code",
   "execution_count": 31,
   "id": "89881d71",
   "metadata": {},
   "outputs": [
    {
     "name": "stdout",
     "output_type": "stream",
     "text": [
      "T o d a y "
     ]
    }
   ],
   "source": [
    "# Method-1 - Character wise iteration\n",
    "s = \"Today\"\n",
    "for i in s:  # i corresponds to each character of the string s\n",
    "    print(i,end=\" \")"
   ]
  },
  {
   "cell_type": "code",
   "execution_count": 32,
   "id": "3b496de6",
   "metadata": {},
   "outputs": [
    {
     "name": "stdout",
     "output_type": "stream",
     "text": [
      "T o d a y "
     ]
    }
   ],
   "source": [
    "# Method-2 - Index wise iteration\n",
    "s = \"Today\"\n",
    "for i in range(len(s)): # i corresponds to the index=> start=0,end=len(s)=5,step=+1 \n",
    "    print(s[i],end=\" \") # i=0,1,2,3,4\n",
    "    \n",
    "# i=0, s[0]=T\n",
    "# i=1, s[1]=o\n",
    "# i=2, s[2]=d\n",
    "# i=3, s[3]=a\n",
    "# i=4, s[4]=y"
   ]
  },
  {
   "cell_type": "code",
   "execution_count": 33,
   "id": "919392e2",
   "metadata": {},
   "outputs": [
    {
     "name": "stdout",
     "output_type": "stream",
     "text": [
      "0 T\n",
      "1 o\n",
      "2 d\n",
      "3 a\n",
      "4 y\n"
     ]
    }
   ],
   "source": [
    "# Method-2 - Index wise iteration\n",
    "s = \"Today\"\n",
    "for i in range(len(s)): # i corresponds to the index=> start=0,end=len(s)=5,step=+1 \n",
    "    print(i,s[i]) # i=0,1,2,3,4\n",
    "    \n",
    "# i=0, s[0]=T\n",
    "# i=1, s[1]=o\n",
    "# i=2, s[2]=d\n",
    "# i=3, s[3]=a\n",
    "# i=4, s[4]=y"
   ]
  },
  {
   "cell_type": "markdown",
   "id": "1ad409d1",
   "metadata": {},
   "source": [
    "### While Loops"
   ]
  },
  {
   "cell_type": "code",
   "execution_count": 34,
   "id": "73d0a356",
   "metadata": {},
   "outputs": [
    {
     "name": "stdout",
     "output_type": "stream",
     "text": [
      "0 1 2 3 4 "
     ]
    }
   ],
   "source": [
    "i=0   # start\n",
    "while i<5:  # end\n",
    "    print(i,end=\" \")\n",
    "    i += 1  # step"
   ]
  },
  {
   "cell_type": "code",
   "execution_count": 35,
   "id": "2d0a23dd",
   "metadata": {},
   "outputs": [
    {
     "name": "stdout",
     "output_type": "stream",
     "text": [
      "1 2 3 4 5 "
     ]
    }
   ],
   "source": [
    "i=0                # start\n",
    "while i<5:         # end\n",
    "    i += 1         # step\n",
    "    print(i,end=' ')\n",
    "# i=0,0<5=>True,i=i+1,i=1,print(1)\n",
    "# i=1,1<5=>True,i=i+1,i=2,print(2)\n",
    "# i=2,2<5=>True,i=i+1,i=3,print(3)\n",
    "# i=3,3<5=>True,i=i+1,i=4,print(4)\n",
    "# i=4,4<5=>True,i=i+1,i=5,print(5)"
   ]
  },
  {
   "cell_type": "code",
   "execution_count": 36,
   "id": "3c5d5c46",
   "metadata": {},
   "outputs": [
    {
     "name": "stdout",
     "output_type": "stream",
     "text": [
      "17 15 13 11 9 7 5 "
     ]
    }
   ],
   "source": [
    "d = 17   # start=17\n",
    "while d>4:  # end=4\n",
    "    print(d,end=\" \")\n",
    "    d -= 2  # step =-2"
   ]
  },
  {
   "cell_type": "markdown",
   "id": "2027a564",
   "metadata": {},
   "source": [
    "#### Iterate on Strings"
   ]
  },
  {
   "cell_type": "code",
   "execution_count": 37,
   "id": "f06368c8",
   "metadata": {},
   "outputs": [
    {
     "name": "stdout",
     "output_type": "stream",
     "text": [
      "17\n"
     ]
    }
   ],
   "source": [
    "s = \"Welcome to Python\"\n",
    "print(len(s))\n",
    "# Welcome-7, to-2, Python - 6, space chars - 2"
   ]
  },
  {
   "cell_type": "code",
   "execution_count": 38,
   "id": "6910542d",
   "metadata": {},
   "outputs": [
    {
     "name": "stdout",
     "output_type": "stream",
     "text": [
      "Python"
     ]
    }
   ],
   "source": [
    "s = \"Python\"\n",
    "i=0\n",
    "while i<len(s): # i<6\n",
    "    print(s[i],end=\"\")\n",
    "    i += 1\n",
    "# i=0, s[0] = P\n",
    "# i=1, s[1] = y\n",
    "# i=2, s[2] = t\n",
    "# i=3, s[3] = h\n",
    "# i=4, s[4] = o\n",
    "# i=5, s[5] = n"
   ]
  },
  {
   "cell_type": "code",
   "execution_count": 39,
   "id": "60225f62",
   "metadata": {},
   "outputs": [
    {
     "name": "stdout",
     "output_type": "stream",
     "text": [
      "ython"
     ]
    },
    {
     "ename": "IndexError",
     "evalue": "string index out of range",
     "output_type": "error",
     "traceback": [
      "\u001b[1;31m---------------------------------------------------------------------------\u001b[0m",
      "\u001b[1;31mIndexError\u001b[0m                                Traceback (most recent call last)",
      "Input \u001b[1;32mIn [39]\u001b[0m, in \u001b[0;36m<module>\u001b[1;34m\u001b[0m\n\u001b[0;32m      3\u001b[0m \u001b[38;5;28;01mwhile\u001b[39;00m i\u001b[38;5;241m<\u001b[39m\u001b[38;5;28mlen\u001b[39m(s): \u001b[38;5;66;03m# i<6\u001b[39;00m\n\u001b[0;32m      4\u001b[0m     i \u001b[38;5;241m+\u001b[39m\u001b[38;5;241m=\u001b[39m \u001b[38;5;241m1\u001b[39m\n\u001b[1;32m----> 5\u001b[0m     \u001b[38;5;28mprint\u001b[39m(\u001b[43ms\u001b[49m\u001b[43m[\u001b[49m\u001b[43mi\u001b[49m\u001b[43m]\u001b[49m,end\u001b[38;5;241m=\u001b[39m\u001b[38;5;124m\"\u001b[39m\u001b[38;5;124m\"\u001b[39m)\n",
      "\u001b[1;31mIndexError\u001b[0m: string index out of range"
     ]
    }
   ],
   "source": [
    "s = \"Python\"\n",
    "i=0\n",
    "while i<len(s): # i<6\n",
    "    i += 1\n",
    "    print(s[i],end=\"\")\n",
    "    \n",
    "# i=0, s[1] = y\n",
    "# i=1, s[2] = t\n",
    "# i=2, s[3] = h\n",
    "# i=3, s[4] = o\n",
    "# i=4, s[5] = n\n",
    "# i=5 ,s[6] = ?? # Error"
   ]
  },
  {
   "cell_type": "code",
   "execution_count": 40,
   "id": "8a0bf319",
   "metadata": {},
   "outputs": [
    {
     "name": "stdout",
     "output_type": "stream",
     "text": [
      "Bat"
     ]
    },
    {
     "ename": "IndexError",
     "evalue": "string index out of range",
     "output_type": "error",
     "traceback": [
      "\u001b[1;31m---------------------------------------------------------------------------\u001b[0m",
      "\u001b[1;31mIndexError\u001b[0m                                Traceback (most recent call last)",
      "Input \u001b[1;32mIn [40]\u001b[0m, in \u001b[0;36m<module>\u001b[1;34m\u001b[0m\n\u001b[0;32m      3\u001b[0m \u001b[38;5;28;01mwhile\u001b[39;00m i\u001b[38;5;241m<\u001b[39m\u001b[38;5;28mlen\u001b[39m(s): \u001b[38;5;66;03m# i<3,\u001b[39;00m\n\u001b[0;32m      4\u001b[0m     i \u001b[38;5;241m+\u001b[39m\u001b[38;5;241m=\u001b[39m \u001b[38;5;241m1\u001b[39m\n\u001b[1;32m----> 5\u001b[0m     \u001b[38;5;28mprint\u001b[39m(\u001b[43ms\u001b[49m\u001b[43m[\u001b[49m\u001b[43mi\u001b[49m\u001b[43m]\u001b[49m,end\u001b[38;5;241m=\u001b[39m\u001b[38;5;124m\"\u001b[39m\u001b[38;5;124m\"\u001b[39m)\n",
      "\u001b[1;31mIndexError\u001b[0m: string index out of range"
     ]
    }
   ],
   "source": [
    "s = \"Bat\"\n",
    "i=-1\n",
    "while i<len(s): # i<3,\n",
    "    i += 1\n",
    "    print(s[i],end=\"\")\n",
    "# i=-1, s[0] = B\n",
    "# i=0, s[1] = a\n",
    "# i=1, s[2] = t\n",
    "# i=2, s[3] = # Error"
   ]
  },
  {
   "cell_type": "code",
   "execution_count": 41,
   "id": "8fb992a2",
   "metadata": {},
   "outputs": [
    {
     "name": "stdout",
     "output_type": "stream",
     "text": [
      "Bat"
     ]
    }
   ],
   "source": [
    "s = \"Bat\"\n",
    "i=-1\n",
    "while i<len(s)-1: # i<2,\n",
    "    i += 1\n",
    "    print(s[i],end=\"\")\n",
    "# i=-1, s[0] = B\n",
    "# i=0, s[1] = a\n",
    "# i=1, s[2] = t\n",
    "# i=2, while=>False"
   ]
  },
  {
   "cell_type": "code",
   "execution_count": 42,
   "id": "d734f947",
   "metadata": {},
   "outputs": [
    {
     "name": "stdout",
     "output_type": "stream",
     "text": [
      "eom"
     ]
    }
   ],
   "source": [
    "s = \"Welocme\"\n",
    "i=-1\n",
    "while i<len(s)-2: # i<2,\n",
    "    i += 2\n",
    "    print(s[i],end=\"\")\n",
    "# i=-1, s[1] = e\n",
    "# i=1, s[3] = o\n",
    "# i=3, s[5] = m\n",
    "# i=5, while=>False"
   ]
  },
  {
   "cell_type": "markdown",
   "id": "f2bec90a",
   "metadata": {},
   "source": [
    "#### break - The moment break keyword in encountered, it takes program control out of the loop"
   ]
  },
  {
   "cell_type": "code",
   "execution_count": 43,
   "id": "9be7dbd8",
   "metadata": {},
   "outputs": [
    {
     "name": "stdout",
     "output_type": "stream",
     "text": [
      "10\n",
      "11\n"
     ]
    }
   ],
   "source": [
    "for i in range(10,20):\n",
    "    if i%3==0: # i=12\n",
    "        break\n",
    "    else:\n",
    "        print(i)\n"
   ]
  },
  {
   "cell_type": "code",
   "execution_count": 44,
   "id": "e9a75489",
   "metadata": {},
   "outputs": [
    {
     "name": "stdout",
     "output_type": "stream",
     "text": [
      "10\n",
      "11\n",
      "12\n"
     ]
    }
   ],
   "source": [
    "for i in range(10,20):\n",
    "    if i%3==0:\n",
    "        print(i)\n",
    "        break\n",
    "    else:\n",
    "        print(i)"
   ]
  },
  {
   "cell_type": "code",
   "execution_count": 45,
   "id": "ba269e4e",
   "metadata": {},
   "outputs": [
    {
     "name": "stdout",
     "output_type": "stream",
     "text": [
      "10\n"
     ]
    }
   ],
   "source": [
    "for i in range(10,20):\n",
    "    if i%3==0:\n",
    "        print(i)\n",
    "    else:\n",
    "        print(i)\n",
    "        break"
   ]
  },
  {
   "cell_type": "code",
   "execution_count": 46,
   "id": "41b65210",
   "metadata": {},
   "outputs": [],
   "source": [
    "for i in range(10,20):\n",
    "    if i%3==0:\n",
    "        print(i)\n",
    "    else:\n",
    "        break\n"
   ]
  },
  {
   "cell_type": "code",
   "execution_count": 47,
   "id": "a95d353c",
   "metadata": {},
   "outputs": [
    {
     "name": "stdout",
     "output_type": "stream",
     "text": [
      "1\n",
      "2\n",
      "3\n"
     ]
    }
   ],
   "source": [
    "i = 1  # start\n",
    "while i<7:  # end\n",
    "    print(i)\n",
    "    if i%3==0:\n",
    "        break\n",
    "    i+=1"
   ]
  },
  {
   "cell_type": "code",
   "execution_count": 48,
   "id": "05914323",
   "metadata": {},
   "outputs": [
    {
     "name": "stdout",
     "output_type": "stream",
     "text": [
      "30\n",
      "35\n",
      "40\n",
      "45\n",
      "50\n"
     ]
    }
   ],
   "source": [
    "i = 30\n",
    "while i<70:\n",
    "    print(i)\n",
    "    if i>45:\n",
    "        break\n",
    "    i+=5\n",
    "# 30 35 40,45,50"
   ]
  },
  {
   "cell_type": "markdown",
   "id": "f2ab6f0b",
   "metadata": {},
   "source": [
    "#### continue - The moment continue is encountered, it takes the progranm control to the beginning of the loop"
   ]
  },
  {
   "cell_type": "code",
   "execution_count": 49,
   "id": "3df46cef",
   "metadata": {},
   "outputs": [
    {
     "name": "stdout",
     "output_type": "stream",
     "text": [
      "10 11 13 14 16 17 19 "
     ]
    }
   ],
   "source": [
    "for i in range(10,20):  # start=10,end=20,step=+1\n",
    "    if i%3==0:          # 12, 15, 18\n",
    "        continue\n",
    "    else:\n",
    "        print(i,end=\" \")"
   ]
  },
  {
   "cell_type": "code",
   "execution_count": 50,
   "id": "cc2434c4",
   "metadata": {},
   "outputs": [
    {
     "name": "stdout",
     "output_type": "stream",
     "text": [
      "0\n",
      "1\n",
      "2\n"
     ]
    }
   ],
   "source": [
    "for i in range(3):\n",
    "    print(i)"
   ]
  },
  {
   "cell_type": "code",
   "execution_count": 51,
   "id": "1a3e3f3f",
   "metadata": {},
   "outputs": [
    {
     "name": "stdout",
     "output_type": "stream",
     "text": [
      "10\n",
      "11\n",
      "13\n",
      "14\n",
      "16\n",
      "17\n",
      "19\n"
     ]
    }
   ],
   "source": [
    "for i in range(10,20):\n",
    "    if i%3==0:  # 12, 15, 18\n",
    "        continue\n",
    "    else:\n",
    "        print(i)"
   ]
  },
  {
   "cell_type": "code",
   "execution_count": 52,
   "id": "9c8160cb",
   "metadata": {},
   "outputs": [
    {
     "name": "stdout",
     "output_type": "stream",
     "text": [
      "12\n",
      "15\n",
      "18\n"
     ]
    }
   ],
   "source": [
    "for i in range(10,20):\n",
    "    if i%3==0:  # 12, 15, 18\n",
    "        print(i)\n",
    "    else:\n",
    "        continue"
   ]
  },
  {
   "cell_type": "code",
   "execution_count": 53,
   "id": "c473863b",
   "metadata": {},
   "outputs": [
    {
     "name": "stdout",
     "output_type": "stream",
     "text": [
      "11\n",
      "12\n",
      "13\n",
      "14\n"
     ]
    }
   ],
   "source": [
    "i = 10\n",
    "while i<20:\n",
    "    i += 1\n",
    "    if i<15:\n",
    "        print(i)\n",
    "    else:\n",
    "        continue"
   ]
  }
 ],
 "metadata": {
  "kernelspec": {
   "display_name": "Python 3 (ipykernel)",
   "language": "python",
   "name": "python3"
  },
  "language_info": {
   "codemirror_mode": {
    "name": "ipython",
    "version": 3
   },
   "file_extension": ".py",
   "mimetype": "text/x-python",
   "name": "python",
   "nbconvert_exporter": "python",
   "pygments_lexer": "ipython3",
   "version": "3.10.2"
  }
 },
 "nbformat": 4,
 "nbformat_minor": 5
}
