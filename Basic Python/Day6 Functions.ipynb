{
 "cells": [
  {
   "cell_type": "markdown",
   "id": "293d4677",
   "metadata": {},
   "source": [
    "### Functions\n",
    "1) Functions facilitate resuability of code.<br>\n",
    "2) They prevent code repetition<br>\n",
    "3) They make the code modular<br>\n",
    "\n",
    "\n",
    "#### Types of Functions\n",
    "1) Built-in Function - print(),input(),len(),type(), list().append()<br>\n",
    "\n",
    "2) User Defined Functions<br>\n",
    "They are created by user/developers to solve a probelem statement"
   ]
  },
  {
   "cell_type": "markdown",
   "id": "70e4f4ab",
   "metadata": {},
   "source": [
    "### User Defined Functions\n",
    "\n",
    "They consist of two parts<br>\n",
    "1) Function definition<br>\n",
    "2) Function calling - Functions are called using function name"
   ]
  },
  {
   "cell_type": "markdown",
   "id": "47d1e1bd",
   "metadata": {},
   "source": [
    "### Non-Parameterised Functions"
   ]
  },
  {
   "cell_type": "markdown",
   "id": "0c4c89c6",
   "metadata": {},
   "source": [
    "#### Write a function to print sum of two numbers"
   ]
  },
  {
   "cell_type": "code",
   "execution_count": 1,
   "id": "9ec0cbca",
   "metadata": {},
   "outputs": [],
   "source": [
    "# Function Definition\n",
    "def sum_2_no():\n",
    "    n1 = int(input('Enter 1st number: '))\n",
    "    n2 = int(input('Enter 2nd number: '))\n",
    "    print(f'Sum of {n1} and {n2} is {n1+n2}')"
   ]
  },
  {
   "cell_type": "code",
   "execution_count": 2,
   "id": "daa0b392",
   "metadata": {},
   "outputs": [
    {
     "name": "stdout",
     "output_type": "stream",
     "text": [
      "Enter 1st number: 31\n",
      "Enter 2nd number: 43\n",
      "Sum of 31 and 43 is 74\n"
     ]
    }
   ],
   "source": [
    "# Function calling\n",
    "sum_2_no()"
   ]
  },
  {
   "cell_type": "code",
   "execution_count": 3,
   "id": "a53676f4",
   "metadata": {},
   "outputs": [
    {
     "name": "stdout",
     "output_type": "stream",
     "text": [
      "Enter 1st number: 34\n",
      "Enter 2nd number: 23\n",
      "Sum of 34 and 23 is 57\n"
     ]
    }
   ],
   "source": [
    "sum_2_no()"
   ]
  },
  {
   "cell_type": "markdown",
   "id": "743e5e2e",
   "metadata": {},
   "source": [
    "#### WAF to print area of circle using its radius as user input"
   ]
  },
  {
   "cell_type": "code",
   "execution_count": 4,
   "id": "765cb4ba",
   "metadata": {},
   "outputs": [],
   "source": [
    "# Function definition\n",
    "pi = 3.14\n",
    "def area_circle():\n",
    "    r = int(input('Enter radius: '))\n",
    "    area = pi*r*r\n",
    "    print(f'Area of circle with radius {r} is {area} sq units')"
   ]
  },
  {
   "cell_type": "code",
   "execution_count": 5,
   "id": "6b065472",
   "metadata": {},
   "outputs": [
    {
     "name": "stdout",
     "output_type": "stream",
     "text": [
      "Enter radius: 5\n",
      "Area of circle with radius 5 is 78.5 sq units\n"
     ]
    }
   ],
   "source": [
    "# Function calling\n",
    "area_circle()"
   ]
  },
  {
   "cell_type": "markdown",
   "id": "ca243b59",
   "metadata": {},
   "source": [
    "#### WAF to print the diagonal and perimter of rectangle given length and area as user inputs"
   ]
  },
  {
   "cell_type": "code",
   "execution_count": 6,
   "id": "346f3e14",
   "metadata": {},
   "outputs": [],
   "source": [
    "def diag_peri():\n",
    "    l = int(input('Enter length of reactangle: '))\n",
    "    area = int(input('Enter area of reactangle: '))\n",
    "    b = area/l\n",
    "    print('Breadth of rect turn out to be',b)\n",
    "    diag = (l**2 + b**2)**(0.5)\n",
    "    perim = 2*(l + b)\n",
    "    print(f'Diagnoal of rect is {diag} and perimter is {perim}')"
   ]
  },
  {
   "cell_type": "code",
   "execution_count": 7,
   "id": "60e4be77",
   "metadata": {},
   "outputs": [
    {
     "name": "stdout",
     "output_type": "stream",
     "text": [
      "Enter length of reactangle: 4\n",
      "Enter area of reactangle: 64\n",
      "Breadth of rect turn out to be 16.0\n",
      "Diagnoal of rect is 16.492422502470642 and perimter is 40.0\n"
     ]
    }
   ],
   "source": [
    "diag_peri()"
   ]
  },
  {
   "cell_type": "markdown",
   "id": "b4b75950",
   "metadata": {},
   "source": [
    "#### WAF to compute speed given distance and time as user inputs"
   ]
  },
  {
   "cell_type": "code",
   "execution_count": 8,
   "id": "210a4e8a",
   "metadata": {},
   "outputs": [],
   "source": [
    "def compute_speed():\n",
    "    dis = int(input('Enter distance in km: '))\n",
    "    time = int(input('Enter time in hrs: '))\n",
    "    speed = dis/time\n",
    "    print(f'Speed is {speed} km/h')  "
   ]
  },
  {
   "cell_type": "code",
   "execution_count": 9,
   "id": "9b71ce1c",
   "metadata": {},
   "outputs": [
    {
     "name": "stdout",
     "output_type": "stream",
     "text": [
      "Enter distance in km: 18\n",
      "Enter time in hrs: 5\n",
      "Speed is 3.6 km/h\n"
     ]
    }
   ],
   "source": [
    "compute_speed()"
   ]
  },
  {
   "cell_type": "markdown",
   "id": "c68553a1",
   "metadata": {},
   "source": [
    "### Parameterised Functions"
   ]
  },
  {
   "cell_type": "code",
   "execution_count": 10,
   "id": "1f91d23e",
   "metadata": {},
   "outputs": [
    {
     "name": "stdout",
     "output_type": "stream",
     "text": [
      "Prod of 5 and 7 is 35\n",
      "Prod of 4 and 8 is 32\n",
      "Prod of 3 and 9 is 27\n",
      "Prod of 2 and 6 is 12\n"
     ]
    },
    {
     "ename": "TypeError",
     "evalue": "prod_2_no() missing 1 required positional argument: 'b'",
     "output_type": "error",
     "traceback": [
      "\u001b[1;31m---------------------------------------------------------------------------\u001b[0m",
      "\u001b[1;31mTypeError\u001b[0m                                 Traceback (most recent call last)",
      "Input \u001b[1;32mIn [10]\u001b[0m, in \u001b[0;36m<module>\u001b[1;34m\u001b[0m\n\u001b[0;32m      8\u001b[0m prod_2_no(a\u001b[38;5;241m=\u001b[39m\u001b[38;5;241m3\u001b[39m,b\u001b[38;5;241m=\u001b[39m\u001b[38;5;241m9\u001b[39m)   \u001b[38;5;66;03m# a=3,b=9\u001b[39;00m\n\u001b[0;32m      9\u001b[0m prod_2_no(b\u001b[38;5;241m=\u001b[39m\u001b[38;5;241m6\u001b[39m,a\u001b[38;5;241m=\u001b[39m\u001b[38;5;241m2\u001b[39m)   \u001b[38;5;66;03m# a=2,b=6\u001b[39;00m\n\u001b[1;32m---> 10\u001b[0m \u001b[43mprod_2_no\u001b[49m\u001b[43m(\u001b[49m\u001b[38;5;241;43m7\u001b[39;49m\u001b[43m)\u001b[49m\n",
      "\u001b[1;31mTypeError\u001b[0m: prod_2_no() missing 1 required positional argument: 'b'"
     ]
    }
   ],
   "source": [
    "# a and b are the parameters of the function\n",
    "def prod_2_no(a,b):\n",
    "    prod = a*b\n",
    "    print(f'Prod of {a} and {b} is {prod}')\n",
    "    \n",
    "prod_2_no(5,7)       # a=5,b=7\n",
    "prod_2_no(4,8)       # a=4,b=8\n",
    "prod_2_no(a=3,b=9)   # a=3,b=9\n",
    "prod_2_no(b=6,a=2)   # a=2,b=6\n",
    "prod_2_no(7)         # a=7"
   ]
  },
  {
   "cell_type": "code",
   "execution_count": 11,
   "id": "ee61e692",
   "metadata": {},
   "outputs": [
    {
     "ename": "TypeError",
     "evalue": "can't multiply sequence by non-int of type 'str'",
     "output_type": "error",
     "traceback": [
      "\u001b[1;31m---------------------------------------------------------------------------\u001b[0m",
      "\u001b[1;31mTypeError\u001b[0m                                 Traceback (most recent call last)",
      "Input \u001b[1;32mIn [11]\u001b[0m, in \u001b[0;36m<module>\u001b[1;34m\u001b[0m\n\u001b[1;32m----> 1\u001b[0m \u001b[43mprod_2_no\u001b[49m\u001b[43m(\u001b[49m\u001b[38;5;124;43m'\u001b[39;49m\u001b[38;5;124;43mA\u001b[39;49m\u001b[38;5;124;43m'\u001b[39;49m\u001b[43m,\u001b[49m\u001b[38;5;124;43m\"\u001b[39;49m\u001b[38;5;124;43mb\u001b[39;49m\u001b[38;5;124;43m\"\u001b[39;49m\u001b[43m)\u001b[49m\n",
      "Input \u001b[1;32mIn [10]\u001b[0m, in \u001b[0;36mprod_2_no\u001b[1;34m(a, b)\u001b[0m\n\u001b[0;32m      2\u001b[0m \u001b[38;5;28;01mdef\u001b[39;00m \u001b[38;5;21mprod_2_no\u001b[39m(a,b):\n\u001b[1;32m----> 3\u001b[0m     prod \u001b[38;5;241m=\u001b[39m \u001b[43ma\u001b[49m\u001b[38;5;241;43m*\u001b[39;49m\u001b[43mb\u001b[49m\n\u001b[0;32m      4\u001b[0m     \u001b[38;5;28mprint\u001b[39m(\u001b[38;5;124mf\u001b[39m\u001b[38;5;124m'\u001b[39m\u001b[38;5;124mProd of \u001b[39m\u001b[38;5;132;01m{\u001b[39;00ma\u001b[38;5;132;01m}\u001b[39;00m\u001b[38;5;124m and \u001b[39m\u001b[38;5;132;01m{\u001b[39;00mb\u001b[38;5;132;01m}\u001b[39;00m\u001b[38;5;124m is \u001b[39m\u001b[38;5;132;01m{\u001b[39;00mprod\u001b[38;5;132;01m}\u001b[39;00m\u001b[38;5;124m'\u001b[39m)\n",
      "\u001b[1;31mTypeError\u001b[0m: can't multiply sequence by non-int of type 'str'"
     ]
    }
   ],
   "source": [
    "prod_2_no('A',\"b\")"
   ]
  },
  {
   "cell_type": "code",
   "execution_count": 12,
   "id": "fa1a8a59",
   "metadata": {},
   "outputs": [
    {
     "name": "stdout",
     "output_type": "stream",
     "text": [
      "Prod of 3 and 10 is 30\n",
      "Prod of 10 and 3 is 30\n"
     ]
    }
   ],
   "source": [
    "m,n=10,3\n",
    "prod_2_no(n,m) # the value of n is considered as a, the value of m is considered as b\n",
    "prod_2_no(m,n) \n"
   ]
  },
  {
   "cell_type": "code",
   "execution_count": 13,
   "id": "e80dd14a",
   "metadata": {},
   "outputs": [
    {
     "name": "stdout",
     "output_type": "stream",
     "text": [
      "Prod of 7.3 and 4 is 29.2\n"
     ]
    }
   ],
   "source": [
    "prod_2_no(7.3,4)"
   ]
  },
  {
   "cell_type": "markdown",
   "id": "75f21d06",
   "metadata": {},
   "source": [
    "#### WAF to check if a given number is even or odd"
   ]
  },
  {
   "cell_type": "code",
   "execution_count": 14,
   "id": "26cbbabb",
   "metadata": {},
   "outputs": [
    {
     "name": "stdout",
     "output_type": "stream",
     "text": [
      "58 is even\n",
      "37 is odd\n"
     ]
    }
   ],
   "source": [
    "def even_odd(n):\n",
    "    if n%2==0:\n",
    "        print(f'{n} is even')\n",
    "    else:\n",
    "        print(n,'is odd')\n",
    "        \n",
    "even_odd(58)\n",
    "even_odd(37)"
   ]
  },
  {
   "cell_type": "markdown",
   "id": "b2ce94da",
   "metadata": {},
   "source": [
    "#### WAF to check to split the number"
   ]
  },
  {
   "cell_type": "code",
   "execution_count": 15,
   "id": "02273b4d",
   "metadata": {},
   "outputs": [
    {
     "name": "stdout",
     "output_type": "stream",
     "text": [
      "['2019', '06', '22']\n",
      "2019\n",
      "06\n",
      "2\n"
     ]
    }
   ],
   "source": [
    "date = \"2019-06-22\"\n",
    "res = date.split('-')\n",
    "print(res)\n",
    "print(res[0])\n",
    "print(res[1])\n",
    "print(res[0][0])"
   ]
  },
  {
   "cell_type": "markdown",
   "id": "94330316",
   "metadata": {},
   "source": [
    "#### WAF to accpet full name(first name and last name) from the user. The function should return the initials of the name\n",
    "Sample Input:   Abhijeet Trivedi<br>\n",
    "Smaple Output:  AT"
   ]
  },
  {
   "cell_type": "code",
   "execution_count": 16,
   "id": "d80edaf5",
   "metadata": {},
   "outputs": [
    {
     "name": "stdout",
     "output_type": "stream",
     "text": [
      "['Virat', 'Kohli']\n",
      "VK"
     ]
    }
   ],
   "source": [
    "def return_initials(name):\n",
    "    r = name.split()  # split() will split the name based on empty space\n",
    "    print(r)\n",
    "    # r is a list\n",
    "    for i in range(len(r)):  # i=0,1\n",
    "        print(r[i][0].upper(),end=\"\")\n",
    "        \n",
    "return_initials('Virat Kohli')  # r =['Virat','Kohli']"
   ]
  },
  {
   "cell_type": "code",
   "execution_count": 17,
   "id": "59fc7a7d",
   "metadata": {},
   "outputs": [
    {
     "name": "stdout",
     "output_type": "stream",
     "text": [
      "['elon', 'musk']\n",
      "EM"
     ]
    }
   ],
   "source": [
    "return_initials('elon musk')"
   ]
  },
  {
   "cell_type": "code",
   "execution_count": 18,
   "id": "cf166ed6",
   "metadata": {},
   "outputs": [
    {
     "name": "stdout",
     "output_type": "stream",
     "text": [
      "['Messi', 'is', 'light', 'years', 'ahead', 'of', 'Ronaldo']\n",
      "['Mess', ' ', 's l', 'ght years ahead of Ronaldo']\n"
     ]
    }
   ],
   "source": [
    "s = \"Messi is light years ahead of Ronaldo\"\n",
    "print(s.split())    # splitting on empty space\n",
    "print(s.split('i'))"
   ]
  },
  {
   "cell_type": "markdown",
   "id": "435ef108",
   "metadata": {},
   "source": [
    "#### WAF to the print the table of a number(from 1 to 10) provided  the number as argument"
   ]
  },
  {
   "cell_type": "code",
   "execution_count": 19,
   "id": "48440aee",
   "metadata": {},
   "outputs": [
    {
     "name": "stdout",
     "output_type": "stream",
     "text": [
      "10 * 1 = 10\n",
      "10 * 2 = 20\n",
      "10 * 3 = 30\n",
      "10 * 4 = 40\n",
      "10 * 5 = 50\n",
      "10 * 6 = 60\n",
      "10 * 7 = 70\n",
      "10 * 8 = 80\n",
      "10 * 9 = 90\n",
      "10 * 10 = 100\n"
     ]
    }
   ],
   "source": [
    "def tablen(n):\n",
    "    for i in range(1,11):\n",
    "        print(f'{n} * {i} = {n*i}')\n",
    "        \n",
    "tablen(10)"
   ]
  },
  {
   "cell_type": "code",
   "execution_count": 20,
   "id": "854543b6",
   "metadata": {},
   "outputs": [
    {
     "name": "stdout",
     "output_type": "stream",
     "text": [
      "23 * 1 = 23\n",
      "23 * 2 = 46\n",
      "23 * 3 = 69\n",
      "23 * 4 = 92\n",
      "23 * 5 = 115\n",
      "23 * 6 = 138\n",
      "23 * 7 = 161\n",
      "23 * 8 = 184\n",
      "23 * 9 = 207\n",
      "23 * 10 = 230\n"
     ]
    }
   ],
   "source": [
    "tablen(23)"
   ]
  },
  {
   "cell_type": "markdown",
   "id": "0eab7c9d",
   "metadata": {},
   "source": [
    "#### WAF to compute SI and Amount given P,R and T as its argument"
   ]
  },
  {
   "cell_type": "code",
   "execution_count": 21,
   "id": "71cfc12f",
   "metadata": {},
   "outputs": [],
   "source": [
    "def compute_SI_Amt(p,r,t):\n",
    "    si = (p*r*t)/100\n",
    "    amt = p + si\n",
    "    print(f'SI is {si} when P={p}, R={r}% and T={t} yrs')\n",
    "    print(f'Amount recieved after {t} yrs is {amt}')"
   ]
  },
  {
   "cell_type": "code",
   "execution_count": 22,
   "id": "4a659ff2",
   "metadata": {},
   "outputs": [
    {
     "name": "stdout",
     "output_type": "stream",
     "text": [
      "SI is 200.0 when P=1000, R=4% and T=5 yrs\n",
      "Amount recieved after 5 yrs is 1200.0\n"
     ]
    }
   ],
   "source": [
    "compute_SI_Amt(1000,4,5)"
   ]
  },
  {
   "cell_type": "markdown",
   "id": "1bea456b",
   "metadata": {},
   "source": [
    "#### Positional Arguments and Default arguments\n",
    "\n",
    "Default arguments - parameters initailzed by default values in the function definition. They are used when the corresponding argument is not passed while function is called"
   ]
  },
  {
   "cell_type": "code",
   "execution_count": 23,
   "id": "02be9071",
   "metadata": {},
   "outputs": [
    {
     "name": "stdout",
     "output_type": "stream",
     "text": [
      "9\n",
      "11\n"
     ]
    }
   ],
   "source": [
    "def f1(a,b=3):\n",
    "    print(a+b)\n",
    "    \n",
    "f1(4,5) # a=4,b=5\n",
    "f1(8)   # a=8, b=3"
   ]
  },
  {
   "cell_type": "code",
   "execution_count": 24,
   "id": "0a3e3a60",
   "metadata": {},
   "outputs": [
    {
     "name": "stdout",
     "output_type": "stream",
     "text": [
      "220\n",
      "30\n",
      "15\n",
      "23\n",
      "5\n"
     ]
    }
   ],
   "source": [
    "def f2(a=2,b=3,c=5,d=4):\n",
    "    r = (a+b) *(c-d)\n",
    "    print(r)\n",
    "    \n",
    "f2(10,12,15,5) # a=10,b=12,c=15,d=5\n",
    "f2(7,8,6)      # a=7,b=8,c=6,d=4\n",
    "f2(7,8)        # a=7,b=8,c=5,d=4\n",
    "f2(20)         # a=20, b=3,c=5,d=4\n",
    "f2()"
   ]
  },
  {
   "cell_type": "code",
   "execution_count": 25,
   "id": "70307a27",
   "metadata": {},
   "outputs": [
    {
     "name": "stdout",
     "output_type": "stream",
     "text": [
      "25\n",
      "27\n"
     ]
    }
   ],
   "source": [
    "def f3(a,b,c=7,d=5):\n",
    "    r = a+b+c+d\n",
    "    print(r)\n",
    "\n",
    "f3(10,3)  # a=10,b=3,c=7,d=5\n",
    "f3(b=10,a=5)"
   ]
  },
  {
   "cell_type": "code",
   "execution_count": 26,
   "id": "fda9c05e",
   "metadata": {},
   "outputs": [
    {
     "ename": "SyntaxError",
     "evalue": "non-default argument follows default argument (3982153985.py, line 1)",
     "output_type": "error",
     "traceback": [
      "\u001b[1;36m  Input \u001b[1;32mIn [26]\u001b[1;36m\u001b[0m\n\u001b[1;33m    def f4(a=10,b):\u001b[0m\n\u001b[1;37m                ^\u001b[0m\n\u001b[1;31mSyntaxError\u001b[0m\u001b[1;31m:\u001b[0m non-default argument follows default argument\n"
     ]
    }
   ],
   "source": [
    "def f4(a=10,b):\n",
    "    r = a*b\n",
    "    print(r)\n",
    "    \n",
    "f4(12,5)"
   ]
  },
  {
   "cell_type": "code",
   "execution_count": 27,
   "id": "cf95341e",
   "metadata": {},
   "outputs": [
    {
     "name": "stdout",
     "output_type": "stream",
     "text": [
      "32\n",
      "60\n"
     ]
    }
   ],
   "source": [
    "def f4(b,a=10):\n",
    "    r = a*b\n",
    "    print(r)\n",
    "    \n",
    "f4(8,4)\n",
    "f4(6)"
   ]
  },
  {
   "cell_type": "markdown",
   "id": "d4c67619",
   "metadata": {},
   "source": [
    "#### While defining the functions with arguments\n",
    "1) Postional arguments have be defined first(in left to right order) and then followed by default arguments."
   ]
  },
  {
   "cell_type": "markdown",
   "id": "5275faa1",
   "metadata": {},
   "source": [
    "### return keyword\n",
    "1) return is only used inside functions<br>\n",
    "2) return has to be the last statement in a function<br>\n",
    "3) return can be used only once in a function(excluding the if-elif-else condition)<br>\n",
    "4) if multiple return statements are used, only the first one is the valid statement<br>\n",
    "5) return cannot be used to generate a sequence<br>\n",
    "6) Any code written below the return keyword will not get executed<br>"
   ]
  },
  {
   "cell_type": "code",
   "execution_count": 28,
   "id": "95f4f914",
   "metadata": {},
   "outputs": [
    {
     "name": "stdout",
     "output_type": "stream",
     "text": [
      "Ankit_Chaturvedi\n"
     ]
    }
   ],
   "source": [
    "def gen_fullname(fn,ln):\n",
    "    fullname = fn + \"_\" + ln\n",
    "    return fullname\n",
    "\n",
    "res = gen_fullname('Ankit','Chaturvedi')\n",
    "print(res)"
   ]
  },
  {
   "cell_type": "code",
   "execution_count": 29,
   "id": "6419ea52",
   "metadata": {},
   "outputs": [
    {
     "data": {
      "text/plain": [
       "'Shreya_Singh'"
      ]
     },
     "execution_count": 29,
     "metadata": {},
     "output_type": "execute_result"
    }
   ],
   "source": [
    "gen_fullname('Shreya','Singh')"
   ]
  },
  {
   "cell_type": "code",
   "execution_count": 30,
   "id": "5451737c",
   "metadata": {},
   "outputs": [
    {
     "name": "stdout",
     "output_type": "stream",
     "text": [
      "37\n"
     ]
    }
   ],
   "source": [
    "def f5(a,b,c):\n",
    "    return (a*b)-c\n",
    "\n",
    "r = f5(8,5,3)\n",
    "print(r)"
   ]
  },
  {
   "cell_type": "code",
   "execution_count": 31,
   "id": "68f0b54e",
   "metadata": {},
   "outputs": [
    {
     "name": "stdout",
     "output_type": "stream",
     "text": [
      "12 35\n"
     ]
    }
   ],
   "source": [
    "def f6(a,b):\n",
    "    s = a+b\n",
    "    p = a*b\n",
    "    return s,p\n",
    "\n",
    "x,y = f6(5,7)\n",
    "print(x,y)"
   ]
  },
  {
   "cell_type": "markdown",
   "id": "53e6df39",
   "metadata": {},
   "source": [
    "#### If multiple return statements are used, only the first return statement is considered valid return"
   ]
  },
  {
   "cell_type": "code",
   "execution_count": 32,
   "id": "619f75e3",
   "metadata": {},
   "outputs": [
    {
     "name": "stdout",
     "output_type": "stream",
     "text": [
      "37\n"
     ]
    }
   ],
   "source": [
    "def f5(a,b,c):\n",
    "    return (a*b)-c\n",
    "    return 'Hello'\n",
    "\n",
    "r = f5(8,5,3)\n",
    "print(r)"
   ]
  },
  {
   "cell_type": "markdown",
   "id": "f8de8f3d",
   "metadata": {},
   "source": [
    "#### Return cannot generate a sequence"
   ]
  },
  {
   "cell_type": "code",
   "execution_count": 33,
   "id": "aed6f5d3",
   "metadata": {},
   "outputs": [
    {
     "name": "stdout",
     "output_type": "stream",
     "text": [
      "5 6 7 8 9 "
     ]
    }
   ],
   "source": [
    "def f6():\n",
    "    for i in range(5,10):\n",
    "        print(i,end =\" \")\n",
    "\n",
    "f6()"
   ]
  },
  {
   "cell_type": "code",
   "execution_count": 34,
   "id": "9d5a04f4",
   "metadata": {},
   "outputs": [
    {
     "name": "stdout",
     "output_type": "stream",
     "text": [
      "7\n"
     ]
    }
   ],
   "source": [
    "def f7():\n",
    "    for i in range(7,10):\n",
    "        return i\n",
    "\n",
    "r = f7()\n",
    "print(r)"
   ]
  },
  {
   "cell_type": "code",
   "execution_count": 35,
   "id": "5cfbf0c7",
   "metadata": {},
   "outputs": [
    {
     "data": {
      "text/plain": [
       "10"
      ]
     },
     "execution_count": 35,
     "metadata": {},
     "output_type": "execute_result"
    }
   ],
   "source": [
    "w = 10\n",
    "w"
   ]
  },
  {
   "cell_type": "code",
   "execution_count": 36,
   "id": "509af4de",
   "metadata": {},
   "outputs": [
    {
     "name": "stdout",
     "output_type": "stream",
     "text": [
      "Learning Python\n",
      "Hello World\n"
     ]
    }
   ],
   "source": [
    "def f8():\n",
    "    print('Learning Python')\n",
    "    return \"Hello World\"\n",
    "    \n",
    "\n",
    "r = f8()\n",
    "print(r)"
   ]
  }
 ],
 "metadata": {
  "kernelspec": {
   "display_name": "Python 3 (ipykernel)",
   "language": "python",
   "name": "python3"
  },
  "language_info": {
   "codemirror_mode": {
    "name": "ipython",
    "version": 3
   },
   "file_extension": ".py",
   "mimetype": "text/x-python",
   "name": "python",
   "nbconvert_exporter": "python",
   "pygments_lexer": "ipython3",
   "version": "3.10.2"
  }
 },
 "nbformat": 4,
 "nbformat_minor": 5
}
